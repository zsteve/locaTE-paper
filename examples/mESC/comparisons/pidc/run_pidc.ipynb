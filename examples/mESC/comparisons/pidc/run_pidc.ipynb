{
 "cells": [
  {
   "cell_type": "code",
   "execution_count": 1,
   "id": "70ddbe67-6abd-4e2b-8307-d8981d18533f",
   "metadata": {},
   "outputs": [
    {
     "name": "stderr",
     "output_type": "stream",
     "text": [
      "\u001b[32m\u001b[1m  Activating\u001b[22m\u001b[39m project at `/data/gpfs/projects/punim0638/stephenz/locaTE-paper/examples/mESC/comparisons/pidc/pidc_env`\n"
     ]
    }
   ],
   "source": [
    "using Pkg\n",
    "Pkg.activate(\"pidc_env\")"
   ]
  },
  {
   "cell_type": "code",
   "execution_count": 2,
   "id": "d54af1f9-8977-456b-9c68-b500b4c18463",
   "metadata": {},
   "outputs": [],
   "source": [
    "using NetworkInference\n",
    "using DataFrames\n",
    "using Plots\n",
    "using CSV\n",
    "using NPZ\n",
    "using StatsBase\n",
    "using LinearAlgebra"
   ]
  },
  {
   "cell_type": "code",
   "execution_count": 3,
   "id": "07953793-9264-4380-91bf-c27c65768696",
   "metadata": {},
   "outputs": [
    {
     "data": {
      "text/plain": [
       "\"X.csv\""
      ]
     },
     "execution_count": 3,
     "metadata": {},
     "output_type": "execute_result"
    }
   ],
   "source": [
    "DATA_PATH=\"../../../../data/mESC/\"\n",
    "idx = Colon()\n",
    "X = npzread(string(DATA_PATH, \"X.npy\"))[:, idx]\n",
    "try\n",
    "    global genes = Array(CSV.read(string(DATA_PATH, \"genes.txt\"), DataFrame)[:, 2])[idx];\n",
    "catch e\n",
    "    global genes = [\"gene_$i\" for i = 1:size(X, 2)];\n",
    "end\n",
    "df = DataFrame(X')\n",
    "insertcols!(df, 1, :gene => genes)\n",
    "CSV.write(\"X.csv\", df, delim = \"\\t\")"
   ]
  },
  {
   "cell_type": "code",
   "execution_count": 4,
   "id": "d9664f51-b9d2-4227-bca8-755177204125",
   "metadata": {},
   "outputs": [
    {
     "name": "stdout",
     "output_type": "stream",
     "text": [
      "Getting nodes...\n",
      "Inferring network...\n"
     ]
    }
   ],
   "source": [
    "n = infer_network(\"X.csv\", PIDCNetworkInference(), discretizer = \"bayesian_blocks\");\n",
    "w = [e.weight for e in n.edges]\n",
    "e = [(e.nodes[1].label, e.nodes[2].label) for e in n.edges];\n",
    "A = zeros(size(X, 2), size(X, 2))\n",
    "for (w_, e_) in zip(w, e)\n",
    "    A[findfirst(x -> x == e_[1], genes)[1], \n",
    "      findfirst(x -> x == e_[2], genes)[1]] = w_\n",
    "end\n",
    "A = A + A';\n",
    "npzwrite(\"G_pidc.npy\", A)"
   ]
  },
  {
   "cell_type": "code",
   "execution_count": null,
   "id": "186fcdb5-3d96-4ada-9202-e9a2f9b1b31e",
   "metadata": {},
   "outputs": [],
   "source": []
  }
 ],
 "metadata": {
  "kernelspec": {
   "display_name": "Julia 1.8.4",
   "language": "julia",
   "name": "julia-1.8"
  },
  "language_info": {
   "file_extension": ".jl",
   "mimetype": "application/julia",
   "name": "julia",
   "version": "1.8.4"
  },
  "widgets": {
   "application/vnd.jupyter.widget-state+json": {
    "state": {},
    "version_major": 2,
    "version_minor": 0
   }
  }
 },
 "nbformat": 4,
 "nbformat_minor": 5
}
