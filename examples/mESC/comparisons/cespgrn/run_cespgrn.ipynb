{
 "cells": [
  {
   "cell_type": "code",
   "execution_count": 4,
   "id": "e66793e7-1197-4a21-8508-3e4b1bebf8ed",
   "metadata": {},
   "outputs": [],
   "source": [
    "import sys, os\n",
    "sys.path.append(\"../../../../tools/CeSpGRN/src\")\n",
    "import numpy as np\n",
    "import g_admm as cg\n",
    "import kernel\n",
    "import torch\n",
    "device = torch.device(\"cuda\" if torch.cuda.is_available() else \"cpu\")\n",
    "DATA_DIR = \"../../../../data/mESC/\""
   ]
  },
  {
   "cell_type": "code",
   "execution_count": 5,
   "id": "ef67355b-54f3-40a9-a722-ee1d76a92e56",
   "metadata": {},
   "outputs": [],
   "source": [
    "counts = np.load(DATA_DIR + \"X.npy\")\n",
    "idx = range(0, counts.shape[1])\n",
    "counts = counts[:, idx]\n",
    "X_pca= np.load(DATA_DIR + \"X_pca.npy\")\n",
    "\n",
    "k = 25\n",
    "bandwidth = 5\n",
    "lamda = 0.1"
   ]
  },
  {
   "cell_type": "code",
   "execution_count": 6,
   "id": "5d8e2ac7-d211-4e84-b402-a955d8f3ad14",
   "metadata": {},
   "outputs": [
    {
     "name": "stdout",
     "output_type": "stream",
     "text": [
      "final number of nearest neighbor (make connected): 5\n"
     ]
    }
   ],
   "source": [
    "K, K_trun = kernel.calc_kernel_neigh(X_pca, k = 5, bandwidth = bandwidth, truncate = True, truncate_param = k)\n",
    "empir_cov = cg.est_cov(X = counts, K_trun = K_trun, weighted_kt = True)"
   ]
  },
  {
   "cell_type": "code",
   "execution_count": 7,
   "id": "4b24aa2a-4df9-4798-a4f5-9d52ed647ed2",
   "metadata": {},
   "outputs": [
    {
     "name": "stdout",
     "output_type": "stream",
     "text": [
      "start running batch 0\n",
      "n_iter: 100, duality gap: 9.8671e-08, primal residual: 3.5484e-07, dual residual: 1.461327e-06, loss1: 1.182537e+04, loss2: 1.317282e+04, loss3: 0.0000e+00\n",
      "Batch loss: loss1: 11825.36523, loss2: 13172.81641, loss3: 0.00000\n",
      "Finished running batch 0, running time: 55.79 sec\n",
      "start running batch 1\n",
      "n_iter: 100, duality gap: 9.1846e-08, primal residual: 3.4219e-07, dual residual: 1.542164e-06, loss1: 1.180861e+04, loss2: 1.319254e+04, loss3: 0.0000e+00\n",
      "Batch loss: loss1: 11808.61035, loss2: 13192.53906, loss3: 0.00000\n",
      "Finished running batch 1, running time: 42.36 sec\n",
      "start running batch 2\n",
      "n_iter: 100, duality gap: 1.2058e-07, primal residual: 3.3685e-07, dual residual: 1.461828e-06, loss1: 1.181657e+04, loss2: 1.315532e+04, loss3: 0.0000e+00\n",
      "Batch loss: loss1: 11816.56641, loss2: 13155.31836, loss3: 0.00000\n",
      "Finished running batch 2, running time: 45.60 sec\n",
      "start running batch 3\n",
      "n_iter: 100, duality gap: 1.0729e-07, primal residual: 3.5098e-07, dual residual: 1.450034e-06, loss1: 1.184070e+04, loss2: 1.318729e+04, loss3: 0.0000e+00\n",
      "Batch loss: loss1: 11840.69727, loss2: 13187.29492, loss3: 0.00000\n",
      "Finished running batch 3, running time: 47.48 sec\n",
      "start running batch 4\n",
      "n_iter: 100, duality gap: 8.7970e-08, primal residual: 3.3857e-07, dual residual: 1.407131e-06, loss1: 6.639048e+03, loss2: 7.389278e+03, loss3: 0.0000e+00\n",
      "Batch loss: loss1: 6639.04785, loss2: 7389.27783, loss3: 0.00000\n",
      "Finished running batch 4, running time: 25.25 sec\n"
     ]
    }
   ],
   "source": [
    "cespgrn = cg.G_admm_minibatch(X=counts[:, None, :], K=K, pre_cov=empir_cov, batchsize = 100)\n",
    "thetas = cespgrn.train(max_iters=2500, n_intervals=100, lamb=lamda)"
   ]
  },
  {
   "cell_type": "code",
   "execution_count": 9,
   "id": "e5f91c03-182e-4a0e-9e91-7a05adce2c4d",
   "metadata": {},
   "outputs": [],
   "source": [
    "np.save(\"G_cespgrn.npy\", thetas.reshape(thetas.shape[0], -1))"
   ]
  }
 ],
 "metadata": {
  "kernelspec": {
   "display_name": "Python (py37)",
   "language": "python",
   "name": "py37"
  },
  "language_info": {
   "codemirror_mode": {
    "name": "ipython",
    "version": 3
   },
   "file_extension": ".py",
   "mimetype": "text/x-python",
   "name": "python",
   "nbconvert_exporter": "python",
   "pygments_lexer": "ipython3",
   "version": "3.7.9"
  },
  "widgets": {
   "application/vnd.jupyter.widget-state+json": {
    "state": {},
    "version_major": 2,
    "version_minor": 0
   }
  }
 },
 "nbformat": 4,
 "nbformat_minor": 5
}
