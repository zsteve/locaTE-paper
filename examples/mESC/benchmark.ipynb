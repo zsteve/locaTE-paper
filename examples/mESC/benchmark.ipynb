{
 "cells": [
  {
   "cell_type": "code",
   "execution_count": null,
   "id": "b6b0290f-d415-489a-8678-ca646fd939fe",
   "metadata": {},
   "outputs": [],
   "source": [
    "ENV[\"PYTHON\"] = \"/home/stephenz/base_env/bin/python\"\n",
    "using locaTE\n",
    "using OptimalTransport\n",
    "using NPZ\n",
    "using StatsBase\n",
    "using SparseArrays\n",
    "using ProgressMeter\n",
    "import locaTE as scN\n",
    "using NearestNeighbors\n",
    "using Graphs\n",
    "using GraphSignals\n",
    "using Printf\n",
    "using Base.Threads\n",
    "using LinearAlgebra\n",
    "using DataFrames\n",
    "using CSV\n",
    "using Distances\n",
    "using NNlib\n",
    "using Discretizers\n",
    "using EvalMetrics\n",
    "using Random\n",
    "using BenchmarkTools"
   ]
  },
  {
   "cell_type": "code",
   "execution_count": 3,
   "id": "ab5ef9b9-6a22-40a1-ad79-3dd61e9275f8",
   "metadata": {},
   "outputs": [],
   "source": [
    "DATA_PATH=\"../data/\"\n",
    "cd(DATA_PATH)\n",
    "X = npzread(\"X.npy\")\n",
    "X = relu.(X .- 1e-2);"
   ]
  },
  {
   "cell_type": "code",
   "execution_count": 4,
   "id": "b0472b7c-8683-48ab-8b8a-5278244ccff4",
   "metadata": {},
   "outputs": [],
   "source": [
    "try\n",
    "    global genes = Array(CSV.read(\"genes.txt\", DataFrame)[:, 2])\n",
    "catch e\n",
    "    @info \"Exception: $e\"\n",
    "    global genes = [\"gene_$i\" for i = 1:size(X, 2)];\n",
    "end\n",
    "X_pca = npzread(\"X_pca.npy\")\n",
    "X_umap = npzread(\"X_umap.npy\")\n",
    "X_fle = npzread(\"X_fle.npy\")\n",
    "P = npzread(\"P_statot.npy\")\n",
    "C = npzread(\"C.npy\");\n",
    "dpt = npzread(\"dpt.npy\");\n",
    "J = npzread(\"J.npy\");\n",
    "J[diagind(J)] .= 0;\n",
    "J_escape = npzread(\"J_ESCAPE.npy\");\n",
    "J_escape[diagind(J_escape)] .= 0;"
   ]
  },
  {
   "cell_type": "code",
   "execution_count": 5,
   "id": "2d7595e1-ac59-47cc-a2c0-3eacd4420282",
   "metadata": {},
   "outputs": [],
   "source": [
    "# select gene subset\n",
    "id = Colon()\n",
    "X = X[:, id]\n",
    "J = J[id, :][:, id]\n",
    "J_escape = J_escape[id, :][:, id]\n",
    "genes = genes[id];"
   ]
  },
  {
   "cell_type": "code",
   "execution_count": 6,
   "id": "fe895cf4-873e-49e0-87c7-5d8f091800bb",
   "metadata": {},
   "outputs": [],
   "source": [
    "R = quadreg(ones(size(X, 1)), ones(size(X, 1)), C, 2.5*mean(C));\n",
    "gene_idxs = vcat([[j, i]' for i = 1:size(X, 2) for j = 1:size(X, 2)]...);\n",
    "\n",
    "k = 1\n",
    "π_unif = fill(1/size(P, 1), size(P, 1))'\n",
    "Q = (P' .* π_unif)./(π_unif * P)';\n",
    "P_sp = sparse((P^k))\n",
    "QT_sp = sparse((Q^k)')\n",
    "R_sp = sparse(R);"
   ]
  },
  {
   "cell_type": "code",
   "execution_count": 7,
   "id": "b19fcbba-f8b8-4236-92df-1b19a33b2b5f",
   "metadata": {},
   "outputs": [],
   "source": [
    "# construct kNN and Laplacian\n",
    "kdtree = KDTree(X_pca')\n",
    "idxs, dists = knn(kdtree, X_pca', 25);\n",
    "A = spzeros(size(X_pca, 1), size(X_pca, 1));\n",
    "for (i, j) in enumerate(idxs)\n",
    "    A[i, j] .= 1.0\n",
    "end\n",
    "L = sparse(normalized_laplacian(max.(A, A'), Float64));"
   ]
  },
  {
   "cell_type": "code",
   "execution_count": 8,
   "id": "2d33ca01-7c8a-4817-98cd-9c65794c500f",
   "metadata": {},
   "outputs": [],
   "source": [
    "alg = DiscretizeBayesianBlocks()\n",
    "disc = scN.discretizations_bulk(X; alg = alg);"
   ]
  },
  {
   "cell_type": "code",
   "execution_count": 9,
   "id": "73dd1bb7-ff97-432f-8335-a75025e36787",
   "metadata": {},
   "outputs": [
    {
     "data": {
      "text/plain": [
       "BenchmarkTools.Trial: 6 samples with 1 evaluation.\n",
       " Range \u001b[90m(\u001b[39m\u001b[36m\u001b[1mmin\u001b[22m\u001b[39m … \u001b[35mmax\u001b[39m\u001b[90m):  \u001b[39m\u001b[36m\u001b[1m823.366 ms\u001b[22m\u001b[39m … \u001b[35m857.810 ms\u001b[39m  \u001b[90m┊\u001b[39m GC \u001b[90m(\u001b[39mmin … max\u001b[90m): \u001b[39m3.86% … 5.11%\n",
       " Time  \u001b[90m(\u001b[39m\u001b[34m\u001b[1mmedian\u001b[22m\u001b[39m\u001b[90m):     \u001b[39m\u001b[34m\u001b[1m847.350 ms               \u001b[22m\u001b[39m\u001b[90m┊\u001b[39m GC \u001b[90m(\u001b[39mmedian\u001b[90m):    \u001b[39m4.74%\n",
       " Time  \u001b[90m(\u001b[39m\u001b[32m\u001b[1mmean\u001b[22m\u001b[39m ± \u001b[32mσ\u001b[39m\u001b[90m):   \u001b[39m\u001b[32m\u001b[1m845.058 ms\u001b[22m\u001b[39m ± \u001b[32m 12.784 ms\u001b[39m  \u001b[90m┊\u001b[39m GC \u001b[90m(\u001b[39mmean ± σ\u001b[90m):  \u001b[39m4.66% ± 0.43%\n",
       "\n",
       "  \u001b[39m█\u001b[39m \u001b[39m \u001b[39m \u001b[39m \u001b[39m \u001b[39m \u001b[39m \u001b[39m \u001b[39m \u001b[39m \u001b[39m \u001b[39m \u001b[39m \u001b[39m \u001b[39m \u001b[39m \u001b[39m \u001b[39m \u001b[39m \u001b[39m \u001b[39m \u001b[39m \u001b[39m \u001b[39m \u001b[39m \u001b[39m \u001b[39m█\u001b[39m \u001b[39m \u001b[39m \u001b[39m \u001b[39m \u001b[39m \u001b[39m \u001b[39m█\u001b[34m \u001b[39m\u001b[39m \u001b[32m \u001b[39m\u001b[39m \u001b[39m \u001b[39m \u001b[39m \u001b[39m \u001b[39m \u001b[39m \u001b[39m \u001b[39m \u001b[39m \u001b[39m█\u001b[39m \u001b[39m \u001b[39m \u001b[39m \u001b[39m \u001b[39m \u001b[39m█\u001b[39m \u001b[39m \u001b[39m \u001b[39m█\u001b[39m \u001b[39m \n",
       "  \u001b[39m█\u001b[39m▁\u001b[39m▁\u001b[39m▁\u001b[39m▁\u001b[39m▁\u001b[39m▁\u001b[39m▁\u001b[39m▁\u001b[39m▁\u001b[39m▁\u001b[39m▁\u001b[39m▁\u001b[39m▁\u001b[39m▁\u001b[39m▁\u001b[39m▁\u001b[39m▁\u001b[39m▁\u001b[39m▁\u001b[39m▁\u001b[39m▁\u001b[39m▁\u001b[39m▁\u001b[39m▁\u001b[39m▁\u001b[39m▁\u001b[39m█\u001b[39m▁\u001b[39m▁\u001b[39m▁\u001b[39m▁\u001b[39m▁\u001b[39m▁\u001b[39m▁\u001b[39m█\u001b[34m▁\u001b[39m\u001b[39m▁\u001b[32m▁\u001b[39m\u001b[39m▁\u001b[39m▁\u001b[39m▁\u001b[39m▁\u001b[39m▁\u001b[39m▁\u001b[39m▁\u001b[39m▁\u001b[39m▁\u001b[39m▁\u001b[39m█\u001b[39m▁\u001b[39m▁\u001b[39m▁\u001b[39m▁\u001b[39m▁\u001b[39m▁\u001b[39m█\u001b[39m▁\u001b[39m▁\u001b[39m▁\u001b[39m█\u001b[39m \u001b[39m▁\n",
       "  823 ms\u001b[90m           Histogram: frequency by time\u001b[39m          858 ms \u001b[0m\u001b[1m<\u001b[22m\n",
       "\n",
       " Memory estimate\u001b[90m: \u001b[39m\u001b[33m2.18 GiB\u001b[39m, allocs estimate\u001b[90m: \u001b[39m\u001b[33m210243\u001b[39m."
      ]
     },
     "execution_count": 9,
     "metadata": {},
     "output_type": "execute_result"
    }
   ],
   "source": [
    "@benchmark get_MI($X, $(compute_coupling(X, 1, P_sp, QT_sp, R_sp)), $gene_idxs[:, 1], $gene_idxs[:, 2]; disc = $disc, alg = $alg)"
   ]
  },
  {
   "cell_type": "code",
   "execution_count": 10,
   "id": "02ed6a80-1486-4424-970f-49929dee4fec",
   "metadata": {},
   "outputs": [],
   "source": [
    "# directed inference using GPU\n",
    "using CUDA\n",
    "disc_max_size = maximum(map(x -> length(x[1])-1, disc))\n",
    "N_blocks = 1\n",
    "joint_cache = get_joint_cache(size(X, 2) ÷ N_blocks, disc_max_size);\n",
    "ids_cu = hcat(map(x -> x[2], disc) ...) |> cu;"
   ]
  },
  {
   "cell_type": "code",
   "execution_count": 11,
   "id": "904c739b-6a05-449f-8927-9f7e91644695",
   "metadata": {},
   "outputs": [],
   "source": [
    "P_cu = cu(Array(P_sp))\n",
    "QT_cu = cu(Array(QT_sp))\n",
    "R_cu = cu(Array(R_sp));"
   ]
  },
  {
   "cell_type": "code",
   "execution_count": 15,
   "id": "e3bd8c79-e66d-4cbf-b91b-39dc17f57578",
   "metadata": {},
   "outputs": [
    {
     "data": {
      "text/plain": [
       "BenchmarkTools.Trial: 858 samples with 1 evaluation.\n",
       " Range \u001b[90m(\u001b[39m\u001b[36m\u001b[1mmin\u001b[22m\u001b[39m … \u001b[35mmax\u001b[39m\u001b[90m):  \u001b[39m\u001b[36m\u001b[1m4.475 ms\u001b[22m\u001b[39m … \u001b[35m51.671 ms\u001b[39m  \u001b[90m┊\u001b[39m GC \u001b[90m(\u001b[39mmin … max\u001b[90m): \u001b[39m0.00% … 49.46%\n",
       " Time  \u001b[90m(\u001b[39m\u001b[34m\u001b[1mmedian\u001b[22m\u001b[39m\u001b[90m):     \u001b[39m\u001b[34m\u001b[1m5.771 ms              \u001b[22m\u001b[39m\u001b[90m┊\u001b[39m GC \u001b[90m(\u001b[39mmedian\u001b[90m):    \u001b[39m0.00%\n",
       " Time  \u001b[90m(\u001b[39m\u001b[32m\u001b[1mmean\u001b[22m\u001b[39m ± \u001b[32mσ\u001b[39m\u001b[90m):   \u001b[39m\u001b[32m\u001b[1m5.820 ms\u001b[22m\u001b[39m ± \u001b[32m 1.633 ms\u001b[39m  \u001b[90m┊\u001b[39m GC \u001b[90m(\u001b[39mmean ± σ\u001b[90m):  \u001b[39m0.51% ±  1.69%\n",
       "\n",
       "  \u001b[39m \u001b[39m \u001b[39m \u001b[39m \u001b[39m \u001b[39m \u001b[39m \u001b[39m \u001b[39m \u001b[39m \u001b[39m \u001b[39m \u001b[39m \u001b[39m \u001b[39m \u001b[39m \u001b[39m \u001b[39m \u001b[39m \u001b[39m \u001b[39m \u001b[39m \u001b[39m \u001b[39m \u001b[39m \u001b[39m \u001b[39m \u001b[39m \u001b[39m \u001b[39m \u001b[39m \u001b[39m \u001b[39m \u001b[39m▁\u001b[39m \u001b[39m▂\u001b[39m▁\u001b[39m▃\u001b[39m▂\u001b[39m \u001b[39m \u001b[39m▁\u001b[39m▄\u001b[39m█\u001b[39m▄\u001b[34m▇\u001b[39m\u001b[39m▄\u001b[32m▆\u001b[39m\u001b[39m▅\u001b[39m▆\u001b[39m▅\u001b[39m▆\u001b[39m▅\u001b[39m▂\u001b[39m \u001b[39m \u001b[39m \u001b[39m \u001b[39m \u001b[39m \n",
       "  \u001b[39m▂\u001b[39m▁\u001b[39m▁\u001b[39m▁\u001b[39m▁\u001b[39m▁\u001b[39m▁\u001b[39m▁\u001b[39m▁\u001b[39m▁\u001b[39m▁\u001b[39m▁\u001b[39m▁\u001b[39m▁\u001b[39m▁\u001b[39m▁\u001b[39m▁\u001b[39m▁\u001b[39m▁\u001b[39m▁\u001b[39m▁\u001b[39m▁\u001b[39m▁\u001b[39m▁\u001b[39m▁\u001b[39m▁\u001b[39m▁\u001b[39m▂\u001b[39m▃\u001b[39m▃\u001b[39m▅\u001b[39m▄\u001b[39m▇\u001b[39m█\u001b[39m█\u001b[39m█\u001b[39m█\u001b[39m█\u001b[39m█\u001b[39m█\u001b[39m█\u001b[39m█\u001b[39m█\u001b[39m█\u001b[39m█\u001b[34m█\u001b[39m\u001b[39m█\u001b[32m█\u001b[39m\u001b[39m█\u001b[39m█\u001b[39m█\u001b[39m█\u001b[39m█\u001b[39m█\u001b[39m▆\u001b[39m█\u001b[39m▆\u001b[39m▄\u001b[39m \u001b[39m▄\n",
       "  4.48 ms\u001b[90m        Histogram: frequency by time\u001b[39m        6.13 ms \u001b[0m\u001b[1m<\u001b[22m\n",
       "\n",
       " Memory estimate\u001b[90m: \u001b[39m\u001b[33m49.55 KiB\u001b[39m, allocs estimate\u001b[90m: \u001b[39m\u001b[33m922\u001b[39m."
      ]
     },
     "execution_count": 15,
     "metadata": {},
     "output_type": "execute_result"
    }
   ],
   "source": [
    "mi_all_gpu = zeros(Float32, size(X, 1), size(X, 2), size(X, 2)) |> cu\n",
    "i = 1\n",
    "gamma, idx0, idx1 = scN.getcoupling_dense_trimmed(i, P_cu, QT_cu, R_cu) \n",
    "(N_x, N_y), (offset_x, offset_y) = first(scN.getblocks(size(X, 2), N_blocks, N_blocks))\n",
    "\n",
    "@benchmark get_MI!($(view(mi_all_gpu, i, :, :)), $joint_cache, $gamma, $size(X, 2), \n",
    "                    $ids_cu[idx0, :], $ids_cu[idx1, :]; \n",
    "                    offset_x = $offset_x, N_x = $N_x, offset_y = $offset_y, N_y = $N_y)"
   ]
  },
  {
   "cell_type": "code",
   "execution_count": null,
   "id": "c37c319f-3ee9-4dff-acbe-d14cd1421f84",
   "metadata": {},
   "outputs": [],
   "source": []
  }
 ],
 "metadata": {
  "kernelspec": {
   "display_name": "Julia 1.8.4",
   "language": "julia",
   "name": "julia-1.8"
  },
  "language_info": {
   "file_extension": ".jl",
   "mimetype": "application/julia",
   "name": "julia",
   "version": "1.8.4"
  },
  "widgets": {
   "application/vnd.jupyter.widget-state+json": {
    "state": {},
    "version_major": 2,
    "version_minor": 0
   }
  }
 },
 "nbformat": 4,
 "nbformat_minor": 5
}
