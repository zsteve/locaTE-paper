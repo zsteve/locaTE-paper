{
 "cells": [
  {
   "cell_type": "code",
   "execution_count": 1,
   "id": "84a62804-d27a-4fad-93bf-11080638174b",
   "metadata": {},
   "outputs": [
    {
     "name": "stderr",
     "output_type": "stream",
     "text": [
      "\u001b[32m\u001b[1m   Resolving\u001b[22m\u001b[39m package versions...\n",
      "\u001b[32m\u001b[1m  No Changes\u001b[22m\u001b[39m to `~/.julia/environments/v1.8/Project.toml`\n",
      "\u001b[32m\u001b[1m  No Changes\u001b[22m\u001b[39m to `~/.julia/environments/v1.8/Manifest.toml`\n"
     ]
    }
   ],
   "source": [
    "using Revise\n",
    "using Pkg\n",
    "Pkg.develop(path=\"/home/stephenz/stephenz/locaTE.jl\")"
   ]
  },
  {
   "cell_type": "code",
   "execution_count": 2,
   "id": "6bb0fb91-309c-4198-919c-0b9d1d26e154",
   "metadata": {},
   "outputs": [],
   "source": [
    "using NPZ\n",
    "using locaTE\n",
    "using NearestNeighbors\n",
    "using Graphs\n",
    "using GraphSignals\n",
    "using SparseArrays\n",
    "using LinearAlgebra\n",
    "using Plots\n",
    "using StatsBase\n",
    "using CUDA"
   ]
  },
  {
   "cell_type": "code",
   "execution_count": 3,
   "id": "42f7a5ee-b9ee-4377-acc8-bf6f1855fb66",
   "metadata": {},
   "outputs": [],
   "source": [
    "DATA_DIR = \"../../data/HSPC/\"\n",
    "X = npzread(string(DATA_DIR, \"X.npy\"));\n",
    "X_pca = npzread(string(DATA_DIR, \"X_pca.npy\"));\n",
    "X_umap = npzread(string(DATA_DIR, \"X_umap.npy\"));\n",
    "P = npzread(string(DATA_DIR, \"P_kappavelo.npy\"));\n",
    "dpt = npzread(string(DATA_DIR, \"dpt.npy\"));\n",
    "R = npzread(string(DATA_DIR, \"R.npy\"));\n",
    "C = npzread(string(DATA_DIR, \"C.npy\"));"
   ]
  },
  {
   "cell_type": "code",
   "execution_count": 4,
   "id": "26ee4f22-147a-433d-abbc-2da9c98d57d5",
   "metadata": {},
   "outputs": [],
   "source": [
    "# construct kNN and Laplacian\n",
    "L = construct_normalized_laplacian(X_pca, 25);"
   ]
  },
  {
   "cell_type": "code",
   "execution_count": 5,
   "id": "79cb65a7-6b5b-4422-8ce5-b16f9f59e287",
   "metadata": {},
   "outputs": [],
   "source": [
    "TE = npzread(\"TE_locate_kappa.npy\");\n",
    "G = npzread(\"G_locate_kappa.npy\");"
   ]
  },
  {
   "cell_type": "code",
   "execution_count": 6,
   "id": "b14bbfd5-3af7-4db3-be28-09093fe08250",
   "metadata": {},
   "outputs": [],
   "source": [
    "using Random\n",
    "using NNlib"
   ]
  },
  {
   "cell_type": "code",
   "execution_count": 7,
   "id": "06bca290-a706-464f-956d-d45e2d914b17",
   "metadata": {},
   "outputs": [],
   "source": [
    "# NMF\n",
    "qnorm(x, q) = x ./ quantile(vec(x), q)\n",
    "Cg = cor(X).^2; Cg[diagind(Cg)] .= 0;\n",
    "# L = sparse(npzread(\"L_locate_kappa.npy\"));"
   ]
  },
  {
   "cell_type": "code",
   "execution_count": 8,
   "id": "6b3a9ad6-3394-4616-88da-fa5d926ab521",
   "metadata": {
    "tags": []
   },
   "outputs": [
    {
     "name": "stderr",
     "output_type": "stream",
     "text": [
      "\u001b[32mProgress: 100%|█████████████████████████████████████████| Time: 0:00:06\u001b[39m\n"
     ]
    }
   ],
   "source": [
    "A = reshape(maximum(G; dims = 1), size(X, 2), size(X, 2))\n",
    "G_cdf = apply_cdf_norm(G, A .+ 1e-9);\n",
    "npzwrite(\"G_cdf.npy\", G_cdf);"
   ]
  },
  {
   "cell_type": "code",
   "execution_count": 9,
   "id": "2d9978f0-f3f3-456e-ba34-a055b5dceeaa",
   "metadata": {
    "tags": []
   },
   "outputs": [],
   "source": [
    "G_static = reshape(mean(G; dims = 1), size(X, 2), size(X, 2))\n",
    "G_static_cdf = cdf_norm(G_static, G_static .+ 1e-9);\n",
    "npzwrite(\"G_static.npy\", G_static)\n",
    "npzwrite(\"G_static_cdf.npy\", G_static_cdf)"
   ]
  },
  {
   "cell_type": "code",
   "execution_count": 13,
   "id": "432196b6-c332-4c5f-9404-74eb58ebdde8",
   "metadata": {
    "tags": []
   },
   "outputs": [
    {
     "data": {
      "image/svg+xml": [
       "<?xml version=\"1.0\" encoding=\"utf-8\"?>\n",
       "<svg xmlns=\"http://www.w3.org/2000/svg\" xmlns:xlink=\"http://www.w3.org/1999/xlink\" width=\"600\" height=\"400\" viewBox=\"0 0 2400 1600\">\n",
       "<defs>\n",
       "  <clipPath id=\"clip100\">\n",
       "    <rect x=\"0\" y=\"0\" width=\"2400\" height=\"1600\"/>\n",
       "  </clipPath>\n",
       "</defs>\n",
       "<path clip-path=\"url(#clip100)\" d=\"M0 1600 L2400 1600 L2400 0 L0 0  Z\" fill=\"#ffffff\" fill-rule=\"evenodd\" fill-opacity=\"1\"/>\n",
       "<defs>\n",
       "  <clipPath id=\"clip101\">\n",
       "    <rect x=\"480\" y=\"0\" width=\"1681\" height=\"1600\"/>\n",
       "  </clipPath>\n",
       "</defs>\n",
       "<path clip-path=\"url(#clip100)\" d=\"M170.857 1486.45 L2352.76 1486.45 L2352.76 47.2441 L170.857 47.2441  Z\" fill=\"#ffffff\" fill-rule=\"evenodd\" fill-opacity=\"1\"/>\n",
       "<defs>\n",
       "  <clipPath id=\"clip102\">\n",
       "    <rect x=\"170\" y=\"47\" width=\"2183\" height=\"1440\"/>\n",
       "  </clipPath>\n",
       "</defs>\n",
       "<polyline clip-path=\"url(#clip102)\" style=\"stroke:#000000; stroke-linecap:round; stroke-linejoin:round; stroke-width:2; stroke-opacity:0.1; fill:none\" points=\"575.675,1486.45 575.675,47.2441 \"/>\n",
       "<polyline clip-path=\"url(#clip102)\" style=\"stroke:#000000; stroke-linecap:round; stroke-linejoin:round; stroke-width:2; stroke-opacity:0.1; fill:none\" points=\"1004.51,1486.45 1004.51,47.2441 \"/>\n",
       "<polyline clip-path=\"url(#clip102)\" style=\"stroke:#000000; stroke-linecap:round; stroke-linejoin:round; stroke-width:2; stroke-opacity:0.1; fill:none\" points=\"1433.34,1486.45 1433.34,47.2441 \"/>\n",
       "<polyline clip-path=\"url(#clip102)\" style=\"stroke:#000000; stroke-linecap:round; stroke-linejoin:round; stroke-width:2; stroke-opacity:0.1; fill:none\" points=\"1862.17,1486.45 1862.17,47.2441 \"/>\n",
       "<polyline clip-path=\"url(#clip102)\" style=\"stroke:#000000; stroke-linecap:round; stroke-linejoin:round; stroke-width:2; stroke-opacity:0.1; fill:none\" points=\"2291,1486.45 2291,47.2441 \"/>\n",
       "<polyline clip-path=\"url(#clip100)\" style=\"stroke:#000000; stroke-linecap:round; stroke-linejoin:round; stroke-width:4; stroke-opacity:1; fill:none\" points=\"170.857,1486.45 2352.76,1486.45 \"/>\n",
       "<polyline clip-path=\"url(#clip100)\" style=\"stroke:#000000; stroke-linecap:round; stroke-linejoin:round; stroke-width:4; stroke-opacity:1; fill:none\" points=\"575.675,1486.45 575.675,1467.55 \"/>\n",
       "<polyline clip-path=\"url(#clip100)\" style=\"stroke:#000000; stroke-linecap:round; stroke-linejoin:round; stroke-width:4; stroke-opacity:1; fill:none\" points=\"1004.51,1486.45 1004.51,1467.55 \"/>\n",
       "<polyline clip-path=\"url(#clip100)\" style=\"stroke:#000000; stroke-linecap:round; stroke-linejoin:round; stroke-width:4; stroke-opacity:1; fill:none\" points=\"1433.34,1486.45 1433.34,1467.55 \"/>\n",
       "<polyline clip-path=\"url(#clip100)\" style=\"stroke:#000000; stroke-linecap:round; stroke-linejoin:round; stroke-width:4; stroke-opacity:1; fill:none\" points=\"1862.17,1486.45 1862.17,1467.55 \"/>\n",
       "<polyline clip-path=\"url(#clip100)\" style=\"stroke:#000000; stroke-linecap:round; stroke-linejoin:round; stroke-width:4; stroke-opacity:1; fill:none\" points=\"2291,1486.45 2291,1467.55 \"/>\n",
       "<path clip-path=\"url(#clip100)\" d=\"M565.953 1514.29 L584.309 1514.29 L584.309 1518.22 L570.235 1518.22 L570.235 1526.7 Q571.254 1526.35 572.272 1526.19 Q573.291 1526 574.309 1526 Q580.096 1526 583.476 1529.17 Q586.856 1532.34 586.856 1537.76 Q586.856 1543.34 583.383 1546.44 Q579.911 1549.52 573.592 1549.52 Q571.416 1549.52 569.147 1549.15 Q566.902 1548.78 564.495 1548.04 L564.495 1543.34 Q566.578 1544.47 568.8 1545.03 Q571.022 1545.58 573.499 1545.58 Q577.504 1545.58 579.842 1543.48 Q582.18 1541.37 582.18 1537.76 Q582.18 1534.15 579.842 1532.04 Q577.504 1529.94 573.499 1529.94 Q571.624 1529.94 569.749 1530.35 Q567.897 1530.77 565.953 1531.65 L565.953 1514.29 Z\" fill=\"#000000\" fill-rule=\"nonzero\" fill-opacity=\"1\" /><path clip-path=\"url(#clip100)\" d=\"M979.195 1544.91 L986.834 1544.91 L986.834 1518.55 L978.524 1520.21 L978.524 1515.95 L986.787 1514.29 L991.463 1514.29 L991.463 1544.91 L999.102 1544.91 L999.102 1548.85 L979.195 1548.85 L979.195 1544.91 Z\" fill=\"#000000\" fill-rule=\"nonzero\" fill-opacity=\"1\" /><path clip-path=\"url(#clip100)\" d=\"M1018.55 1517.37 Q1014.94 1517.37 1013.11 1520.93 Q1011.3 1524.47 1011.3 1531.6 Q1011.3 1538.71 1013.11 1542.27 Q1014.94 1545.82 1018.55 1545.82 Q1022.18 1545.82 1023.99 1542.27 Q1025.82 1538.71 1025.82 1531.6 Q1025.82 1524.47 1023.99 1520.93 Q1022.18 1517.37 1018.55 1517.37 M1018.55 1513.66 Q1024.36 1513.66 1027.41 1518.27 Q1030.49 1522.85 1030.49 1531.6 Q1030.49 1540.33 1027.41 1544.94 Q1024.36 1549.52 1018.55 1549.52 Q1012.74 1549.52 1009.66 1544.94 Q1006.6 1540.33 1006.6 1531.6 Q1006.6 1522.85 1009.66 1518.27 Q1012.74 1513.66 1018.55 1513.66 Z\" fill=\"#000000\" fill-rule=\"nonzero\" fill-opacity=\"1\" /><path clip-path=\"url(#clip100)\" d=\"M1408.52 1544.91 L1416.16 1544.91 L1416.16 1518.55 L1407.85 1520.21 L1407.85 1515.95 L1416.12 1514.29 L1420.79 1514.29 L1420.79 1544.91 L1428.43 1544.91 L1428.43 1548.85 L1408.52 1548.85 L1408.52 1544.91 Z\" fill=\"#000000\" fill-rule=\"nonzero\" fill-opacity=\"1\" /><path clip-path=\"url(#clip100)\" d=\"M1437.92 1514.29 L1456.28 1514.29 L1456.28 1518.22 L1442.21 1518.22 L1442.21 1526.7 Q1443.22 1526.35 1444.24 1526.19 Q1445.26 1526 1446.28 1526 Q1452.07 1526 1455.45 1529.17 Q1458.83 1532.34 1458.83 1537.76 Q1458.83 1543.34 1455.35 1546.44 Q1451.88 1549.52 1445.56 1549.52 Q1443.39 1549.52 1441.12 1549.15 Q1438.87 1548.78 1436.46 1548.04 L1436.46 1543.34 Q1438.55 1544.47 1440.77 1545.03 Q1442.99 1545.58 1445.47 1545.58 Q1449.47 1545.58 1451.81 1543.48 Q1454.15 1541.37 1454.15 1537.76 Q1454.15 1534.15 1451.81 1532.04 Q1449.47 1529.94 1445.47 1529.94 Q1443.59 1529.94 1441.72 1530.35 Q1439.87 1530.77 1437.92 1531.65 L1437.92 1514.29 Z\" fill=\"#000000\" fill-rule=\"nonzero\" fill-opacity=\"1\" /><path clip-path=\"url(#clip100)\" d=\"M1840.95 1544.91 L1857.26 1544.91 L1857.26 1548.85 L1835.32 1548.85 L1835.32 1544.91 Q1837.98 1542.16 1842.57 1537.53 Q1847.17 1532.88 1848.35 1531.53 Q1850.6 1529.01 1851.48 1527.27 Q1852.38 1525.51 1852.38 1523.82 Q1852.38 1521.07 1850.44 1519.33 Q1848.51 1517.6 1845.41 1517.6 Q1843.21 1517.6 1840.76 1518.36 Q1838.33 1519.13 1835.55 1520.68 L1835.55 1515.95 Q1838.38 1514.82 1840.83 1514.24 Q1843.28 1513.66 1845.32 1513.66 Q1850.69 1513.66 1853.88 1516.35 Q1857.08 1519.03 1857.08 1523.52 Q1857.08 1525.65 1856.27 1527.57 Q1855.48 1529.47 1853.38 1532.07 Q1852.8 1532.74 1849.7 1535.95 Q1846.59 1539.15 1840.95 1544.91 Z\" fill=\"#000000\" fill-rule=\"nonzero\" fill-opacity=\"1\" /><path clip-path=\"url(#clip100)\" d=\"M1877.08 1517.37 Q1873.47 1517.37 1871.64 1520.93 Q1869.83 1524.47 1869.83 1531.6 Q1869.83 1538.71 1871.64 1542.27 Q1873.47 1545.82 1877.08 1545.82 Q1880.71 1545.82 1882.52 1542.27 Q1884.35 1538.71 1884.35 1531.6 Q1884.35 1524.47 1882.52 1520.93 Q1880.71 1517.37 1877.08 1517.37 M1877.08 1513.66 Q1882.89 1513.66 1885.94 1518.27 Q1889.02 1522.85 1889.02 1531.6 Q1889.02 1540.33 1885.94 1544.94 Q1882.89 1549.52 1877.08 1549.52 Q1871.27 1549.52 1868.19 1544.94 Q1865.13 1540.33 1865.13 1531.6 Q1865.13 1522.85 1868.19 1518.27 Q1871.27 1513.66 1877.08 1513.66 Z\" fill=\"#000000\" fill-rule=\"nonzero\" fill-opacity=\"1\" /><path clip-path=\"url(#clip100)\" d=\"M2270.28 1544.91 L2286.59 1544.91 L2286.59 1548.85 L2264.65 1548.85 L2264.65 1544.91 Q2267.31 1542.16 2271.9 1537.53 Q2276.5 1532.88 2277.68 1531.53 Q2279.93 1529.01 2280.81 1527.27 Q2281.71 1525.51 2281.71 1523.82 Q2281.71 1521.07 2279.77 1519.33 Q2277.84 1517.6 2274.74 1517.6 Q2272.54 1517.6 2270.09 1518.36 Q2267.66 1519.13 2264.88 1520.68 L2264.88 1515.95 Q2267.71 1514.82 2270.16 1514.24 Q2272.61 1513.66 2274.65 1513.66 Q2280.02 1513.66 2283.21 1516.35 Q2286.41 1519.03 2286.41 1523.52 Q2286.41 1525.65 2285.6 1527.57 Q2284.81 1529.47 2282.71 1532.07 Q2282.13 1532.74 2279.02 1535.95 Q2275.92 1539.15 2270.28 1544.91 Z\" fill=\"#000000\" fill-rule=\"nonzero\" fill-opacity=\"1\" /><path clip-path=\"url(#clip100)\" d=\"M2296.46 1514.29 L2314.81 1514.29 L2314.81 1518.22 L2300.74 1518.22 L2300.74 1526.7 Q2301.76 1526.35 2302.77 1526.19 Q2303.79 1526 2304.81 1526 Q2310.6 1526 2313.98 1529.17 Q2317.36 1532.34 2317.36 1537.76 Q2317.36 1543.34 2313.89 1546.44 Q2310.41 1549.52 2304.09 1549.52 Q2301.92 1549.52 2299.65 1549.15 Q2297.4 1548.78 2295 1548.04 L2295 1543.34 Q2297.08 1544.47 2299.3 1545.03 Q2301.52 1545.58 2304 1545.58 Q2308.01 1545.58 2310.34 1543.48 Q2312.68 1541.37 2312.68 1537.76 Q2312.68 1534.15 2310.34 1532.04 Q2308.01 1529.94 2304 1529.94 Q2302.13 1529.94 2300.25 1530.35 Q2298.4 1530.77 2296.46 1531.65 L2296.46 1514.29 Z\" fill=\"#000000\" fill-rule=\"nonzero\" fill-opacity=\"1\" /><polyline clip-path=\"url(#clip102)\" style=\"stroke:#000000; stroke-linecap:round; stroke-linejoin:round; stroke-width:2; stroke-opacity:0.1; fill:none\" points=\"170.857,1461.2 2352.76,1461.2 \"/>\n",
       "<polyline clip-path=\"url(#clip102)\" style=\"stroke:#000000; stroke-linecap:round; stroke-linejoin:round; stroke-width:2; stroke-opacity:0.1; fill:none\" points=\"170.857,1133.6 2352.76,1133.6 \"/>\n",
       "<polyline clip-path=\"url(#clip102)\" style=\"stroke:#000000; stroke-linecap:round; stroke-linejoin:round; stroke-width:2; stroke-opacity:0.1; fill:none\" points=\"170.857,806.009 2352.76,806.009 \"/>\n",
       "<polyline clip-path=\"url(#clip102)\" style=\"stroke:#000000; stroke-linecap:round; stroke-linejoin:round; stroke-width:2; stroke-opacity:0.1; fill:none\" points=\"170.857,478.415 2352.76,478.415 \"/>\n",
       "<polyline clip-path=\"url(#clip102)\" style=\"stroke:#000000; stroke-linecap:round; stroke-linejoin:round; stroke-width:2; stroke-opacity:0.1; fill:none\" points=\"170.857,150.821 2352.76,150.821 \"/>\n",
       "<polyline clip-path=\"url(#clip100)\" style=\"stroke:#000000; stroke-linecap:round; stroke-linejoin:round; stroke-width:4; stroke-opacity:1; fill:none\" points=\"170.857,1486.45 170.857,47.2441 \"/>\n",
       "<polyline clip-path=\"url(#clip100)\" style=\"stroke:#000000; stroke-linecap:round; stroke-linejoin:round; stroke-width:4; stroke-opacity:1; fill:none\" points=\"170.857,1461.2 189.755,1461.2 \"/>\n",
       "<polyline clip-path=\"url(#clip100)\" style=\"stroke:#000000; stroke-linecap:round; stroke-linejoin:round; stroke-width:4; stroke-opacity:1; fill:none\" points=\"170.857,1133.6 189.755,1133.6 \"/>\n",
       "<polyline clip-path=\"url(#clip100)\" style=\"stroke:#000000; stroke-linecap:round; stroke-linejoin:round; stroke-width:4; stroke-opacity:1; fill:none\" points=\"170.857,806.009 189.755,806.009 \"/>\n",
       "<polyline clip-path=\"url(#clip100)\" style=\"stroke:#000000; stroke-linecap:round; stroke-linejoin:round; stroke-width:4; stroke-opacity:1; fill:none\" points=\"170.857,478.415 189.755,478.415 \"/>\n",
       "<polyline clip-path=\"url(#clip100)\" style=\"stroke:#000000; stroke-linecap:round; stroke-linejoin:round; stroke-width:4; stroke-opacity:1; fill:none\" points=\"170.857,150.821 189.755,150.821 \"/>\n",
       "<path clip-path=\"url(#clip100)\" d=\"M122.913 1447 Q119.302 1447 117.473 1450.56 Q115.668 1454.1 115.668 1461.23 Q115.668 1468.34 117.473 1471.9 Q119.302 1475.44 122.913 1475.44 Q126.547 1475.44 128.353 1471.9 Q130.182 1468.34 130.182 1461.23 Q130.182 1454.1 128.353 1450.56 Q126.547 1447 122.913 1447 M122.913 1443.29 Q128.723 1443.29 131.779 1447.9 Q134.857 1452.48 134.857 1461.23 Q134.857 1469.96 131.779 1474.56 Q128.723 1479.15 122.913 1479.15 Q117.103 1479.15 114.024 1474.56 Q110.969 1469.96 110.969 1461.23 Q110.969 1452.48 114.024 1447.9 Q117.103 1443.29 122.913 1443.29 Z\" fill=\"#000000\" fill-rule=\"nonzero\" fill-opacity=\"1\" /><path clip-path=\"url(#clip100)\" d=\"M82.7975 1116.32 L101.154 1116.32 L101.154 1120.26 L87.0799 1120.26 L87.0799 1128.73 Q88.0984 1128.38 89.1169 1128.22 Q90.1354 1128.04 91.1539 1128.04 Q96.941 1128.04 100.321 1131.21 Q103.7 1134.38 103.7 1139.8 Q103.7 1145.37 100.228 1148.48 Q96.7558 1151.55 90.4364 1151.55 Q88.2604 1151.55 85.9919 1151.18 Q83.7466 1150.81 81.3392 1150.07 L81.3392 1145.37 Q83.4225 1146.51 85.6447 1147.06 Q87.8669 1147.62 90.3438 1147.62 Q94.3484 1147.62 96.6863 1145.51 Q99.0243 1143.41 99.0243 1139.8 Q99.0243 1136.18 96.6863 1134.08 Q94.3484 1131.97 90.3438 1131.97 Q88.4688 1131.97 86.5938 1132.39 Q84.7419 1132.8 82.7975 1133.68 L82.7975 1116.32 Z\" fill=\"#000000\" fill-rule=\"nonzero\" fill-opacity=\"1\" /><path clip-path=\"url(#clip100)\" d=\"M122.913 1119.4 Q119.302 1119.4 117.473 1122.97 Q115.668 1126.51 115.668 1133.64 Q115.668 1140.74 117.473 1144.31 Q119.302 1147.85 122.913 1147.85 Q126.547 1147.85 128.353 1144.31 Q130.182 1140.74 130.182 1133.64 Q130.182 1126.51 128.353 1122.97 Q126.547 1119.4 122.913 1119.4 M122.913 1115.7 Q128.723 1115.7 131.779 1120.3 Q134.857 1124.89 134.857 1133.64 Q134.857 1142.36 131.779 1146.97 Q128.723 1151.55 122.913 1151.55 Q117.103 1151.55 114.024 1146.97 Q110.969 1142.36 110.969 1133.64 Q110.969 1124.89 114.024 1120.3 Q117.103 1115.7 122.913 1115.7 Z\" fill=\"#000000\" fill-rule=\"nonzero\" fill-opacity=\"1\" /><path clip-path=\"url(#clip100)\" d=\"M53.3995 819.354 L61.0384 819.354 L61.0384 792.988 L52.7282 794.655 L52.7282 790.396 L60.9921 788.729 L65.668 788.729 L65.668 819.354 L73.3068 819.354 L73.3068 823.289 L53.3995 823.289 L53.3995 819.354 Z\" fill=\"#000000\" fill-rule=\"nonzero\" fill-opacity=\"1\" /><path clip-path=\"url(#clip100)\" d=\"M92.7512 791.808 Q89.1401 791.808 87.3114 795.373 Q85.5058 798.914 85.5058 806.044 Q85.5058 813.15 87.3114 816.715 Q89.1401 820.257 92.7512 820.257 Q96.3854 820.257 98.1909 816.715 Q100.02 813.15 100.02 806.044 Q100.02 798.914 98.1909 795.373 Q96.3854 791.808 92.7512 791.808 M92.7512 788.104 Q98.5613 788.104 101.617 792.711 Q104.696 797.294 104.696 806.044 Q104.696 814.771 101.617 819.377 Q98.5613 823.961 92.7512 823.961 Q86.941 823.961 83.8623 819.377 Q80.8068 814.771 80.8068 806.044 Q80.8068 797.294 83.8623 792.711 Q86.941 788.104 92.7512 788.104 Z\" fill=\"#000000\" fill-rule=\"nonzero\" fill-opacity=\"1\" /><path clip-path=\"url(#clip100)\" d=\"M122.913 791.808 Q119.302 791.808 117.473 795.373 Q115.668 798.914 115.668 806.044 Q115.668 813.15 117.473 816.715 Q119.302 820.257 122.913 820.257 Q126.547 820.257 128.353 816.715 Q130.182 813.15 130.182 806.044 Q130.182 798.914 128.353 795.373 Q126.547 791.808 122.913 791.808 M122.913 788.104 Q128.723 788.104 131.779 792.711 Q134.857 797.294 134.857 806.044 Q134.857 814.771 131.779 819.377 Q128.723 823.961 122.913 823.961 Q117.103 823.961 114.024 819.377 Q110.969 814.771 110.969 806.044 Q110.969 797.294 114.024 792.711 Q117.103 788.104 122.913 788.104 Z\" fill=\"#000000\" fill-rule=\"nonzero\" fill-opacity=\"1\" /><path clip-path=\"url(#clip100)\" d=\"M53.3995 491.76 L61.0384 491.76 L61.0384 465.395 L52.7282 467.061 L52.7282 462.802 L60.9921 461.135 L65.668 461.135 L65.668 491.76 L73.3068 491.76 L73.3068 495.695 L53.3995 495.695 L53.3995 491.76 Z\" fill=\"#000000\" fill-rule=\"nonzero\" fill-opacity=\"1\" /><path clip-path=\"url(#clip100)\" d=\"M82.7975 461.135 L101.154 461.135 L101.154 465.071 L87.0799 465.071 L87.0799 473.543 Q88.0984 473.195 89.1169 473.033 Q90.1354 472.848 91.1539 472.848 Q96.941 472.848 100.321 476.02 Q103.7 479.191 103.7 484.607 Q103.7 490.186 100.228 493.288 Q96.7558 496.367 90.4364 496.367 Q88.2604 496.367 85.9919 495.996 Q83.7466 495.626 81.3392 494.885 L81.3392 490.186 Q83.4225 491.32 85.6447 491.876 Q87.8669 492.431 90.3438 492.431 Q94.3484 492.431 96.6863 490.325 Q99.0243 488.219 99.0243 484.607 Q99.0243 480.996 96.6863 478.89 Q94.3484 476.783 90.3438 476.783 Q88.4688 476.783 86.5938 477.2 Q84.7419 477.617 82.7975 478.496 L82.7975 461.135 Z\" fill=\"#000000\" fill-rule=\"nonzero\" fill-opacity=\"1\" /><path clip-path=\"url(#clip100)\" d=\"M122.913 464.214 Q119.302 464.214 117.473 467.779 Q115.668 471.32 115.668 478.45 Q115.668 485.557 117.473 489.121 Q119.302 492.663 122.913 492.663 Q126.547 492.663 128.353 489.121 Q130.182 485.557 130.182 478.45 Q130.182 471.32 128.353 467.779 Q126.547 464.214 122.913 464.214 M122.913 460.51 Q128.723 460.51 131.779 465.117 Q134.857 469.7 134.857 478.45 Q134.857 487.177 131.779 491.783 Q128.723 496.367 122.913 496.367 Q117.103 496.367 114.024 491.783 Q110.969 487.177 110.969 478.45 Q110.969 469.7 114.024 465.117 Q117.103 460.51 122.913 460.51 Z\" fill=\"#000000\" fill-rule=\"nonzero\" fill-opacity=\"1\" /><path clip-path=\"url(#clip100)\" d=\"M56.6171 164.166 L72.9365 164.166 L72.9365 168.101 L50.9921 168.101 L50.9921 164.166 Q53.6541 161.412 58.2375 156.782 Q62.8439 152.129 64.0245 150.787 Q66.2698 148.264 67.1494 146.528 Q68.0522 144.768 68.0522 143.078 Q68.0522 140.324 66.1078 138.588 Q64.1865 136.852 61.0847 136.852 Q58.8856 136.852 56.4319 137.616 Q54.0014 138.379 51.2236 139.93 L51.2236 135.208 Q54.0477 134.074 56.5014 133.495 Q58.955 132.916 60.9921 132.916 Q66.3624 132.916 69.5568 135.602 Q72.7513 138.287 72.7513 142.778 Q72.7513 144.907 71.9411 146.828 Q71.1541 148.727 69.0476 151.319 Q68.4689 151.99 65.367 155.208 Q62.2652 158.402 56.6171 164.166 Z\" fill=\"#000000\" fill-rule=\"nonzero\" fill-opacity=\"1\" /><path clip-path=\"url(#clip100)\" d=\"M92.7512 136.62 Q89.1401 136.62 87.3114 140.185 Q85.5058 143.727 85.5058 150.856 Q85.5058 157.963 87.3114 161.527 Q89.1401 165.069 92.7512 165.069 Q96.3854 165.069 98.1909 161.527 Q100.02 157.963 100.02 150.856 Q100.02 143.727 98.1909 140.185 Q96.3854 136.62 92.7512 136.62 M92.7512 132.916 Q98.5613 132.916 101.617 137.523 Q104.696 142.106 104.696 150.856 Q104.696 159.583 101.617 164.189 Q98.5613 168.773 92.7512 168.773 Q86.941 168.773 83.8623 164.189 Q80.8068 159.583 80.8068 150.856 Q80.8068 142.106 83.8623 137.523 Q86.941 132.916 92.7512 132.916 Z\" fill=\"#000000\" fill-rule=\"nonzero\" fill-opacity=\"1\" /><path clip-path=\"url(#clip100)\" d=\"M122.913 136.62 Q119.302 136.62 117.473 140.185 Q115.668 143.727 115.668 150.856 Q115.668 157.963 117.473 161.527 Q119.302 165.069 122.913 165.069 Q126.547 165.069 128.353 161.527 Q130.182 157.963 130.182 150.856 Q130.182 143.727 128.353 140.185 Q126.547 136.62 122.913 136.62 M122.913 132.916 Q128.723 132.916 131.779 137.523 Q134.857 142.106 134.857 150.856 Q134.857 159.583 131.779 164.189 Q128.723 168.773 122.913 168.773 Q117.103 168.773 114.024 164.189 Q110.969 159.583 110.969 150.856 Q110.969 142.106 114.024 137.523 Q117.103 132.916 122.913 132.916 Z\" fill=\"#000000\" fill-rule=\"nonzero\" fill-opacity=\"1\" /><circle clip-path=\"url(#clip102)\" cx=\"232.609\" cy=\"87.9763\" r=\"14.4\" fill=\"#009af9\" fill-rule=\"evenodd\" fill-opacity=\"1\" stroke=\"#000000\" stroke-opacity=\"1\" stroke-width=\"3.2\"/>\n",
       "<circle clip-path=\"url(#clip102)\" cx=\"318.376\" cy=\"1233.63\" r=\"14.4\" fill=\"#009af9\" fill-rule=\"evenodd\" fill-opacity=\"1\" stroke=\"#000000\" stroke-opacity=\"1\" stroke-width=\"3.2\"/>\n",
       "<circle clip-path=\"url(#clip102)\" cx=\"404.142\" cy=\"1287.96\" r=\"14.4\" fill=\"#009af9\" fill-rule=\"evenodd\" fill-opacity=\"1\" stroke=\"#000000\" stroke-opacity=\"1\" stroke-width=\"3.2\"/>\n",
       "<circle clip-path=\"url(#clip102)\" cx=\"489.909\" cy=\"1321.07\" r=\"14.4\" fill=\"#009af9\" fill-rule=\"evenodd\" fill-opacity=\"1\" stroke=\"#000000\" stroke-opacity=\"1\" stroke-width=\"3.2\"/>\n",
       "<circle clip-path=\"url(#clip102)\" cx=\"575.675\" cy=\"1357.63\" r=\"14.4\" fill=\"#009af9\" fill-rule=\"evenodd\" fill-opacity=\"1\" stroke=\"#000000\" stroke-opacity=\"1\" stroke-width=\"3.2\"/>\n",
       "<circle clip-path=\"url(#clip102)\" cx=\"661.442\" cy=\"1373.05\" r=\"14.4\" fill=\"#009af9\" fill-rule=\"evenodd\" fill-opacity=\"1\" stroke=\"#000000\" stroke-opacity=\"1\" stroke-width=\"3.2\"/>\n",
       "<circle clip-path=\"url(#clip102)\" cx=\"747.208\" cy=\"1378.69\" r=\"14.4\" fill=\"#009af9\" fill-rule=\"evenodd\" fill-opacity=\"1\" stroke=\"#000000\" stroke-opacity=\"1\" stroke-width=\"3.2\"/>\n",
       "<circle clip-path=\"url(#clip102)\" cx=\"832.974\" cy=\"1400.69\" r=\"14.4\" fill=\"#009af9\" fill-rule=\"evenodd\" fill-opacity=\"1\" stroke=\"#000000\" stroke-opacity=\"1\" stroke-width=\"3.2\"/>\n",
       "<circle clip-path=\"url(#clip102)\" cx=\"918.741\" cy=\"1408.31\" r=\"14.4\" fill=\"#009af9\" fill-rule=\"evenodd\" fill-opacity=\"1\" stroke=\"#000000\" stroke-opacity=\"1\" stroke-width=\"3.2\"/>\n",
       "<circle clip-path=\"url(#clip102)\" cx=\"1004.51\" cy=\"1415.18\" r=\"14.4\" fill=\"#009af9\" fill-rule=\"evenodd\" fill-opacity=\"1\" stroke=\"#000000\" stroke-opacity=\"1\" stroke-width=\"3.2\"/>\n",
       "<circle clip-path=\"url(#clip102)\" cx=\"1090.27\" cy=\"1418.95\" r=\"14.4\" fill=\"#009af9\" fill-rule=\"evenodd\" fill-opacity=\"1\" stroke=\"#000000\" stroke-opacity=\"1\" stroke-width=\"3.2\"/>\n",
       "<circle clip-path=\"url(#clip102)\" cx=\"1176.04\" cy=\"1425.47\" r=\"14.4\" fill=\"#009af9\" fill-rule=\"evenodd\" fill-opacity=\"1\" stroke=\"#000000\" stroke-opacity=\"1\" stroke-width=\"3.2\"/>\n",
       "<circle clip-path=\"url(#clip102)\" cx=\"1261.81\" cy=\"1429.37\" r=\"14.4\" fill=\"#009af9\" fill-rule=\"evenodd\" fill-opacity=\"1\" stroke=\"#000000\" stroke-opacity=\"1\" stroke-width=\"3.2\"/>\n",
       "<circle clip-path=\"url(#clip102)\" cx=\"1347.57\" cy=\"1432.47\" r=\"14.4\" fill=\"#009af9\" fill-rule=\"evenodd\" fill-opacity=\"1\" stroke=\"#000000\" stroke-opacity=\"1\" stroke-width=\"3.2\"/>\n",
       "<circle clip-path=\"url(#clip102)\" cx=\"1433.34\" cy=\"1433.83\" r=\"14.4\" fill=\"#009af9\" fill-rule=\"evenodd\" fill-opacity=\"1\" stroke=\"#000000\" stroke-opacity=\"1\" stroke-width=\"3.2\"/>\n",
       "<circle clip-path=\"url(#clip102)\" cx=\"1519.11\" cy=\"1434.25\" r=\"14.4\" fill=\"#009af9\" fill-rule=\"evenodd\" fill-opacity=\"1\" stroke=\"#000000\" stroke-opacity=\"1\" stroke-width=\"3.2\"/>\n",
       "<circle clip-path=\"url(#clip102)\" cx=\"1604.87\" cy=\"1436.25\" r=\"14.4\" fill=\"#009af9\" fill-rule=\"evenodd\" fill-opacity=\"1\" stroke=\"#000000\" stroke-opacity=\"1\" stroke-width=\"3.2\"/>\n",
       "<circle clip-path=\"url(#clip102)\" cx=\"1690.64\" cy=\"1438\" r=\"14.4\" fill=\"#009af9\" fill-rule=\"evenodd\" fill-opacity=\"1\" stroke=\"#000000\" stroke-opacity=\"1\" stroke-width=\"3.2\"/>\n",
       "<circle clip-path=\"url(#clip102)\" cx=\"1776.41\" cy=\"1440.25\" r=\"14.4\" fill=\"#009af9\" fill-rule=\"evenodd\" fill-opacity=\"1\" stroke=\"#000000\" stroke-opacity=\"1\" stroke-width=\"3.2\"/>\n",
       "<circle clip-path=\"url(#clip102)\" cx=\"1862.17\" cy=\"1442.54\" r=\"14.4\" fill=\"#009af9\" fill-rule=\"evenodd\" fill-opacity=\"1\" stroke=\"#000000\" stroke-opacity=\"1\" stroke-width=\"3.2\"/>\n",
       "<circle clip-path=\"url(#clip102)\" cx=\"1947.94\" cy=\"1443.45\" r=\"14.4\" fill=\"#009af9\" fill-rule=\"evenodd\" fill-opacity=\"1\" stroke=\"#000000\" stroke-opacity=\"1\" stroke-width=\"3.2\"/>\n",
       "<circle clip-path=\"url(#clip102)\" cx=\"2033.7\" cy=\"1444.26\" r=\"14.4\" fill=\"#009af9\" fill-rule=\"evenodd\" fill-opacity=\"1\" stroke=\"#000000\" stroke-opacity=\"1\" stroke-width=\"3.2\"/>\n",
       "<circle clip-path=\"url(#clip102)\" cx=\"2119.47\" cy=\"1444.53\" r=\"14.4\" fill=\"#009af9\" fill-rule=\"evenodd\" fill-opacity=\"1\" stroke=\"#000000\" stroke-opacity=\"1\" stroke-width=\"3.2\"/>\n",
       "<circle clip-path=\"url(#clip102)\" cx=\"2205.24\" cy=\"1445.08\" r=\"14.4\" fill=\"#009af9\" fill-rule=\"evenodd\" fill-opacity=\"1\" stroke=\"#000000\" stroke-opacity=\"1\" stroke-width=\"3.2\"/>\n",
       "<circle clip-path=\"url(#clip102)\" cx=\"2291\" cy=\"1445.72\" r=\"14.4\" fill=\"#009af9\" fill-rule=\"evenodd\" fill-opacity=\"1\" stroke=\"#000000\" stroke-opacity=\"1\" stroke-width=\"3.2\"/>\n",
       "<polyline clip-path=\"url(#clip102)\" style=\"stroke:#e26f46; stroke-linecap:round; stroke-linejoin:round; stroke-width:4; stroke-opacity:1; fill:none\" points=\"1690.64,2925.65 1690.64,-1391.96 \"/>\n",
       "<path clip-path=\"url(#clip100)\" d=\"M2009.41 250.738 L2280.03 250.738 L2280.03 95.2176 L2009.41 95.2176  Z\" fill=\"#ffffff\" fill-rule=\"evenodd\" fill-opacity=\"1\"/>\n",
       "<polyline clip-path=\"url(#clip100)\" style=\"stroke:#000000; stroke-linecap:round; stroke-linejoin:round; stroke-width:4; stroke-opacity:1; fill:none\" points=\"2009.41,250.738 2280.03,250.738 2280.03,95.2176 2009.41,95.2176 2009.41,250.738 \"/>\n",
       "<circle clip-path=\"url(#clip100)\" cx=\"2106.38\" cy=\"147.058\" r=\"20.48\" fill=\"#009af9\" fill-rule=\"evenodd\" fill-opacity=\"1\" stroke=\"#000000\" stroke-opacity=\"1\" stroke-width=\"4.55111\"/>\n",
       "<path clip-path=\"url(#clip100)\" d=\"M2217.19 166.745 Q2215.39 171.375 2213.68 172.787 Q2211.96 174.199 2209.09 174.199 L2205.69 174.199 L2205.69 170.634 L2208.19 170.634 Q2209.95 170.634 2210.92 169.8 Q2211.89 168.967 2213.07 165.865 L2213.84 163.921 L2203.35 138.412 L2207.87 138.412 L2215.97 158.689 L2224.07 138.412 L2228.58 138.412 L2217.19 166.745 Z\" fill=\"#000000\" fill-rule=\"nonzero\" fill-opacity=\"1\" /><path clip-path=\"url(#clip100)\" d=\"M2235.88 160.402 L2243.51 160.402 L2243.51 134.037 L2235.2 135.703 L2235.2 131.444 L2243.47 129.778 L2248.14 129.778 L2248.14 160.402 L2255.78 160.402 L2255.78 164.338 L2235.88 164.338 L2235.88 160.402 Z\" fill=\"#000000\" fill-rule=\"nonzero\" fill-opacity=\"1\" /><polyline clip-path=\"url(#clip100)\" style=\"stroke:#e26f46; stroke-linecap:round; stroke-linejoin:round; stroke-width:4; stroke-opacity:1; fill:none\" points=\"2033.65,198.898 2179.11,198.898 \"/>\n",
       "<path clip-path=\"url(#clip100)\" d=\"M2217.19 218.585 Q2215.39 223.215 2213.68 224.627 Q2211.96 226.039 2209.09 226.039 L2205.69 226.039 L2205.69 222.474 L2208.19 222.474 Q2209.95 222.474 2210.92 221.64 Q2211.89 220.807 2213.07 217.705 L2213.84 215.761 L2203.35 190.252 L2207.87 190.252 L2215.97 210.529 L2224.07 190.252 L2228.58 190.252 L2217.19 218.585 Z\" fill=\"#000000\" fill-rule=\"nonzero\" fill-opacity=\"1\" /><path clip-path=\"url(#clip100)\" d=\"M2239.09 212.242 L2255.41 212.242 L2255.41 216.178 L2233.47 216.178 L2233.47 212.242 Q2236.13 209.488 2240.71 204.858 Q2245.32 200.205 2246.5 198.863 Q2248.75 196.34 2249.63 194.604 Q2250.53 192.844 2250.53 191.155 Q2250.53 188.4 2248.58 186.664 Q2246.66 184.928 2243.56 184.928 Q2241.36 184.928 2238.91 185.692 Q2236.48 186.455 2233.7 188.006 L2233.7 183.284 Q2236.52 182.15 2238.98 181.571 Q2241.43 180.993 2243.47 180.993 Q2248.84 180.993 2252.03 183.678 Q2255.23 186.363 2255.23 190.854 Q2255.23 192.983 2254.42 194.905 Q2253.63 196.803 2251.52 199.395 Q2250.94 200.067 2247.84 203.284 Q2244.74 206.479 2239.09 212.242 Z\" fill=\"#000000\" fill-rule=\"nonzero\" fill-opacity=\"1\" /></svg>\n"
      ]
     },
     "execution_count": 13,
     "metadata": {},
     "output_type": "execute_result"
    }
   ],
   "source": [
    "_, s, _ = svd(TE); s.^=2\n",
    "scatter(s[1:25])\n",
    "svd_rank=findall((cumsum(s) .> 0.75*sum(s)))[1]\n",
    "vline!([svd_rank, ])"
   ]
  },
  {
   "cell_type": "code",
   "execution_count": 14,
   "id": "dc68f857-9cd2-4997-8095-def4ba3dbdb8",
   "metadata": {
    "tags": []
   },
   "outputs": [
    {
     "name": "stderr",
     "output_type": "stream",
     "text": [
      "\u001b[36m\u001b[1m[ \u001b[22m\u001b[39m\u001b[36m\u001b[1mInfo: \u001b[22m\u001b[39mInitializing NMF decomposition with nmf\n",
      "\u001b[32mProgress: 100%|█████████████████████████████████████████| Time: 0:02:05\u001b[39m\n"
     ]
    }
   ],
   "source": [
    "Random.seed!(0)\n",
    "U, V, trace = fitnmf(cu(relu.(qnorm(TE, 0.9))),\n",
    "                     [I(size(TE, 1)), I(size(TE, 2))], 1e-3*I + L,\n",
    "                     cu(repeat(vec(Cg), 1, size(X, 1))'),\n",
    "                     svd_rank; \n",
    "                     α = 5.0,\n",
    "                     β = 0.0, \n",
    "              λ = [1, 1],\n",
    "              μ = [1, 1],\n",
    "              iter = 2_500, initialize = :nmf, print_iter = 50, dictionary =false, η = 1.0);\n",
    "G_nmf = Array(U*V');\n",
    "U = Array(U); V = Array(V);\n",
    "\n",
    "V .*= maximum(U; dims = 1)\n",
    "U ./= maximum(U; dims = 1);\n",
    "# \n",
    "A = reshape(maximum(V'; dims = 1), size(X, 2), size(X, 2))\n",
    "for i = 1:size(V, 2)\n",
    "    x = reshape(V[:, i], size(X, 2), size(X, 2))\n",
    "    V[:, i] .= vec(cdf_norm(x, A .+ 1e-9))\n",
    "end\n",
    "npzwrite(\"U.npy\", U)\n",
    "npzwrite(\"V.npy\", V)"
   ]
  },
  {
   "cell_type": "code",
   "execution_count": 15,
   "id": "e06a7bce-2f48-4d5d-b724-9c9433280dba",
   "metadata": {},
   "outputs": [
    {
     "data": {
      "image/svg+xml": [
       "<?xml version=\"1.0\" encoding=\"utf-8\"?>\n",
       "<svg xmlns=\"http://www.w3.org/2000/svg\" xmlns:xlink=\"http://www.w3.org/1999/xlink\" width=\"600\" height=\"400\" viewBox=\"0 0 2400 1600\">\n",
       "<defs>\n",
       "  <clipPath id=\"clip140\">\n",
       "    <rect x=\"0\" y=\"0\" width=\"2400\" height=\"1600\"/>\n",
       "  </clipPath>\n",
       "</defs>\n",
       "<path clip-path=\"url(#clip140)\" d=\"M0 1600 L2400 1600 L2400 0 L0 0  Z\" fill=\"#ffffff\" fill-rule=\"evenodd\" fill-opacity=\"1\"/>\n",
       "<defs>\n",
       "  <clipPath id=\"clip141\">\n",
       "    <rect x=\"480\" y=\"0\" width=\"1681\" height=\"1600\"/>\n",
       "  </clipPath>\n",
       "</defs>\n",
       "<path clip-path=\"url(#clip140)\" d=\"M305.849 1486.45 L2352.76 1486.45 L2352.76 47.2441 L305.849 47.2441  Z\" fill=\"#ffffff\" fill-rule=\"evenodd\" fill-opacity=\"1\"/>\n",
       "<defs>\n",
       "  <clipPath id=\"clip142\">\n",
       "    <rect x=\"305\" y=\"47\" width=\"2048\" height=\"1440\"/>\n",
       "  </clipPath>\n",
       "</defs>\n",
       "<polyline clip-path=\"url(#clip142)\" style=\"stroke:#000000; stroke-linecap:round; stroke-linejoin:round; stroke-width:2; stroke-opacity:0.1; fill:none\" points=\"324.372,1486.45 324.372,47.2441 \"/>\n",
       "<polyline clip-path=\"url(#clip142)\" style=\"stroke:#000000; stroke-linecap:round; stroke-linejoin:round; stroke-width:2; stroke-opacity:0.1; fill:none\" points=\"718.462,1486.45 718.462,47.2441 \"/>\n",
       "<polyline clip-path=\"url(#clip142)\" style=\"stroke:#000000; stroke-linecap:round; stroke-linejoin:round; stroke-width:2; stroke-opacity:0.1; fill:none\" points=\"1112.55,1486.45 1112.55,47.2441 \"/>\n",
       "<polyline clip-path=\"url(#clip142)\" style=\"stroke:#000000; stroke-linecap:round; stroke-linejoin:round; stroke-width:2; stroke-opacity:0.1; fill:none\" points=\"1506.64,1486.45 1506.64,47.2441 \"/>\n",
       "<polyline clip-path=\"url(#clip142)\" style=\"stroke:#000000; stroke-linecap:round; stroke-linejoin:round; stroke-width:2; stroke-opacity:0.1; fill:none\" points=\"1900.73,1486.45 1900.73,47.2441 \"/>\n",
       "<polyline clip-path=\"url(#clip142)\" style=\"stroke:#000000; stroke-linecap:round; stroke-linejoin:round; stroke-width:2; stroke-opacity:0.1; fill:none\" points=\"2294.82,1486.45 2294.82,47.2441 \"/>\n",
       "<polyline clip-path=\"url(#clip140)\" style=\"stroke:#000000; stroke-linecap:round; stroke-linejoin:round; stroke-width:4; stroke-opacity:1; fill:none\" points=\"305.849,1486.45 2352.76,1486.45 \"/>\n",
       "<polyline clip-path=\"url(#clip140)\" style=\"stroke:#000000; stroke-linecap:round; stroke-linejoin:round; stroke-width:4; stroke-opacity:1; fill:none\" points=\"324.372,1486.45 324.372,1467.55 \"/>\n",
       "<polyline clip-path=\"url(#clip140)\" style=\"stroke:#000000; stroke-linecap:round; stroke-linejoin:round; stroke-width:4; stroke-opacity:1; fill:none\" points=\"718.462,1486.45 718.462,1467.55 \"/>\n",
       "<polyline clip-path=\"url(#clip140)\" style=\"stroke:#000000; stroke-linecap:round; stroke-linejoin:round; stroke-width:4; stroke-opacity:1; fill:none\" points=\"1112.55,1486.45 1112.55,1467.55 \"/>\n",
       "<polyline clip-path=\"url(#clip140)\" style=\"stroke:#000000; stroke-linecap:round; stroke-linejoin:round; stroke-width:4; stroke-opacity:1; fill:none\" points=\"1506.64,1486.45 1506.64,1467.55 \"/>\n",
       "<polyline clip-path=\"url(#clip140)\" style=\"stroke:#000000; stroke-linecap:round; stroke-linejoin:round; stroke-width:4; stroke-opacity:1; fill:none\" points=\"1900.73,1486.45 1900.73,1467.55 \"/>\n",
       "<polyline clip-path=\"url(#clip140)\" style=\"stroke:#000000; stroke-linecap:round; stroke-linejoin:round; stroke-width:4; stroke-opacity:1; fill:none\" points=\"2294.82,1486.45 2294.82,1467.55 \"/>\n",
       "<path clip-path=\"url(#clip140)\" d=\"M324.372 1517.37 Q320.761 1517.37 318.932 1520.93 Q317.126 1524.47 317.126 1531.6 Q317.126 1538.71 318.932 1542.27 Q320.761 1545.82 324.372 1545.82 Q328.006 1545.82 329.812 1542.27 Q331.64 1538.71 331.64 1531.6 Q331.64 1524.47 329.812 1520.93 Q328.006 1517.37 324.372 1517.37 M324.372 1513.66 Q330.182 1513.66 333.237 1518.27 Q336.316 1522.85 336.316 1531.6 Q336.316 1540.33 333.237 1544.94 Q330.182 1549.52 324.372 1549.52 Q318.562 1549.52 315.483 1544.94 Q312.427 1540.33 312.427 1531.6 Q312.427 1522.85 315.483 1518.27 Q318.562 1513.66 324.372 1513.66 Z\" fill=\"#000000\" fill-rule=\"nonzero\" fill-opacity=\"1\" /><path clip-path=\"url(#clip140)\" d=\"M693.15 1544.91 L700.789 1544.91 L700.789 1518.55 L692.479 1520.21 L692.479 1515.95 L700.742 1514.29 L705.418 1514.29 L705.418 1544.91 L713.057 1544.91 L713.057 1548.85 L693.15 1548.85 L693.15 1544.91 Z\" fill=\"#000000\" fill-rule=\"nonzero\" fill-opacity=\"1\" /><path clip-path=\"url(#clip140)\" d=\"M732.502 1517.37 Q728.89 1517.37 727.062 1520.93 Q725.256 1524.47 725.256 1531.6 Q725.256 1538.71 727.062 1542.27 Q728.89 1545.82 732.502 1545.82 Q736.136 1545.82 737.941 1542.27 Q739.77 1538.71 739.77 1531.6 Q739.77 1524.47 737.941 1520.93 Q736.136 1517.37 732.502 1517.37 M732.502 1513.66 Q738.312 1513.66 741.367 1518.27 Q744.446 1522.85 744.446 1531.6 Q744.446 1540.33 741.367 1544.94 Q738.312 1549.52 732.502 1549.52 Q726.691 1549.52 723.613 1544.94 Q720.557 1540.33 720.557 1531.6 Q720.557 1522.85 723.613 1518.27 Q726.691 1513.66 732.502 1513.66 Z\" fill=\"#000000\" fill-rule=\"nonzero\" fill-opacity=\"1\" /><path clip-path=\"url(#clip140)\" d=\"M1091.33 1544.91 L1107.65 1544.91 L1107.65 1548.85 L1085.7 1548.85 L1085.7 1544.91 Q1088.36 1542.16 1092.95 1537.53 Q1097.55 1532.88 1098.73 1531.53 Q1100.98 1529.01 1101.86 1527.27 Q1102.76 1525.51 1102.76 1523.82 Q1102.76 1521.07 1100.82 1519.33 Q1098.9 1517.6 1095.79 1517.6 Q1093.59 1517.6 1091.14 1518.36 Q1088.71 1519.13 1085.93 1520.68 L1085.93 1515.95 Q1088.76 1514.82 1091.21 1514.24 Q1093.66 1513.66 1095.7 1513.66 Q1101.07 1513.66 1104.27 1516.35 Q1107.46 1519.03 1107.46 1523.52 Q1107.46 1525.65 1106.65 1527.57 Q1105.86 1529.47 1103.76 1532.07 Q1103.18 1532.74 1100.08 1535.95 Q1096.97 1539.15 1091.33 1544.91 Z\" fill=\"#000000\" fill-rule=\"nonzero\" fill-opacity=\"1\" /><path clip-path=\"url(#clip140)\" d=\"M1127.46 1517.37 Q1123.85 1517.37 1122.02 1520.93 Q1120.21 1524.47 1120.21 1531.6 Q1120.21 1538.71 1122.02 1542.27 Q1123.85 1545.82 1127.46 1545.82 Q1131.09 1545.82 1132.9 1542.27 Q1134.73 1538.71 1134.73 1531.6 Q1134.73 1524.47 1132.9 1520.93 Q1131.09 1517.37 1127.46 1517.37 M1127.46 1513.66 Q1133.27 1513.66 1136.33 1518.27 Q1139.4 1522.85 1139.4 1531.6 Q1139.4 1540.33 1136.33 1544.94 Q1133.27 1549.52 1127.46 1549.52 Q1121.65 1549.52 1118.57 1544.94 Q1115.52 1540.33 1115.52 1531.6 Q1115.52 1522.85 1118.57 1518.27 Q1121.65 1513.66 1127.46 1513.66 Z\" fill=\"#000000\" fill-rule=\"nonzero\" fill-opacity=\"1\" /><path clip-path=\"url(#clip140)\" d=\"M1495.49 1530.21 Q1498.84 1530.93 1500.72 1533.2 Q1502.62 1535.47 1502.62 1538.8 Q1502.62 1543.92 1499.1 1546.72 Q1495.58 1549.52 1489.1 1549.52 Q1486.92 1549.52 1484.61 1549.08 Q1482.31 1548.66 1479.86 1547.81 L1479.86 1543.29 Q1481.81 1544.43 1484.12 1545.01 Q1486.44 1545.58 1488.96 1545.58 Q1493.36 1545.58 1495.65 1543.85 Q1497.96 1542.11 1497.96 1538.8 Q1497.96 1535.75 1495.81 1534.03 Q1493.68 1532.3 1489.86 1532.3 L1485.83 1532.3 L1485.83 1528.45 L1490.05 1528.45 Q1493.5 1528.45 1495.32 1527.09 Q1497.15 1525.7 1497.15 1523.11 Q1497.15 1520.45 1495.25 1519.03 Q1493.38 1517.6 1489.86 1517.6 Q1487.94 1517.6 1485.74 1518.01 Q1483.54 1518.43 1480.9 1519.31 L1480.9 1515.14 Q1483.56 1514.4 1485.88 1514.03 Q1488.22 1513.66 1490.28 1513.66 Q1495.6 1513.66 1498.7 1516.09 Q1501.81 1518.5 1501.81 1522.62 Q1501.81 1525.49 1500.16 1527.48 Q1498.52 1529.45 1495.49 1530.21 Z\" fill=\"#000000\" fill-rule=\"nonzero\" fill-opacity=\"1\" /><path clip-path=\"url(#clip140)\" d=\"M1521.48 1517.37 Q1517.87 1517.37 1516.04 1520.93 Q1514.24 1524.47 1514.24 1531.6 Q1514.24 1538.71 1516.04 1542.27 Q1517.87 1545.82 1521.48 1545.82 Q1525.12 1545.82 1526.92 1542.27 Q1528.75 1538.71 1528.75 1531.6 Q1528.75 1524.47 1526.92 1520.93 Q1525.12 1517.37 1521.48 1517.37 M1521.48 1513.66 Q1527.29 1513.66 1530.35 1518.27 Q1533.43 1522.85 1533.43 1531.6 Q1533.43 1540.33 1530.35 1544.94 Q1527.29 1549.52 1521.48 1549.52 Q1515.67 1549.52 1512.59 1544.94 Q1509.54 1540.33 1509.54 1531.6 Q1509.54 1522.85 1512.59 1518.27 Q1515.67 1513.66 1521.48 1513.66 Z\" fill=\"#000000\" fill-rule=\"nonzero\" fill-opacity=\"1\" /><path clip-path=\"url(#clip140)\" d=\"M1888.91 1518.36 L1877.1 1536.81 L1888.91 1536.81 L1888.91 1518.36 M1887.68 1514.29 L1893.56 1514.29 L1893.56 1536.81 L1898.49 1536.81 L1898.49 1540.7 L1893.56 1540.7 L1893.56 1548.85 L1888.91 1548.85 L1888.91 1540.7 L1873.3 1540.7 L1873.3 1536.19 L1887.68 1514.29 Z\" fill=\"#000000\" fill-rule=\"nonzero\" fill-opacity=\"1\" /><path clip-path=\"url(#clip140)\" d=\"M1916.22 1517.37 Q1912.61 1517.37 1910.78 1520.93 Q1908.97 1524.47 1908.97 1531.6 Q1908.97 1538.71 1910.78 1542.27 Q1912.61 1545.82 1916.22 1545.82 Q1919.85 1545.82 1921.66 1542.27 Q1923.49 1538.71 1923.49 1531.6 Q1923.49 1524.47 1921.66 1520.93 Q1919.85 1517.37 1916.22 1517.37 M1916.22 1513.66 Q1922.03 1513.66 1925.09 1518.27 Q1928.16 1522.85 1928.16 1531.6 Q1928.16 1540.33 1925.09 1544.94 Q1922.03 1549.52 1916.22 1549.52 Q1910.41 1549.52 1907.33 1544.94 Q1904.28 1540.33 1904.28 1531.6 Q1904.28 1522.85 1907.33 1518.27 Q1910.41 1513.66 1916.22 1513.66 Z\" fill=\"#000000\" fill-rule=\"nonzero\" fill-opacity=\"1\" /><path clip-path=\"url(#clip140)\" d=\"M2269.52 1514.29 L2287.88 1514.29 L2287.88 1518.22 L2273.81 1518.22 L2273.81 1526.7 Q2274.82 1526.35 2275.84 1526.19 Q2276.86 1526 2277.88 1526 Q2283.67 1526 2287.05 1529.17 Q2290.43 1532.34 2290.43 1537.76 Q2290.43 1543.34 2286.95 1546.44 Q2283.48 1549.52 2277.16 1549.52 Q2274.99 1549.52 2272.72 1549.15 Q2270.47 1548.78 2268.07 1548.04 L2268.07 1543.34 Q2270.15 1544.47 2272.37 1545.03 Q2274.59 1545.58 2277.07 1545.58 Q2281.07 1545.58 2283.41 1543.48 Q2285.75 1541.37 2285.75 1537.76 Q2285.75 1534.15 2283.41 1532.04 Q2281.07 1529.94 2277.07 1529.94 Q2275.2 1529.94 2273.32 1530.35 Q2271.47 1530.77 2269.52 1531.65 L2269.52 1514.29 Z\" fill=\"#000000\" fill-rule=\"nonzero\" fill-opacity=\"1\" /><path clip-path=\"url(#clip140)\" d=\"M2309.64 1517.37 Q2306.03 1517.37 2304.2 1520.93 Q2302.39 1524.47 2302.39 1531.6 Q2302.39 1538.71 2304.2 1542.27 Q2306.03 1545.82 2309.64 1545.82 Q2313.27 1545.82 2315.08 1542.27 Q2316.91 1538.71 2316.91 1531.6 Q2316.91 1524.47 2315.08 1520.93 Q2313.27 1517.37 2309.64 1517.37 M2309.64 1513.66 Q2315.45 1513.66 2318.51 1518.27 Q2321.58 1522.85 2321.58 1531.6 Q2321.58 1540.33 2318.51 1544.94 Q2315.45 1549.52 2309.64 1549.52 Q2303.83 1549.52 2300.75 1544.94 Q2297.69 1540.33 2297.69 1531.6 Q2297.69 1522.85 2300.75 1518.27 Q2303.83 1513.66 2309.64 1513.66 Z\" fill=\"#000000\" fill-rule=\"nonzero\" fill-opacity=\"1\" /><polyline clip-path=\"url(#clip142)\" style=\"stroke:#000000; stroke-linecap:round; stroke-linejoin:round; stroke-width:2; stroke-opacity:0.1; fill:none\" points=\"305.849,1208.24 2352.76,1208.24 \"/>\n",
       "<polyline clip-path=\"url(#clip142)\" style=\"stroke:#000000; stroke-linecap:round; stroke-linejoin:round; stroke-width:2; stroke-opacity:0.1; fill:none\" points=\"305.849,926.338 2352.76,926.338 \"/>\n",
       "<polyline clip-path=\"url(#clip142)\" style=\"stroke:#000000; stroke-linecap:round; stroke-linejoin:round; stroke-width:2; stroke-opacity:0.1; fill:none\" points=\"305.849,644.431 2352.76,644.431 \"/>\n",
       "<polyline clip-path=\"url(#clip142)\" style=\"stroke:#000000; stroke-linecap:round; stroke-linejoin:round; stroke-width:2; stroke-opacity:0.1; fill:none\" points=\"305.849,362.524 2352.76,362.524 \"/>\n",
       "<polyline clip-path=\"url(#clip142)\" style=\"stroke:#000000; stroke-linecap:round; stroke-linejoin:round; stroke-width:2; stroke-opacity:0.1; fill:none\" points=\"305.849,80.6174 2352.76,80.6174 \"/>\n",
       "<polyline clip-path=\"url(#clip140)\" style=\"stroke:#000000; stroke-linecap:round; stroke-linejoin:round; stroke-width:4; stroke-opacity:1; fill:none\" points=\"305.849,1486.45 305.849,47.2441 \"/>\n",
       "<polyline clip-path=\"url(#clip140)\" style=\"stroke:#000000; stroke-linecap:round; stroke-linejoin:round; stroke-width:4; stroke-opacity:1; fill:none\" points=\"305.849,1208.24 324.747,1208.24 \"/>\n",
       "<polyline clip-path=\"url(#clip140)\" style=\"stroke:#000000; stroke-linecap:round; stroke-linejoin:round; stroke-width:4; stroke-opacity:1; fill:none\" points=\"305.849,926.338 324.747,926.338 \"/>\n",
       "<polyline clip-path=\"url(#clip140)\" style=\"stroke:#000000; stroke-linecap:round; stroke-linejoin:round; stroke-width:4; stroke-opacity:1; fill:none\" points=\"305.849,644.431 324.747,644.431 \"/>\n",
       "<polyline clip-path=\"url(#clip140)\" style=\"stroke:#000000; stroke-linecap:round; stroke-linejoin:round; stroke-width:4; stroke-opacity:1; fill:none\" points=\"305.849,362.524 324.747,362.524 \"/>\n",
       "<polyline clip-path=\"url(#clip140)\" style=\"stroke:#000000; stroke-linecap:round; stroke-linejoin:round; stroke-width:4; stroke-opacity:1; fill:none\" points=\"305.849,80.6174 324.747,80.6174 \"/>\n",
       "<path clip-path=\"url(#clip140)\" d=\"M53.2143 1231.25 L53.2143 1227 Q54.9736 1227.83 56.7791 1228.27 Q58.5847 1228.71 60.3208 1228.71 Q64.9504 1228.71 67.3809 1225.61 Q69.8346 1222.48 70.1818 1216.14 Q68.8393 1218.13 66.7791 1219.19 Q64.7189 1220.26 62.2189 1220.26 Q57.0338 1220.26 54.0014 1217.13 Q50.9921 1213.99 50.9921 1208.55 Q50.9921 1203.22 54.1403 1200.01 Q57.2884 1196.79 62.5198 1196.79 Q68.5152 1196.79 71.6633 1201.39 Q74.8346 1205.98 74.8346 1214.73 Q74.8346 1222.9 70.9457 1227.78 Q67.08 1232.64 60.5291 1232.64 Q58.7699 1232.64 56.9643 1232.3 Q55.1588 1231.95 53.2143 1231.25 M62.5198 1216.6 Q65.668 1216.6 67.4967 1214.45 Q69.3485 1212.3 69.3485 1208.55 Q69.3485 1204.82 67.4967 1202.67 Q65.668 1200.49 62.5198 1200.49 Q59.3717 1200.49 57.5199 1202.67 Q55.6912 1204.82 55.6912 1208.55 Q55.6912 1212.3 57.5199 1214.45 Q59.3717 1216.6 62.5198 1216.6 Z\" fill=\"#000000\" fill-rule=\"nonzero\" fill-opacity=\"1\" /><path clip-path=\"url(#clip140)\" d=\"M83.2373 1226.09 L88.1216 1226.09 L88.1216 1231.97 L83.2373 1231.97 L83.2373 1226.09 Z\" fill=\"#000000\" fill-rule=\"nonzero\" fill-opacity=\"1\" /><path clip-path=\"url(#clip140)\" d=\"M108.307 1200.49 Q104.696 1200.49 102.867 1204.06 Q101.061 1207.6 101.061 1214.73 Q101.061 1221.83 102.867 1225.4 Q104.696 1228.94 108.307 1228.94 Q111.941 1228.94 113.746 1225.4 Q115.575 1221.83 115.575 1214.73 Q115.575 1207.6 113.746 1204.06 Q111.941 1200.49 108.307 1200.49 M108.307 1196.79 Q114.117 1196.79 117.172 1201.39 Q120.251 1205.98 120.251 1214.73 Q120.251 1223.45 117.172 1228.06 Q114.117 1232.64 108.307 1232.64 Q102.496 1232.64 99.4178 1228.06 Q96.3623 1223.45 96.3623 1214.73 Q96.3623 1205.98 99.4178 1201.39 Q102.496 1196.79 108.307 1196.79 Z\" fill=\"#000000\" fill-rule=\"nonzero\" fill-opacity=\"1\" /><path clip-path=\"url(#clip140)\" d=\"M138.469 1200.49 Q134.857 1200.49 133.029 1204.06 Q131.223 1207.6 131.223 1214.73 Q131.223 1221.83 133.029 1225.4 Q134.857 1228.94 138.469 1228.94 Q142.103 1228.94 143.908 1225.4 Q145.737 1221.83 145.737 1214.73 Q145.737 1207.6 143.908 1204.06 Q142.103 1200.49 138.469 1200.49 M138.469 1196.79 Q144.279 1196.79 147.334 1201.39 Q150.413 1205.98 150.413 1214.73 Q150.413 1223.45 147.334 1228.06 Q144.279 1232.64 138.469 1232.64 Q132.658 1232.64 129.58 1228.06 Q126.524 1223.45 126.524 1214.73 Q126.524 1205.98 129.58 1201.39 Q132.658 1196.79 138.469 1196.79 Z\" fill=\"#000000\" fill-rule=\"nonzero\" fill-opacity=\"1\" /><path clip-path=\"url(#clip140)\" d=\"M186.802 1206.51 L176.223 1217.13 L186.802 1227.71 L184.047 1230.51 L173.422 1219.89 L162.797 1230.51 L160.066 1227.71 L170.621 1217.13 L160.066 1206.51 L162.797 1203.71 L173.422 1214.33 L184.047 1203.71 L186.802 1206.51 Z\" fill=\"#000000\" fill-rule=\"nonzero\" fill-opacity=\"1\" /><path clip-path=\"url(#clip140)\" d=\"M199.163 1228.04 L206.801 1228.04 L206.801 1201.67 L198.491 1203.34 L198.491 1199.08 L206.755 1197.41 L211.431 1197.41 L211.431 1228.04 L219.07 1228.04 L219.07 1231.97 L199.163 1231.97 L199.163 1228.04 Z\" fill=\"#000000\" fill-rule=\"nonzero\" fill-opacity=\"1\" /><path clip-path=\"url(#clip140)\" d=\"M238.514 1200.49 Q234.903 1200.49 233.074 1204.06 Q231.269 1207.6 231.269 1214.73 Q231.269 1221.83 233.074 1225.4 Q234.903 1228.94 238.514 1228.94 Q242.149 1228.94 243.954 1225.4 Q245.783 1221.83 245.783 1214.73 Q245.783 1207.6 243.954 1204.06 Q242.149 1200.49 238.514 1200.49 M238.514 1196.79 Q244.324 1196.79 247.38 1201.39 Q250.459 1205.98 250.459 1214.73 Q250.459 1223.45 247.38 1228.06 Q244.324 1232.64 238.514 1232.64 Q232.704 1232.64 229.625 1228.06 Q226.57 1223.45 226.57 1214.73 Q226.57 1205.98 229.625 1201.39 Q232.704 1196.79 238.514 1196.79 Z\" fill=\"#000000\" fill-rule=\"nonzero\" fill-opacity=\"1\" /><path clip-path=\"url(#clip140)\" d=\"M260.483 1189.01 Q257.925 1189.01 256.421 1190.76 Q254.935 1192.51 254.935 1195.55 Q254.935 1198.58 256.421 1200.35 Q257.925 1202.1 260.483 1202.1 Q263.041 1202.1 264.527 1200.35 Q266.031 1198.58 266.031 1195.55 Q266.031 1192.51 264.527 1190.76 Q263.041 1189.01 260.483 1189.01 M268.025 1177.1 L268.025 1180.56 Q266.596 1179.89 265.129 1179.53 Q263.681 1179.17 262.251 1179.17 Q258.49 1179.17 256.496 1181.71 Q254.521 1184.25 254.239 1189.38 Q255.349 1187.75 257.023 1186.88 Q258.696 1186 260.709 1186 Q264.941 1186 267.386 1188.58 Q269.849 1191.13 269.849 1195.55 Q269.849 1199.88 267.292 1202.49 Q264.734 1205.11 260.483 1205.11 Q255.612 1205.11 253.035 1201.38 Q250.459 1197.64 250.459 1190.55 Q250.459 1183.89 253.618 1179.94 Q256.778 1175.97 262.101 1175.97 Q263.53 1175.97 264.978 1176.26 Q266.445 1176.54 268.025 1177.1 Z\" fill=\"#000000\" fill-rule=\"nonzero\" fill-opacity=\"1\" /><path clip-path=\"url(#clip140)\" d=\"M53.2143 949.348 L53.2143 945.089 Q54.9736 945.922 56.7791 946.362 Q58.5847 946.802 60.3208 946.802 Q64.9504 946.802 67.3809 943.7 Q69.8346 940.575 70.1818 934.232 Q68.8393 936.223 66.7791 937.288 Q64.7189 938.353 62.2189 938.353 Q57.0338 938.353 54.0014 935.228 Q50.9921 932.08 50.9921 926.64 Q50.9921 921.316 54.1403 918.098 Q57.2884 914.881 62.5198 914.881 Q68.5152 914.881 71.6633 919.487 Q74.8346 924.07 74.8346 932.82 Q74.8346 940.992 70.9457 945.876 Q67.08 950.737 60.5291 950.737 Q58.7699 950.737 56.9643 950.39 Q55.1588 950.043 53.2143 949.348 M62.5198 934.695 Q65.668 934.695 67.4967 932.543 Q69.3485 930.39 69.3485 926.64 Q69.3485 922.913 67.4967 920.76 Q65.668 918.584 62.5198 918.584 Q59.3717 918.584 57.5199 920.76 Q55.6912 922.913 55.6912 926.64 Q55.6912 930.39 57.5199 932.543 Q59.3717 934.695 62.5198 934.695 Z\" fill=\"#000000\" fill-rule=\"nonzero\" fill-opacity=\"1\" /><path clip-path=\"url(#clip140)\" d=\"M83.2373 944.186 L88.1216 944.186 L88.1216 950.066 L83.2373 950.066 L83.2373 944.186 Z\" fill=\"#000000\" fill-rule=\"nonzero\" fill-opacity=\"1\" /><path clip-path=\"url(#clip140)\" d=\"M102.334 946.131 L118.654 946.131 L118.654 950.066 L96.7095 950.066 L96.7095 946.131 Q99.3715 943.376 103.955 938.746 Q108.561 934.094 109.742 932.751 Q111.987 930.228 112.867 928.492 Q113.77 926.732 113.77 925.043 Q113.77 922.288 111.825 920.552 Q109.904 918.816 106.802 918.816 Q104.603 918.816 102.149 919.58 Q99.7187 920.344 96.941 921.895 L96.941 917.172 Q99.765 916.038 102.219 915.459 Q104.672 914.881 106.709 914.881 Q112.08 914.881 115.274 917.566 Q118.469 920.251 118.469 924.742 Q118.469 926.871 117.658 928.793 Q116.871 930.691 114.765 933.283 Q114.186 933.955 111.084 937.172 Q107.983 940.367 102.334 946.131 Z\" fill=\"#000000\" fill-rule=\"nonzero\" fill-opacity=\"1\" /><path clip-path=\"url(#clip140)\" d=\"M138.469 918.584 Q134.857 918.584 133.029 922.149 Q131.223 925.691 131.223 932.82 Q131.223 939.927 133.029 943.492 Q134.857 947.033 138.469 947.033 Q142.103 947.033 143.908 943.492 Q145.737 939.927 145.737 932.82 Q145.737 925.691 143.908 922.149 Q142.103 918.584 138.469 918.584 M138.469 914.881 Q144.279 914.881 147.334 919.487 Q150.413 924.07 150.413 932.82 Q150.413 941.547 147.334 946.154 Q144.279 950.737 138.469 950.737 Q132.658 950.737 129.58 946.154 Q126.524 941.547 126.524 932.82 Q126.524 924.07 129.58 919.487 Q132.658 914.881 138.469 914.881 Z\" fill=\"#000000\" fill-rule=\"nonzero\" fill-opacity=\"1\" /><path clip-path=\"url(#clip140)\" d=\"M186.802 924.603 L176.223 935.228 L186.802 945.806 L184.047 948.607 L173.422 937.982 L162.797 948.607 L160.066 945.806 L170.621 935.228 L160.066 924.603 L162.797 921.802 L173.422 932.427 L184.047 921.802 L186.802 924.603 Z\" fill=\"#000000\" fill-rule=\"nonzero\" fill-opacity=\"1\" /><path clip-path=\"url(#clip140)\" d=\"M199.163 946.131 L206.801 946.131 L206.801 919.765 L198.491 921.432 L198.491 917.172 L206.755 915.506 L211.431 915.506 L211.431 946.131 L219.07 946.131 L219.07 950.066 L199.163 950.066 L199.163 946.131 Z\" fill=\"#000000\" fill-rule=\"nonzero\" fill-opacity=\"1\" /><path clip-path=\"url(#clip140)\" d=\"M238.514 918.584 Q234.903 918.584 233.074 922.149 Q231.269 925.691 231.269 932.82 Q231.269 939.927 233.074 943.492 Q234.903 947.033 238.514 947.033 Q242.149 947.033 243.954 943.492 Q245.783 939.927 245.783 932.82 Q245.783 925.691 243.954 922.149 Q242.149 918.584 238.514 918.584 M238.514 914.881 Q244.324 914.881 247.38 919.487 Q250.459 924.07 250.459 932.82 Q250.459 941.547 247.38 946.154 Q244.324 950.737 238.514 950.737 Q232.704 950.737 229.625 946.154 Q226.57 941.547 226.57 932.82 Q226.57 924.07 229.625 919.487 Q232.704 914.881 238.514 914.881 Z\" fill=\"#000000\" fill-rule=\"nonzero\" fill-opacity=\"1\" /><path clip-path=\"url(#clip140)\" d=\"M260.483 907.101 Q257.925 907.101 256.421 908.85 Q254.935 910.6 254.935 913.646 Q254.935 916.674 256.421 918.442 Q257.925 920.191 260.483 920.191 Q263.041 920.191 264.527 918.442 Q266.031 916.674 266.031 913.646 Q266.031 910.6 264.527 908.85 Q263.041 907.101 260.483 907.101 M268.025 895.196 L268.025 898.657 Q266.596 897.979 265.129 897.622 Q263.681 897.265 262.251 897.265 Q258.49 897.265 256.496 899.804 Q254.521 902.343 254.239 907.477 Q255.349 905.841 257.023 904.976 Q258.696 904.092 260.709 904.092 Q264.941 904.092 267.386 906.669 Q269.849 909.227 269.849 913.646 Q269.849 917.972 267.292 920.586 Q264.734 923.201 260.483 923.201 Q255.612 923.201 253.035 919.477 Q250.459 915.734 250.459 908.644 Q250.459 901.986 253.618 898.036 Q256.778 894.067 262.101 894.067 Q263.53 894.067 264.978 894.35 Q266.445 894.632 268.025 895.196 Z\" fill=\"#000000\" fill-rule=\"nonzero\" fill-opacity=\"1\" /><path clip-path=\"url(#clip140)\" d=\"M53.2143 667.441 L53.2143 663.182 Q54.9736 664.015 56.7791 664.455 Q58.5847 664.895 60.3208 664.895 Q64.9504 664.895 67.3809 661.793 Q69.8346 658.668 70.1818 652.326 Q68.8393 654.316 66.7791 655.381 Q64.7189 656.446 62.2189 656.446 Q57.0338 656.446 54.0014 653.321 Q50.9921 650.173 50.9921 644.733 Q50.9921 639.409 54.1403 636.191 Q57.2884 632.974 62.5198 632.974 Q68.5152 632.974 71.6633 637.58 Q74.8346 642.164 74.8346 650.914 Q74.8346 659.085 70.9457 663.969 Q67.08 668.83 60.5291 668.83 Q58.7699 668.83 56.9643 668.483 Q55.1588 668.136 53.2143 667.441 M62.5198 652.789 Q65.668 652.789 67.4967 650.636 Q69.3485 648.483 69.3485 644.733 Q69.3485 641.006 67.4967 638.853 Q65.668 636.677 62.5198 636.677 Q59.3717 636.677 57.5199 638.853 Q55.6912 641.006 55.6912 644.733 Q55.6912 648.483 57.5199 650.636 Q59.3717 652.789 62.5198 652.789 Z\" fill=\"#000000\" fill-rule=\"nonzero\" fill-opacity=\"1\" /><path clip-path=\"url(#clip140)\" d=\"M83.2373 662.279 L88.1216 662.279 L88.1216 668.159 L83.2373 668.159 L83.2373 662.279 Z\" fill=\"#000000\" fill-rule=\"nonzero\" fill-opacity=\"1\" /><path clip-path=\"url(#clip140)\" d=\"M111.154 637.673 L99.3483 656.122 L111.154 656.122 L111.154 637.673 M109.927 633.599 L115.807 633.599 L115.807 656.122 L120.737 656.122 L120.737 660.011 L115.807 660.011 L115.807 668.159 L111.154 668.159 L111.154 660.011 L95.5521 660.011 L95.5521 655.497 L109.927 633.599 Z\" fill=\"#000000\" fill-rule=\"nonzero\" fill-opacity=\"1\" /><path clip-path=\"url(#clip140)\" d=\"M138.469 636.677 Q134.857 636.677 133.029 640.242 Q131.223 643.784 131.223 650.914 Q131.223 658.02 133.029 661.585 Q134.857 665.126 138.469 665.126 Q142.103 665.126 143.908 661.585 Q145.737 658.02 145.737 650.914 Q145.737 643.784 143.908 640.242 Q142.103 636.677 138.469 636.677 M138.469 632.974 Q144.279 632.974 147.334 637.58 Q150.413 642.164 150.413 650.914 Q150.413 659.64 147.334 664.247 Q144.279 668.83 138.469 668.83 Q132.658 668.83 129.58 664.247 Q126.524 659.64 126.524 650.914 Q126.524 642.164 129.58 637.58 Q132.658 632.974 138.469 632.974 Z\" fill=\"#000000\" fill-rule=\"nonzero\" fill-opacity=\"1\" /><path clip-path=\"url(#clip140)\" d=\"M186.802 642.696 L176.223 653.321 L186.802 663.9 L184.047 666.7 L173.422 656.076 L162.797 666.7 L160.066 663.9 L170.621 653.321 L160.066 642.696 L162.797 639.895 L173.422 650.52 L184.047 639.895 L186.802 642.696 Z\" fill=\"#000000\" fill-rule=\"nonzero\" fill-opacity=\"1\" /><path clip-path=\"url(#clip140)\" d=\"M199.163 664.224 L206.801 664.224 L206.801 637.858 L198.491 639.525 L198.491 635.265 L206.755 633.599 L211.431 633.599 L211.431 664.224 L219.07 664.224 L219.07 668.159 L199.163 668.159 L199.163 664.224 Z\" fill=\"#000000\" fill-rule=\"nonzero\" fill-opacity=\"1\" /><path clip-path=\"url(#clip140)\" d=\"M238.514 636.677 Q234.903 636.677 233.074 640.242 Q231.269 643.784 231.269 650.914 Q231.269 658.02 233.074 661.585 Q234.903 665.126 238.514 665.126 Q242.149 665.126 243.954 661.585 Q245.783 658.02 245.783 650.914 Q245.783 643.784 243.954 640.242 Q242.149 636.677 238.514 636.677 M238.514 632.974 Q244.324 632.974 247.38 637.58 Q250.459 642.164 250.459 650.914 Q250.459 659.64 247.38 664.247 Q244.324 668.83 238.514 668.83 Q232.704 668.83 229.625 664.247 Q226.57 659.64 226.57 650.914 Q226.57 642.164 229.625 637.58 Q232.704 632.974 238.514 632.974 Z\" fill=\"#000000\" fill-rule=\"nonzero\" fill-opacity=\"1\" /><path clip-path=\"url(#clip140)\" d=\"M260.483 625.194 Q257.925 625.194 256.421 626.943 Q254.935 628.693 254.935 631.739 Q254.935 634.768 256.421 636.535 Q257.925 638.285 260.483 638.285 Q263.041 638.285 264.527 636.535 Q266.031 634.768 266.031 631.739 Q266.031 628.693 264.527 626.943 Q263.041 625.194 260.483 625.194 M268.025 613.289 L268.025 616.75 Q266.596 616.073 265.129 615.715 Q263.681 615.358 262.251 615.358 Q258.49 615.358 256.496 617.897 Q254.521 620.436 254.239 625.571 Q255.349 623.934 257.023 623.069 Q258.696 622.185 260.709 622.185 Q264.941 622.185 267.386 624.762 Q269.849 627.32 269.849 631.739 Q269.849 636.065 267.292 638.68 Q264.734 641.294 260.483 641.294 Q255.612 641.294 253.035 637.57 Q250.459 633.827 250.459 626.737 Q250.459 620.079 253.618 616.129 Q256.778 612.161 262.101 612.161 Q263.53 612.161 264.978 612.443 Q266.445 612.725 268.025 613.289 Z\" fill=\"#000000\" fill-rule=\"nonzero\" fill-opacity=\"1\" /><path clip-path=\"url(#clip140)\" d=\"M53.2143 385.534 L53.2143 381.275 Q54.9736 382.108 56.7791 382.548 Q58.5847 382.988 60.3208 382.988 Q64.9504 382.988 67.3809 379.886 Q69.8346 376.761 70.1818 370.419 Q68.8393 372.409 66.7791 373.474 Q64.7189 374.539 62.2189 374.539 Q57.0338 374.539 54.0014 371.414 Q50.9921 368.266 50.9921 362.826 Q50.9921 357.502 54.1403 354.284 Q57.2884 351.067 62.5198 351.067 Q68.5152 351.067 71.6633 355.673 Q74.8346 360.257 74.8346 369.007 Q74.8346 377.178 70.9457 382.062 Q67.08 386.923 60.5291 386.923 Q58.7699 386.923 56.9643 386.576 Q55.1588 386.229 53.2143 385.534 M62.5198 370.882 Q65.668 370.882 67.4967 368.729 Q69.3485 366.576 69.3485 362.826 Q69.3485 359.099 67.4967 356.947 Q65.668 354.771 62.5198 354.771 Q59.3717 354.771 57.5199 356.947 Q55.6912 359.099 55.6912 362.826 Q55.6912 366.576 57.5199 368.729 Q59.3717 370.882 62.5198 370.882 Z\" fill=\"#000000\" fill-rule=\"nonzero\" fill-opacity=\"1\" /><path clip-path=\"url(#clip140)\" d=\"M83.2373 380.372 L88.1216 380.372 L88.1216 386.252 L83.2373 386.252 L83.2373 380.372 Z\" fill=\"#000000\" fill-rule=\"nonzero\" fill-opacity=\"1\" /><path clip-path=\"url(#clip140)\" d=\"M108.885 367.108 Q105.737 367.108 103.885 369.261 Q102.057 371.414 102.057 375.164 Q102.057 378.891 103.885 381.067 Q105.737 383.22 108.885 383.22 Q112.033 383.22 113.862 381.067 Q115.714 378.891 115.714 375.164 Q115.714 371.414 113.862 369.261 Q112.033 367.108 108.885 367.108 M118.168 352.456 L118.168 356.715 Q116.408 355.882 114.603 355.442 Q112.82 355.002 111.061 355.002 Q106.432 355.002 103.978 358.127 Q101.547 361.252 101.2 367.571 Q102.566 365.558 104.626 364.493 Q106.686 363.405 109.163 363.405 Q114.371 363.405 117.381 366.576 Q120.413 369.724 120.413 375.164 Q120.413 380.488 117.265 383.706 Q114.117 386.923 108.885 386.923 Q102.89 386.923 99.7187 382.34 Q96.5474 377.733 96.5474 369.007 Q96.5474 360.812 100.436 355.951 Q104.325 351.067 110.876 351.067 Q112.635 351.067 114.418 351.414 Q116.223 351.761 118.168 352.456 Z\" fill=\"#000000\" fill-rule=\"nonzero\" fill-opacity=\"1\" /><path clip-path=\"url(#clip140)\" d=\"M138.469 354.771 Q134.857 354.771 133.029 358.335 Q131.223 361.877 131.223 369.007 Q131.223 376.113 133.029 379.678 Q134.857 383.22 138.469 383.22 Q142.103 383.22 143.908 379.678 Q145.737 376.113 145.737 369.007 Q145.737 361.877 143.908 358.335 Q142.103 354.771 138.469 354.771 M138.469 351.067 Q144.279 351.067 147.334 355.673 Q150.413 360.257 150.413 369.007 Q150.413 377.733 147.334 382.34 Q144.279 386.923 138.469 386.923 Q132.658 386.923 129.58 382.34 Q126.524 377.733 126.524 369.007 Q126.524 360.257 129.58 355.673 Q132.658 351.067 138.469 351.067 Z\" fill=\"#000000\" fill-rule=\"nonzero\" fill-opacity=\"1\" /><path clip-path=\"url(#clip140)\" d=\"M186.802 360.789 L176.223 371.414 L186.802 381.993 L184.047 384.794 L173.422 374.169 L162.797 384.794 L160.066 381.993 L170.621 371.414 L160.066 360.789 L162.797 357.988 L173.422 368.613 L184.047 357.988 L186.802 360.789 Z\" fill=\"#000000\" fill-rule=\"nonzero\" fill-opacity=\"1\" /><path clip-path=\"url(#clip140)\" d=\"M199.163 382.317 L206.801 382.317 L206.801 355.951 L198.491 357.618 L198.491 353.359 L206.755 351.692 L211.431 351.692 L211.431 382.317 L219.07 382.317 L219.07 386.252 L199.163 386.252 L199.163 382.317 Z\" fill=\"#000000\" fill-rule=\"nonzero\" fill-opacity=\"1\" /><path clip-path=\"url(#clip140)\" d=\"M238.514 354.771 Q234.903 354.771 233.074 358.335 Q231.269 361.877 231.269 369.007 Q231.269 376.113 233.074 379.678 Q234.903 383.22 238.514 383.22 Q242.149 383.22 243.954 379.678 Q245.783 376.113 245.783 369.007 Q245.783 361.877 243.954 358.335 Q242.149 354.771 238.514 354.771 M238.514 351.067 Q244.324 351.067 247.38 355.673 Q250.459 360.257 250.459 369.007 Q250.459 377.733 247.38 382.34 Q244.324 386.923 238.514 386.923 Q232.704 386.923 229.625 382.34 Q226.57 377.733 226.57 369.007 Q226.57 360.257 229.625 355.673 Q232.704 351.067 238.514 351.067 Z\" fill=\"#000000\" fill-rule=\"nonzero\" fill-opacity=\"1\" /><path clip-path=\"url(#clip140)\" d=\"M260.483 343.287 Q257.925 343.287 256.421 345.037 Q254.935 346.786 254.935 349.833 Q254.935 352.861 256.421 354.629 Q257.925 356.378 260.483 356.378 Q263.041 356.378 264.527 354.629 Q266.031 352.861 266.031 349.833 Q266.031 346.786 264.527 345.037 Q263.041 343.287 260.483 343.287 M268.025 331.382 L268.025 334.843 Q266.596 334.166 265.129 333.808 Q263.681 333.451 262.251 333.451 Q258.49 333.451 256.496 335.99 Q254.521 338.529 254.239 343.664 Q255.349 342.027 257.023 341.162 Q258.696 340.278 260.709 340.278 Q264.941 340.278 267.386 342.855 Q269.849 345.413 269.849 349.833 Q269.849 354.158 267.292 356.773 Q264.734 359.387 260.483 359.387 Q255.612 359.387 253.035 355.663 Q250.459 351.92 250.459 344.83 Q250.459 338.172 253.618 334.222 Q256.778 330.254 262.101 330.254 Q263.53 330.254 264.978 330.536 Q266.445 330.818 268.025 331.382 Z\" fill=\"#000000\" fill-rule=\"nonzero\" fill-opacity=\"1\" /><path clip-path=\"url(#clip140)\" d=\"M53.2143 103.627 L53.2143 99.3682 Q54.9736 100.202 56.7791 100.641 Q58.5847 101.081 60.3208 101.081 Q64.9504 101.081 67.3809 97.9793 Q69.8346 94.8543 70.1818 88.5118 Q68.8393 90.5025 66.7791 91.5673 Q64.7189 92.6321 62.2189 92.6321 Q57.0338 92.6321 54.0014 89.5071 Q50.9921 86.359 50.9921 80.9192 Q50.9921 75.5952 54.1403 72.3776 Q57.2884 69.16 62.5198 69.16 Q68.5152 69.16 71.6633 73.7665 Q74.8346 78.3498 74.8346 87.0997 Q74.8346 95.271 70.9457 100.155 Q67.08 105.016 60.5291 105.016 Q58.7699 105.016 56.9643 104.669 Q55.1588 104.322 53.2143 103.627 M62.5198 88.9747 Q65.668 88.9747 67.4967 86.822 Q69.3485 84.6692 69.3485 80.9192 Q69.3485 77.1924 67.4967 75.0396 Q65.668 72.8637 62.5198 72.8637 Q59.3717 72.8637 57.5199 75.0396 Q55.6912 77.1924 55.6912 80.9192 Q55.6912 84.6692 57.5199 86.822 Q59.3717 88.9747 62.5198 88.9747 Z\" fill=\"#000000\" fill-rule=\"nonzero\" fill-opacity=\"1\" /><path clip-path=\"url(#clip140)\" d=\"M83.2373 98.4654 L88.1216 98.4654 L88.1216 104.345 L83.2373 104.345 L83.2373 98.4654 Z\" fill=\"#000000\" fill-rule=\"nonzero\" fill-opacity=\"1\" /><path clip-path=\"url(#clip140)\" d=\"M108.307 87.9331 Q104.973 87.9331 103.052 89.7155 Q101.154 91.4979 101.154 94.6229 Q101.154 97.7478 103.052 99.5302 Q104.973 101.313 108.307 101.313 Q111.64 101.313 113.561 99.5302 Q115.483 97.7247 115.483 94.6229 Q115.483 91.4979 113.561 89.7155 Q111.663 87.9331 108.307 87.9331 M103.631 85.9423 Q100.621 85.2016 98.9317 83.1414 Q97.265 81.0813 97.265 78.1183 Q97.265 73.9748 100.205 71.5674 Q103.168 69.16 108.307 69.16 Q113.469 69.16 116.408 71.5674 Q119.348 73.9748 119.348 78.1183 Q119.348 81.0813 117.658 83.1414 Q115.992 85.2016 113.006 85.9423 Q116.385 86.7294 118.26 89.021 Q120.158 91.3127 120.158 94.6229 Q120.158 99.646 117.08 102.331 Q114.024 105.016 108.307 105.016 Q102.589 105.016 99.5104 102.331 Q96.4548 99.646 96.4548 94.6229 Q96.4548 91.3127 98.353 89.021 Q100.251 86.7294 103.631 85.9423 M101.918 78.5581 Q101.918 81.2433 103.584 82.7479 Q105.274 84.2525 108.307 84.2525 Q111.316 84.2525 113.006 82.7479 Q114.719 81.2433 114.719 78.5581 Q114.719 75.873 113.006 74.3683 Q111.316 72.8637 108.307 72.8637 Q105.274 72.8637 103.584 74.3683 Q101.918 75.873 101.918 78.5581 Z\" fill=\"#000000\" fill-rule=\"nonzero\" fill-opacity=\"1\" /><path clip-path=\"url(#clip140)\" d=\"M138.469 72.8637 Q134.857 72.8637 133.029 76.4285 Q131.223 79.9702 131.223 87.0997 Q131.223 94.2062 133.029 97.771 Q134.857 101.313 138.469 101.313 Q142.103 101.313 143.908 97.771 Q145.737 94.2062 145.737 87.0997 Q145.737 79.9702 143.908 76.4285 Q142.103 72.8637 138.469 72.8637 M138.469 69.16 Q144.279 69.16 147.334 73.7665 Q150.413 78.3498 150.413 87.0997 Q150.413 95.8266 147.334 100.433 Q144.279 105.016 138.469 105.016 Q132.658 105.016 129.58 100.433 Q126.524 95.8266 126.524 87.0997 Q126.524 78.3498 129.58 73.7665 Q132.658 69.16 138.469 69.16 Z\" fill=\"#000000\" fill-rule=\"nonzero\" fill-opacity=\"1\" /><path clip-path=\"url(#clip140)\" d=\"M186.802 78.8822 L176.223 89.5071 L186.802 100.086 L184.047 102.887 L173.422 92.2618 L162.797 102.887 L160.066 100.086 L170.621 89.5071 L160.066 78.8822 L162.797 76.0813 L173.422 86.7062 L184.047 76.0813 L186.802 78.8822 Z\" fill=\"#000000\" fill-rule=\"nonzero\" fill-opacity=\"1\" /><path clip-path=\"url(#clip140)\" d=\"M199.163 100.41 L206.801 100.41 L206.801 74.0443 L198.491 75.7109 L198.491 71.4517 L206.755 69.785 L211.431 69.785 L211.431 100.41 L219.07 100.41 L219.07 104.345 L199.163 104.345 L199.163 100.41 Z\" fill=\"#000000\" fill-rule=\"nonzero\" fill-opacity=\"1\" /><path clip-path=\"url(#clip140)\" d=\"M238.514 72.8637 Q234.903 72.8637 233.074 76.4285 Q231.269 79.9702 231.269 87.0997 Q231.269 94.2062 233.074 97.771 Q234.903 101.313 238.514 101.313 Q242.149 101.313 243.954 97.771 Q245.783 94.2062 245.783 87.0997 Q245.783 79.9702 243.954 76.4285 Q242.149 72.8637 238.514 72.8637 M238.514 69.16 Q244.324 69.16 247.38 73.7665 Q250.459 78.3498 250.459 87.0997 Q250.459 95.8266 247.38 100.433 Q244.324 105.016 238.514 105.016 Q232.704 105.016 229.625 100.433 Q226.57 95.8266 226.57 87.0997 Q226.57 78.3498 229.625 73.7665 Q232.704 69.16 238.514 69.16 Z\" fill=\"#000000\" fill-rule=\"nonzero\" fill-opacity=\"1\" /><path clip-path=\"url(#clip140)\" d=\"M260.483 61.3806 Q257.925 61.3806 256.421 63.1297 Q254.935 64.8788 254.935 67.9257 Q254.935 70.9538 256.421 72.7217 Q257.925 74.4708 260.483 74.4708 Q263.041 74.4708 264.527 72.7217 Q266.031 70.9538 266.031 67.9257 Q266.031 64.8788 264.527 63.1297 Q263.041 61.3806 260.483 61.3806 M268.025 49.4753 L268.025 52.9359 Q266.596 52.2588 265.129 51.9015 Q263.681 51.5441 262.251 51.5441 Q258.49 51.5441 256.496 54.0832 Q254.521 56.6222 254.239 61.7568 Q255.349 60.1205 257.023 59.2553 Q258.696 58.3714 260.709 58.3714 Q264.941 58.3714 267.386 60.948 Q269.849 63.5059 269.849 67.9257 Q269.849 72.2515 267.292 74.8658 Q264.734 77.48 260.483 77.48 Q255.612 77.48 253.035 73.7561 Q250.459 70.0134 250.459 62.9228 Q250.459 56.2649 253.618 52.3153 Q256.778 48.3468 262.101 48.3468 Q263.53 48.3468 264.978 48.6289 Q266.445 48.911 268.025 49.4753 Z\" fill=\"#000000\" fill-rule=\"nonzero\" fill-opacity=\"1\" /><polyline clip-path=\"url(#clip142)\" style=\"stroke:#009af9; stroke-linecap:round; stroke-linejoin:round; stroke-width:4; stroke-opacity:1; fill:none\" points=\"363.781,87.9763 403.19,599.462 442.599,882.391 482.008,1031.99 521.417,1120.52 560.826,1178.42 600.235,1220.64 639.644,1251.84 679.053,1275.53 718.462,1294.4 757.871,1310.3 797.28,1324.75 836.689,1337.48 876.099,1348.75 915.508,1358.79 954.917,1367.34 994.326,1375.07 1033.73,1381.82 1073.14,1387.75 1112.55,1393.11 1151.96,1398.02 1191.37,1402.29 1230.78,1405.86 1270.19,1409.19 1309.6,1412.23 1349.01,1415.19 1388.42,1417.76 1427.83,1420.11 1467.23,1422.31 1506.64,1424.39 1546.05,1426.39 1585.46,1428.21 1624.87,1429.89 1664.28,1431.31 1703.69,1432.61 1743.1,1433.9 1782.51,1435.1 1821.92,1436.24 1861.32,1437.33 1900.73,1438.22 1940.14,1439.15 1979.55,1440.08 2018.96,1440.94 2058.37,1441.68 2097.78,1442.39 2137.19,1443.13 2176.6,1443.78 2216.01,1444.42 2255.42,1445.08 2294.82,1445.72 \"/>\n",
       "<path clip-path=\"url(#clip140)\" d=\"M2027.4 198.898 L2284.53 198.898 L2284.53 95.2176 L2027.4 95.2176  Z\" fill=\"#ffffff\" fill-rule=\"evenodd\" fill-opacity=\"1\"/>\n",
       "<polyline clip-path=\"url(#clip140)\" style=\"stroke:#000000; stroke-linecap:round; stroke-linejoin:round; stroke-width:4; stroke-opacity:1; fill:none\" points=\"2027.4,198.898 2284.53,198.898 2284.53,95.2176 2027.4,95.2176 2027.4,198.898 \"/>\n",
       "<polyline clip-path=\"url(#clip140)\" style=\"stroke:#009af9; stroke-linecap:round; stroke-linejoin:round; stroke-width:4; stroke-opacity:1; fill:none\" points=\"2050.15,147.058 2186.61,147.058 \"/>\n",
       "<path clip-path=\"url(#clip140)\" d=\"M2223.19 166.745 Q2221.39 171.375 2219.68 172.787 Q2217.96 174.199 2215.09 174.199 L2211.69 174.199 L2211.69 170.634 L2214.19 170.634 Q2215.95 170.634 2216.92 169.8 Q2217.89 168.967 2219.07 165.865 L2219.84 163.921 L2209.35 138.412 L2213.87 138.412 L2221.97 158.689 L2230.07 138.412 L2234.58 138.412 L2223.19 166.745 Z\" fill=\"#000000\" fill-rule=\"nonzero\" fill-opacity=\"1\" /><path clip-path=\"url(#clip140)\" d=\"M2241.87 160.402 L2249.51 160.402 L2249.51 134.037 L2241.2 135.703 L2241.2 131.444 L2249.47 129.778 L2254.14 129.778 L2254.14 160.402 L2261.78 160.402 L2261.78 164.338 L2241.87 164.338 L2241.87 160.402 Z\" fill=\"#000000\" fill-rule=\"nonzero\" fill-opacity=\"1\" /></svg>\n"
      ]
     },
     "execution_count": 15,
     "metadata": {},
     "output_type": "execute_result"
    }
   ],
   "source": [
    "plot(trace)"
   ]
  },
  {
   "cell_type": "code",
   "execution_count": 173,
   "id": "b49eeefd-6078-4cb0-b3e0-c5134f7023fe",
   "metadata": {},
   "outputs": [],
   "source": [
    "# NTF\n",
    "# Cg = cor(X).^2; Cg[diagind(Cg)] .= 0\n",
    "# S, A, trace = fitntf(cu(reshape(qnorm(TE, 0.9), :, size(X, 2), size(X, 2))),\n",
    "#                      [Array{Float32}(I(size(X, 1))), Array{Float32}(I(size(X, 2))), Array{Float32}(I(size(X, 2)))], Array{Float32}(1e-3*I + L), \n",
    "#                      cu(repeat(reshape(Cg, 1, size(X, 2), size(X, 2)), size(X, 1))), \n",
    "#                      [1, 1, 1],\n",
    "#                      [1, 1, 1],\n",
    "#                      10.0,\n",
    "#                      0.0,\n",
    "#                      36; iter = 500, dictionary = false, η = 1.0);"
   ]
  },
  {
   "cell_type": "code",
   "execution_count": 76,
   "id": "730ccdef-06aa-47b9-aa8e-b378712d5f19",
   "metadata": {},
   "outputs": [],
   "source": [
    "# for i = 1:length(A)\n",
    "#     npzwrite(\"A_$i.npy\", Array(A[i]))\n",
    "# end"
   ]
  },
  {
   "cell_type": "code",
   "execution_count": 15,
   "id": "2e901675-609b-4bf0-8113-4deb19b1b279",
   "metadata": {},
   "outputs": [],
   "source": [
    "# plot(trace)"
   ]
  },
  {
   "cell_type": "code",
   "execution_count": null,
   "id": "e0378d29-c7db-48d8-bc46-a805587e2f63",
   "metadata": {},
   "outputs": [],
   "source": []
  }
 ],
 "metadata": {
  "kernelspec": {
   "display_name": "Julia 1.8.4",
   "language": "julia",
   "name": "julia-1.8"
  },
  "language_info": {
   "file_extension": ".jl",
   "mimetype": "application/julia",
   "name": "julia",
   "version": "1.8.4"
  },
  "widgets": {
   "application/vnd.jupyter.widget-state+json": {
    "state": {},
    "version_major": 2,
    "version_minor": 0
   }
  }
 },
 "nbformat": 4,
 "nbformat_minor": 5
}
