{
 "cells": [
  {
   "cell_type": "code",
   "execution_count": 1,
   "id": "84a62804-d27a-4fad-93bf-11080638174b",
   "metadata": {},
   "outputs": [
    {
     "name": "stderr",
     "output_type": "stream",
     "text": [
      "\u001b[32m\u001b[1m   Resolving\u001b[22m\u001b[39m package versions...\n",
      "\u001b[32m\u001b[1m  No Changes\u001b[22m\u001b[39m to `/data/gpfs/projects/punim0638/stephenz/locaTE-paper/examples/pancreas/Project.toml`\n",
      "\u001b[32m\u001b[1m  No Changes\u001b[22m\u001b[39m to `/data/gpfs/projects/punim0638/stephenz/locaTE-paper/examples/pancreas/Manifest.toml`\n"
     ]
    }
   ],
   "source": [
    "using Revise\n",
    "using Pkg\n",
    "Pkg.develop(path=\"/home/stephenz/stephenz/locaTE.jl\")"
   ]
  },
  {
   "cell_type": "code",
   "execution_count": 2,
   "id": "fb3bc5c4-3fae-43f0-bc08-1867118534b6",
   "metadata": {},
   "outputs": [],
   "source": [
    "using NPZ\n",
    "using locaTE\n",
    "using NearestNeighbors\n",
    "using Graphs\n",
    "using GraphSignals\n",
    "using SparseArrays\n",
    "using LinearAlgebra\n",
    "using Plots\n",
    "using StatsBase\n",
    "using CUDA\n",
    "using Random\n",
    "using NNlib"
   ]
  },
  {
   "cell_type": "code",
   "execution_count": 3,
   "id": "523839ed-f576-4d2d-a83b-1d07b271899a",
   "metadata": {},
   "outputs": [],
   "source": [
    "DATA_DIR = \"../../data/pancreas/\"\n",
    "X = npzread(string(DATA_DIR, \"X.npy\"))\n",
    "G = npzread(\"G_locate.npy\");\n",
    "TE = npzread(\"TE_locate.npy\");\n",
    "L = sparse(npzread(\"L_locate.npy\"));\n",
    "qnorm(x, q) = x ./ quantile(vec(x), q)\n",
    "Cg = cor(X).^2; Cg[diagind(Cg)] .= 0;"
   ]
  },
  {
   "cell_type": "code",
   "execution_count": 4,
   "id": "de9ef726-c01f-498b-874a-37a349258a8a",
   "metadata": {
    "tags": []
   },
   "outputs": [
    {
     "name": "stderr",
     "output_type": "stream",
     "text": [
      "\u001b[32mProgress: 100%|█████████████████████████████████████████| Time: 0:00:04\u001b[39m\n"
     ]
    }
   ],
   "source": [
    "A = reshape(maximum(G; dims = 1), size(X, 2), size(X, 2))\n",
    "G_cdf = apply_cdf_norm(G, A .+ 1e-9);\n",
    "npzwrite(\"G_cdf.npy\", G_cdf);"
   ]
  },
  {
   "cell_type": "code",
   "execution_count": 11,
   "id": "2ff4b895-7bbf-4d62-aea5-c7873444168d",
   "metadata": {
    "tags": []
   },
   "outputs": [],
   "source": [
    "G_static = reshape(mean(G; dims = 1), size(X, 2), size(X, 2))\n",
    "G_static_cdf = cdf_norm(G_static, G_static .+ 1e-9);\n",
    "npzwrite(\"G_static.npy\", G_static)\n",
    "npzwrite(\"G_static_cdf.npy\", G_static_cdf)"
   ]
  },
  {
   "cell_type": "code",
   "execution_count": 18,
   "id": "4aeab034-31c7-4dba-b30d-693a8138e1d7",
   "metadata": {
    "tags": []
   },
   "outputs": [
    {
     "data": {
      "image/svg+xml": [
       "<?xml version=\"1.0\" encoding=\"utf-8\"?>\n",
       "<svg xmlns=\"http://www.w3.org/2000/svg\" xmlns:xlink=\"http://www.w3.org/1999/xlink\" width=\"600\" height=\"400\" viewBox=\"0 0 2400 1600\">\n",
       "<defs>\n",
       "  <clipPath id=\"clip350\">\n",
       "    <rect x=\"0\" y=\"0\" width=\"2400\" height=\"1600\"/>\n",
       "  </clipPath>\n",
       "</defs>\n",
       "<path clip-path=\"url(#clip350)\" d=\"M0 1600 L2400 1600 L2400 0 L0 0  Z\" fill=\"#ffffff\" fill-rule=\"evenodd\" fill-opacity=\"1\"/>\n",
       "<defs>\n",
       "  <clipPath id=\"clip351\">\n",
       "    <rect x=\"480\" y=\"0\" width=\"1681\" height=\"1600\"/>\n",
       "  </clipPath>\n",
       "</defs>\n",
       "<path clip-path=\"url(#clip350)\" d=\"M141.853 1486.45 L2352.76 1486.45 L2352.76 47.2441 L141.853 47.2441  Z\" fill=\"#ffffff\" fill-rule=\"evenodd\" fill-opacity=\"1\"/>\n",
       "<defs>\n",
       "  <clipPath id=\"clip352\">\n",
       "    <rect x=\"141\" y=\"47\" width=\"2212\" height=\"1440\"/>\n",
       "  </clipPath>\n",
       "</defs>\n",
       "<polyline clip-path=\"url(#clip352)\" style=\"stroke:#000000; stroke-linecap:round; stroke-linejoin:round; stroke-width:2; stroke-opacity:0.1; fill:none\" points=\"552.052,1486.45 552.052,47.2441 \"/>\n",
       "<polyline clip-path=\"url(#clip352)\" style=\"stroke:#000000; stroke-linecap:round; stroke-linejoin:round; stroke-width:2; stroke-opacity:0.1; fill:none\" points=\"986.585,1486.45 986.585,47.2441 \"/>\n",
       "<polyline clip-path=\"url(#clip352)\" style=\"stroke:#000000; stroke-linecap:round; stroke-linejoin:round; stroke-width:2; stroke-opacity:0.1; fill:none\" points=\"1421.12,1486.45 1421.12,47.2441 \"/>\n",
       "<polyline clip-path=\"url(#clip352)\" style=\"stroke:#000000; stroke-linecap:round; stroke-linejoin:round; stroke-width:2; stroke-opacity:0.1; fill:none\" points=\"1855.65,1486.45 1855.65,47.2441 \"/>\n",
       "<polyline clip-path=\"url(#clip352)\" style=\"stroke:#000000; stroke-linecap:round; stroke-linejoin:round; stroke-width:2; stroke-opacity:0.1; fill:none\" points=\"2290.18,1486.45 2290.18,47.2441 \"/>\n",
       "<polyline clip-path=\"url(#clip350)\" style=\"stroke:#000000; stroke-linecap:round; stroke-linejoin:round; stroke-width:4; stroke-opacity:1; fill:none\" points=\"141.853,1486.45 2352.76,1486.45 \"/>\n",
       "<polyline clip-path=\"url(#clip350)\" style=\"stroke:#000000; stroke-linecap:round; stroke-linejoin:round; stroke-width:4; stroke-opacity:1; fill:none\" points=\"552.052,1486.45 552.052,1467.55 \"/>\n",
       "<polyline clip-path=\"url(#clip350)\" style=\"stroke:#000000; stroke-linecap:round; stroke-linejoin:round; stroke-width:4; stroke-opacity:1; fill:none\" points=\"986.585,1486.45 986.585,1467.55 \"/>\n",
       "<polyline clip-path=\"url(#clip350)\" style=\"stroke:#000000; stroke-linecap:round; stroke-linejoin:round; stroke-width:4; stroke-opacity:1; fill:none\" points=\"1421.12,1486.45 1421.12,1467.55 \"/>\n",
       "<polyline clip-path=\"url(#clip350)\" style=\"stroke:#000000; stroke-linecap:round; stroke-linejoin:round; stroke-width:4; stroke-opacity:1; fill:none\" points=\"1855.65,1486.45 1855.65,1467.55 \"/>\n",
       "<polyline clip-path=\"url(#clip350)\" style=\"stroke:#000000; stroke-linecap:round; stroke-linejoin:round; stroke-width:4; stroke-opacity:1; fill:none\" points=\"2290.18,1486.45 2290.18,1467.55 \"/>\n",
       "<path clip-path=\"url(#clip350)\" d=\"M542.33 1514.29 L560.686 1514.29 L560.686 1518.22 L546.612 1518.22 L546.612 1526.7 Q547.631 1526.35 548.649 1526.19 Q549.668 1526 550.686 1526 Q556.473 1526 559.853 1529.17 Q563.232 1532.34 563.232 1537.76 Q563.232 1543.34 559.76 1546.44 Q556.288 1549.52 549.969 1549.52 Q547.793 1549.52 545.524 1549.15 Q543.279 1548.78 540.871 1548.04 L540.871 1543.34 Q542.955 1544.47 545.177 1545.03 Q547.399 1545.58 549.876 1545.58 Q553.881 1545.58 556.219 1543.48 Q558.557 1541.37 558.557 1537.76 Q558.557 1534.15 556.219 1532.04 Q553.881 1529.94 549.876 1529.94 Q548.001 1529.94 546.126 1530.35 Q544.274 1530.77 542.33 1531.65 L542.33 1514.29 Z\" fill=\"#000000\" fill-rule=\"nonzero\" fill-opacity=\"1\" /><path clip-path=\"url(#clip350)\" d=\"M961.272 1544.91 L968.911 1544.91 L968.911 1518.55 L960.601 1520.21 L960.601 1515.95 L968.865 1514.29 L973.541 1514.29 L973.541 1544.91 L981.18 1544.91 L981.18 1548.85 L961.272 1548.85 L961.272 1544.91 Z\" fill=\"#000000\" fill-rule=\"nonzero\" fill-opacity=\"1\" /><path clip-path=\"url(#clip350)\" d=\"M1000.62 1517.37 Q997.013 1517.37 995.184 1520.93 Q993.379 1524.47 993.379 1531.6 Q993.379 1538.71 995.184 1542.27 Q997.013 1545.82 1000.62 1545.82 Q1004.26 1545.82 1006.06 1542.27 Q1007.89 1538.71 1007.89 1531.6 Q1007.89 1524.47 1006.06 1520.93 Q1004.26 1517.37 1000.62 1517.37 M1000.62 1513.66 Q1006.43 1513.66 1009.49 1518.27 Q1012.57 1522.85 1012.57 1531.6 Q1012.57 1540.33 1009.49 1544.94 Q1006.43 1549.52 1000.62 1549.52 Q994.814 1549.52 991.735 1544.94 Q988.68 1540.33 988.68 1531.6 Q988.68 1522.85 991.735 1518.27 Q994.814 1513.66 1000.62 1513.66 Z\" fill=\"#000000\" fill-rule=\"nonzero\" fill-opacity=\"1\" /><path clip-path=\"url(#clip350)\" d=\"M1396.3 1544.91 L1403.94 1544.91 L1403.94 1518.55 L1395.63 1520.21 L1395.63 1515.95 L1403.9 1514.29 L1408.57 1514.29 L1408.57 1544.91 L1416.21 1544.91 L1416.21 1548.85 L1396.3 1548.85 L1396.3 1544.91 Z\" fill=\"#000000\" fill-rule=\"nonzero\" fill-opacity=\"1\" /><path clip-path=\"url(#clip350)\" d=\"M1425.7 1514.29 L1444.06 1514.29 L1444.06 1518.22 L1429.98 1518.22 L1429.98 1526.7 Q1431 1526.35 1432.02 1526.19 Q1433.04 1526 1434.06 1526 Q1439.84 1526 1443.22 1529.17 Q1446.6 1532.34 1446.6 1537.76 Q1446.6 1543.34 1443.13 1546.44 Q1439.66 1549.52 1433.34 1549.52 Q1431.16 1549.52 1428.9 1549.15 Q1426.65 1548.78 1424.24 1548.04 L1424.24 1543.34 Q1426.33 1544.47 1428.55 1545.03 Q1430.77 1545.58 1433.25 1545.58 Q1437.25 1545.58 1439.59 1543.48 Q1441.93 1541.37 1441.93 1537.76 Q1441.93 1534.15 1439.59 1532.04 Q1437.25 1529.94 1433.25 1529.94 Q1431.37 1529.94 1429.5 1530.35 Q1427.65 1530.77 1425.7 1531.65 L1425.7 1514.29 Z\" fill=\"#000000\" fill-rule=\"nonzero\" fill-opacity=\"1\" /><path clip-path=\"url(#clip350)\" d=\"M1834.42 1544.91 L1850.74 1544.91 L1850.74 1548.85 L1828.8 1548.85 L1828.8 1544.91 Q1831.46 1542.16 1836.04 1537.53 Q1840.65 1532.88 1841.83 1531.53 Q1844.08 1529.01 1844.96 1527.27 Q1845.86 1525.51 1845.86 1523.82 Q1845.86 1521.07 1843.91 1519.33 Q1841.99 1517.6 1838.89 1517.6 Q1836.69 1517.6 1834.24 1518.36 Q1831.81 1519.13 1829.03 1520.68 L1829.03 1515.95 Q1831.85 1514.82 1834.31 1514.24 Q1836.76 1513.66 1838.8 1513.66 Q1844.17 1513.66 1847.36 1516.35 Q1850.56 1519.03 1850.56 1523.52 Q1850.56 1525.65 1849.75 1527.57 Q1848.96 1529.47 1846.85 1532.07 Q1846.28 1532.74 1843.17 1535.95 Q1840.07 1539.15 1834.42 1544.91 Z\" fill=\"#000000\" fill-rule=\"nonzero\" fill-opacity=\"1\" /><path clip-path=\"url(#clip350)\" d=\"M1870.56 1517.37 Q1866.95 1517.37 1865.12 1520.93 Q1863.31 1524.47 1863.31 1531.6 Q1863.31 1538.71 1865.12 1542.27 Q1866.95 1545.82 1870.56 1545.82 Q1874.19 1545.82 1876 1542.27 Q1877.83 1538.71 1877.83 1531.6 Q1877.83 1524.47 1876 1520.93 Q1874.19 1517.37 1870.56 1517.37 M1870.56 1513.66 Q1876.37 1513.66 1879.42 1518.27 Q1882.5 1522.85 1882.5 1531.6 Q1882.5 1540.33 1879.42 1544.94 Q1876.37 1549.52 1870.56 1549.52 Q1864.75 1549.52 1861.67 1544.94 Q1858.61 1540.33 1858.61 1531.6 Q1858.61 1522.85 1861.67 1518.27 Q1864.75 1513.66 1870.56 1513.66 Z\" fill=\"#000000\" fill-rule=\"nonzero\" fill-opacity=\"1\" /><path clip-path=\"url(#clip350)\" d=\"M2269.45 1544.91 L2285.77 1544.91 L2285.77 1548.85 L2263.83 1548.85 L2263.83 1544.91 Q2266.49 1542.16 2271.07 1537.53 Q2275.68 1532.88 2276.86 1531.53 Q2279.11 1529.01 2279.99 1527.27 Q2280.89 1525.51 2280.89 1523.82 Q2280.89 1521.07 2278.94 1519.33 Q2277.02 1517.6 2273.92 1517.6 Q2271.72 1517.6 2269.27 1518.36 Q2266.84 1519.13 2264.06 1520.68 L2264.06 1515.95 Q2266.88 1514.82 2269.34 1514.24 Q2271.79 1513.66 2273.83 1513.66 Q2279.2 1513.66 2282.39 1516.35 Q2285.59 1519.03 2285.59 1523.52 Q2285.59 1525.65 2284.78 1527.57 Q2283.99 1529.47 2281.88 1532.07 Q2281.31 1532.74 2278.2 1535.95 Q2275.1 1539.15 2269.45 1544.91 Z\" fill=\"#000000\" fill-rule=\"nonzero\" fill-opacity=\"1\" /><path clip-path=\"url(#clip350)\" d=\"M2295.63 1514.29 L2313.99 1514.29 L2313.99 1518.22 L2299.92 1518.22 L2299.92 1526.7 Q2300.94 1526.35 2301.95 1526.19 Q2302.97 1526 2303.99 1526 Q2309.78 1526 2313.16 1529.17 Q2316.54 1532.34 2316.54 1537.76 Q2316.54 1543.34 2313.07 1546.44 Q2309.59 1549.52 2303.27 1549.52 Q2301.1 1549.52 2298.83 1549.15 Q2296.58 1548.78 2294.18 1548.04 L2294.18 1543.34 Q2296.26 1544.47 2298.48 1545.03 Q2300.7 1545.58 2303.18 1545.58 Q2307.19 1545.58 2309.52 1543.48 Q2311.86 1541.37 2311.86 1537.76 Q2311.86 1534.15 2309.52 1532.04 Q2307.19 1529.94 2303.18 1529.94 Q2301.31 1529.94 2299.43 1530.35 Q2297.58 1530.77 2295.63 1531.65 L2295.63 1514.29 Z\" fill=\"#000000\" fill-rule=\"nonzero\" fill-opacity=\"1\" /><polyline clip-path=\"url(#clip352)\" style=\"stroke:#000000; stroke-linecap:round; stroke-linejoin:round; stroke-width:2; stroke-opacity:0.1; fill:none\" points=\"141.853,1457.13 2352.76,1457.13 \"/>\n",
       "<polyline clip-path=\"url(#clip352)\" style=\"stroke:#000000; stroke-linecap:round; stroke-linejoin:round; stroke-width:2; stroke-opacity:0.1; fill:none\" points=\"141.853,1240.25 2352.76,1240.25 \"/>\n",
       "<polyline clip-path=\"url(#clip352)\" style=\"stroke:#000000; stroke-linecap:round; stroke-linejoin:round; stroke-width:2; stroke-opacity:0.1; fill:none\" points=\"141.853,1023.36 2352.76,1023.36 \"/>\n",
       "<polyline clip-path=\"url(#clip352)\" style=\"stroke:#000000; stroke-linecap:round; stroke-linejoin:round; stroke-width:2; stroke-opacity:0.1; fill:none\" points=\"141.853,806.466 2352.76,806.466 \"/>\n",
       "<polyline clip-path=\"url(#clip352)\" style=\"stroke:#000000; stroke-linecap:round; stroke-linejoin:round; stroke-width:2; stroke-opacity:0.1; fill:none\" points=\"141.853,589.577 2352.76,589.577 \"/>\n",
       "<polyline clip-path=\"url(#clip352)\" style=\"stroke:#000000; stroke-linecap:round; stroke-linejoin:round; stroke-width:2; stroke-opacity:0.1; fill:none\" points=\"141.853,372.688 2352.76,372.688 \"/>\n",
       "<polyline clip-path=\"url(#clip352)\" style=\"stroke:#000000; stroke-linecap:round; stroke-linejoin:round; stroke-width:2; stroke-opacity:0.1; fill:none\" points=\"141.853,155.798 2352.76,155.798 \"/>\n",
       "<polyline clip-path=\"url(#clip350)\" style=\"stroke:#000000; stroke-linecap:round; stroke-linejoin:round; stroke-width:4; stroke-opacity:1; fill:none\" points=\"141.853,1486.45 141.853,47.2441 \"/>\n",
       "<polyline clip-path=\"url(#clip350)\" style=\"stroke:#000000; stroke-linecap:round; stroke-linejoin:round; stroke-width:4; stroke-opacity:1; fill:none\" points=\"141.853,1457.13 160.751,1457.13 \"/>\n",
       "<polyline clip-path=\"url(#clip350)\" style=\"stroke:#000000; stroke-linecap:round; stroke-linejoin:round; stroke-width:4; stroke-opacity:1; fill:none\" points=\"141.853,1240.25 160.751,1240.25 \"/>\n",
       "<polyline clip-path=\"url(#clip350)\" style=\"stroke:#000000; stroke-linecap:round; stroke-linejoin:round; stroke-width:4; stroke-opacity:1; fill:none\" points=\"141.853,1023.36 160.751,1023.36 \"/>\n",
       "<polyline clip-path=\"url(#clip350)\" style=\"stroke:#000000; stroke-linecap:round; stroke-linejoin:round; stroke-width:4; stroke-opacity:1; fill:none\" points=\"141.853,806.466 160.751,806.466 \"/>\n",
       "<polyline clip-path=\"url(#clip350)\" style=\"stroke:#000000; stroke-linecap:round; stroke-linejoin:round; stroke-width:4; stroke-opacity:1; fill:none\" points=\"141.853,589.577 160.751,589.577 \"/>\n",
       "<polyline clip-path=\"url(#clip350)\" style=\"stroke:#000000; stroke-linecap:round; stroke-linejoin:round; stroke-width:4; stroke-opacity:1; fill:none\" points=\"141.853,372.688 160.751,372.688 \"/>\n",
       "<polyline clip-path=\"url(#clip350)\" style=\"stroke:#000000; stroke-linecap:round; stroke-linejoin:round; stroke-width:4; stroke-opacity:1; fill:none\" points=\"141.853,155.798 160.751,155.798 \"/>\n",
       "<path clip-path=\"url(#clip350)\" d=\"M93.9086 1442.93 Q90.2975 1442.93 88.4688 1446.5 Q86.6632 1450.04 86.6632 1457.17 Q86.6632 1464.28 88.4688 1467.84 Q90.2975 1471.38 93.9086 1471.38 Q97.5428 1471.38 99.3483 1467.84 Q101.177 1464.28 101.177 1457.17 Q101.177 1450.04 99.3483 1446.5 Q97.5428 1442.93 93.9086 1442.93 M93.9086 1439.23 Q99.7187 1439.23 102.774 1443.84 Q105.853 1448.42 105.853 1457.17 Q105.853 1465.9 102.774 1470.5 Q99.7187 1475.09 93.9086 1475.09 Q88.0984 1475.09 85.0197 1470.5 Q81.9642 1465.9 81.9642 1457.17 Q81.9642 1448.42 85.0197 1443.84 Q88.0984 1439.23 93.9086 1439.23 Z\" fill=\"#000000\" fill-rule=\"nonzero\" fill-opacity=\"1\" /><path clip-path=\"url(#clip350)\" d=\"M54.5569 1253.59 L62.1958 1253.59 L62.1958 1227.22 L53.8856 1228.89 L53.8856 1224.63 L62.1495 1222.97 L66.8254 1222.97 L66.8254 1253.59 L74.4642 1253.59 L74.4642 1257.53 L54.5569 1257.53 L54.5569 1253.59 Z\" fill=\"#000000\" fill-rule=\"nonzero\" fill-opacity=\"1\" /><path clip-path=\"url(#clip350)\" d=\"M93.9086 1226.04 Q90.2975 1226.04 88.4688 1229.61 Q86.6632 1233.15 86.6632 1240.28 Q86.6632 1247.39 88.4688 1250.95 Q90.2975 1254.49 93.9086 1254.49 Q97.5428 1254.49 99.3483 1250.95 Q101.177 1247.39 101.177 1240.28 Q101.177 1233.15 99.3483 1229.61 Q97.5428 1226.04 93.9086 1226.04 M93.9086 1222.34 Q99.7187 1222.34 102.774 1226.95 Q105.853 1231.53 105.853 1240.28 Q105.853 1249.01 102.774 1253.61 Q99.7187 1258.2 93.9086 1258.2 Q88.0984 1258.2 85.0197 1253.61 Q81.9642 1249.01 81.9642 1240.28 Q81.9642 1231.53 85.0197 1226.95 Q88.0984 1222.34 93.9086 1222.34 Z\" fill=\"#000000\" fill-rule=\"nonzero\" fill-opacity=\"1\" /><path clip-path=\"url(#clip350)\" d=\"M57.7745 1036.7 L74.0939 1036.7 L74.0939 1040.64 L52.1495 1040.64 L52.1495 1036.7 Q54.8115 1033.95 59.3949 1029.32 Q64.0013 1024.66 65.1819 1023.32 Q67.4272 1020.8 68.3068 1019.06 Q69.2096 1017.3 69.2096 1015.61 Q69.2096 1012.86 67.2652 1011.12 Q65.3439 1009.39 62.2421 1009.39 Q60.043 1009.39 57.5893 1010.15 Q55.1588 1010.91 52.381 1012.46 L52.381 1007.74 Q55.2051 1006.61 57.6588 1006.03 Q60.1124 1005.45 62.1495 1005.45 Q67.5198 1005.45 70.7142 1008.14 Q73.9087 1010.82 73.9087 1015.31 Q73.9087 1017.44 73.0985 1019.36 Q72.3115 1021.26 70.205 1023.85 Q69.6263 1024.52 66.5245 1027.74 Q63.4226 1030.94 57.7745 1036.7 Z\" fill=\"#000000\" fill-rule=\"nonzero\" fill-opacity=\"1\" /><path clip-path=\"url(#clip350)\" d=\"M93.9086 1009.15 Q90.2975 1009.15 88.4688 1012.72 Q86.6632 1016.26 86.6632 1023.39 Q86.6632 1030.5 88.4688 1034.06 Q90.2975 1037.6 93.9086 1037.6 Q97.5428 1037.6 99.3483 1034.06 Q101.177 1030.5 101.177 1023.39 Q101.177 1016.26 99.3483 1012.72 Q97.5428 1009.15 93.9086 1009.15 M93.9086 1005.45 Q99.7187 1005.45 102.774 1010.06 Q105.853 1014.64 105.853 1023.39 Q105.853 1032.12 102.774 1036.72 Q99.7187 1041.31 93.9086 1041.31 Q88.0984 1041.31 85.0197 1036.72 Q81.9642 1032.12 81.9642 1023.39 Q81.9642 1014.64 85.0197 1010.06 Q88.0984 1005.45 93.9086 1005.45 Z\" fill=\"#000000\" fill-rule=\"nonzero\" fill-opacity=\"1\" /><path clip-path=\"url(#clip350)\" d=\"M67.9133 805.112 Q71.2698 805.83 73.1448 808.098 Q75.0429 810.367 75.0429 813.7 Q75.0429 818.816 71.5244 821.617 Q68.0059 824.418 61.5245 824.418 Q59.3486 824.418 57.0338 823.978 Q54.7421 823.561 52.2884 822.705 L52.2884 818.191 Q54.2328 819.325 56.5477 819.904 Q58.8625 820.483 61.3856 820.483 Q65.7837 820.483 68.0754 818.746 Q70.3902 817.01 70.3902 813.7 Q70.3902 810.645 68.2374 808.932 Q66.1078 807.196 62.2884 807.196 L58.2606 807.196 L58.2606 803.353 L62.4735 803.353 Q65.9226 803.353 67.7513 801.987 Q69.58 800.598 69.58 798.006 Q69.58 795.344 67.6819 793.932 Q65.8069 792.497 62.2884 792.497 Q60.3671 792.497 58.168 792.913 Q55.969 793.33 53.3301 794.21 L53.3301 790.043 Q55.9921 789.302 58.3069 788.932 Q60.6449 788.561 62.705 788.561 Q68.0291 788.561 71.1309 790.992 Q74.2327 793.399 74.2327 797.52 Q74.2327 800.39 72.5892 802.381 Q70.9457 804.348 67.9133 805.112 Z\" fill=\"#000000\" fill-rule=\"nonzero\" fill-opacity=\"1\" /><path clip-path=\"url(#clip350)\" d=\"M93.9086 792.265 Q90.2975 792.265 88.4688 795.83 Q86.6632 799.372 86.6632 806.501 Q86.6632 813.608 88.4688 817.172 Q90.2975 820.714 93.9086 820.714 Q97.5428 820.714 99.3483 817.172 Q101.177 813.608 101.177 806.501 Q101.177 799.372 99.3483 795.83 Q97.5428 792.265 93.9086 792.265 M93.9086 788.561 Q99.7187 788.561 102.774 793.168 Q105.853 797.751 105.853 806.501 Q105.853 815.228 102.774 819.834 Q99.7187 824.418 93.9086 824.418 Q88.0984 824.418 85.0197 819.834 Q81.9642 815.228 81.9642 806.501 Q81.9642 797.751 85.0197 793.168 Q88.0984 788.561 93.9086 788.561 Z\" fill=\"#000000\" fill-rule=\"nonzero\" fill-opacity=\"1\" /><path clip-path=\"url(#clip350)\" d=\"M66.5939 576.371 L54.7884 594.82 L66.5939 594.82 L66.5939 576.371 M65.367 572.297 L71.2466 572.297 L71.2466 594.82 L76.1772 594.82 L76.1772 598.709 L71.2466 598.709 L71.2466 606.857 L66.5939 606.857 L66.5939 598.709 L50.9921 598.709 L50.9921 594.195 L65.367 572.297 Z\" fill=\"#000000\" fill-rule=\"nonzero\" fill-opacity=\"1\" /><path clip-path=\"url(#clip350)\" d=\"M93.9086 575.376 Q90.2975 575.376 88.4688 578.94 Q86.6632 582.482 86.6632 589.612 Q86.6632 596.718 88.4688 600.283 Q90.2975 603.825 93.9086 603.825 Q97.5428 603.825 99.3483 600.283 Q101.177 596.718 101.177 589.612 Q101.177 582.482 99.3483 578.94 Q97.5428 575.376 93.9086 575.376 M93.9086 571.672 Q99.7187 571.672 102.774 576.278 Q105.853 580.862 105.853 589.612 Q105.853 598.339 102.774 602.945 Q99.7187 607.528 93.9086 607.528 Q88.0984 607.528 85.0197 602.945 Q81.9642 598.339 81.9642 589.612 Q81.9642 580.862 85.0197 576.278 Q88.0984 571.672 93.9086 571.672 Z\" fill=\"#000000\" fill-rule=\"nonzero\" fill-opacity=\"1\" /><path clip-path=\"url(#clip350)\" d=\"M53.793 355.408 L72.1494 355.408 L72.1494 359.343 L58.0754 359.343 L58.0754 367.815 Q59.0939 367.468 60.1124 367.306 Q61.131 367.121 62.1495 367.121 Q67.9365 367.121 71.3161 370.292 Q74.6957 373.463 74.6957 378.88 Q74.6957 384.458 71.2235 387.56 Q67.7513 390.639 61.4319 390.639 Q59.256 390.639 56.9875 390.269 Q54.7421 389.898 52.3347 389.157 L52.3347 384.458 Q54.418 385.593 56.6402 386.148 Q58.8625 386.704 61.3393 386.704 Q65.3439 386.704 67.6819 384.597 Q70.0198 382.491 70.0198 378.88 Q70.0198 375.269 67.6819 373.162 Q65.3439 371.056 61.3393 371.056 Q59.4643 371.056 57.5893 371.472 Q55.7375 371.889 53.793 372.769 L53.793 355.408 Z\" fill=\"#000000\" fill-rule=\"nonzero\" fill-opacity=\"1\" /><path clip-path=\"url(#clip350)\" d=\"M93.9086 358.486 Q90.2975 358.486 88.4688 362.051 Q86.6632 365.593 86.6632 372.722 Q86.6632 379.829 88.4688 383.394 Q90.2975 386.935 93.9086 386.935 Q97.5428 386.935 99.3483 383.394 Q101.177 379.829 101.177 372.722 Q101.177 365.593 99.3483 362.051 Q97.5428 358.486 93.9086 358.486 M93.9086 354.783 Q99.7187 354.783 102.774 359.389 Q105.853 363.972 105.853 372.722 Q105.853 381.449 102.774 386.056 Q99.7187 390.639 93.9086 390.639 Q88.0984 390.639 85.0197 386.056 Q81.9642 381.449 81.9642 372.722 Q81.9642 363.972 85.0197 359.389 Q88.0984 354.783 93.9086 354.783 Z\" fill=\"#000000\" fill-rule=\"nonzero\" fill-opacity=\"1\" /><path clip-path=\"url(#clip350)\" d=\"M64.3254 153.935 Q61.1773 153.935 59.3254 156.088 Q57.4967 158.24 57.4967 161.99 Q57.4967 165.717 59.3254 167.893 Q61.1773 170.046 64.3254 170.046 Q67.4735 170.046 69.3022 167.893 Q71.1541 165.717 71.1541 161.99 Q71.1541 158.24 69.3022 156.088 Q67.4735 153.935 64.3254 153.935 M73.6077 139.282 L73.6077 143.541 Q71.8485 142.708 70.0429 142.268 Q68.2606 141.828 66.5013 141.828 Q61.8717 141.828 59.418 144.953 Q56.9875 148.078 56.6402 154.398 Q58.006 152.384 60.0662 151.319 Q62.1263 150.231 64.6032 150.231 Q69.8115 150.231 72.8207 153.402 Q75.8531 156.551 75.8531 161.99 Q75.8531 167.314 72.705 170.532 Q69.5568 173.749 64.3254 173.749 Q58.33 173.749 55.1588 169.166 Q51.9875 164.56 51.9875 155.833 Q51.9875 147.639 55.8764 142.777 Q59.7652 137.893 66.3161 137.893 Q68.0754 137.893 69.8578 138.24 Q71.6633 138.588 73.6077 139.282 Z\" fill=\"#000000\" fill-rule=\"nonzero\" fill-opacity=\"1\" /><path clip-path=\"url(#clip350)\" d=\"M93.9086 141.597 Q90.2975 141.597 88.4688 145.162 Q86.6632 148.703 86.6632 155.833 Q86.6632 162.939 88.4688 166.504 Q90.2975 170.046 93.9086 170.046 Q97.5428 170.046 99.3483 166.504 Q101.177 162.939 101.177 155.833 Q101.177 148.703 99.3483 145.162 Q97.5428 141.597 93.9086 141.597 M93.9086 137.893 Q99.7187 137.893 102.774 142.5 Q105.853 147.083 105.853 155.833 Q105.853 164.56 102.774 169.166 Q99.7187 173.749 93.9086 173.749 Q88.0984 173.749 85.0197 169.166 Q81.9642 164.56 81.9642 155.833 Q81.9642 147.083 85.0197 142.5 Q88.0984 137.893 93.9086 137.893 Z\" fill=\"#000000\" fill-rule=\"nonzero\" fill-opacity=\"1\" /><circle clip-path=\"url(#clip352)\" cx=\"204.426\" cy=\"87.9763\" r=\"14.4\" fill=\"#009af9\" fill-rule=\"evenodd\" fill-opacity=\"1\" stroke=\"#000000\" stroke-opacity=\"1\" stroke-width=\"3.2\"/>\n",
       "<circle clip-path=\"url(#clip352)\" cx=\"291.332\" cy=\"1222.44\" r=\"14.4\" fill=\"#009af9\" fill-rule=\"evenodd\" fill-opacity=\"1\" stroke=\"#000000\" stroke-opacity=\"1\" stroke-width=\"3.2\"/>\n",
       "<circle clip-path=\"url(#clip352)\" cx=\"378.239\" cy=\"1293.9\" r=\"14.4\" fill=\"#009af9\" fill-rule=\"evenodd\" fill-opacity=\"1\" stroke=\"#000000\" stroke-opacity=\"1\" stroke-width=\"3.2\"/>\n",
       "<circle clip-path=\"url(#clip352)\" cx=\"465.145\" cy=\"1354.7\" r=\"14.4\" fill=\"#009af9\" fill-rule=\"evenodd\" fill-opacity=\"1\" stroke=\"#000000\" stroke-opacity=\"1\" stroke-width=\"3.2\"/>\n",
       "<circle clip-path=\"url(#clip352)\" cx=\"552.052\" cy=\"1379.26\" r=\"14.4\" fill=\"#009af9\" fill-rule=\"evenodd\" fill-opacity=\"1\" stroke=\"#000000\" stroke-opacity=\"1\" stroke-width=\"3.2\"/>\n",
       "<circle clip-path=\"url(#clip352)\" cx=\"638.958\" cy=\"1392.48\" r=\"14.4\" fill=\"#009af9\" fill-rule=\"evenodd\" fill-opacity=\"1\" stroke=\"#000000\" stroke-opacity=\"1\" stroke-width=\"3.2\"/>\n",
       "<circle clip-path=\"url(#clip352)\" cx=\"725.865\" cy=\"1403.28\" r=\"14.4\" fill=\"#009af9\" fill-rule=\"evenodd\" fill-opacity=\"1\" stroke=\"#000000\" stroke-opacity=\"1\" stroke-width=\"3.2\"/>\n",
       "<circle clip-path=\"url(#clip352)\" cx=\"812.772\" cy=\"1407.22\" r=\"14.4\" fill=\"#009af9\" fill-rule=\"evenodd\" fill-opacity=\"1\" stroke=\"#000000\" stroke-opacity=\"1\" stroke-width=\"3.2\"/>\n",
       "<circle clip-path=\"url(#clip352)\" cx=\"899.678\" cy=\"1416.12\" r=\"14.4\" fill=\"#009af9\" fill-rule=\"evenodd\" fill-opacity=\"1\" stroke=\"#000000\" stroke-opacity=\"1\" stroke-width=\"3.2\"/>\n",
       "<circle clip-path=\"url(#clip352)\" cx=\"986.585\" cy=\"1422.51\" r=\"14.4\" fill=\"#009af9\" fill-rule=\"evenodd\" fill-opacity=\"1\" stroke=\"#000000\" stroke-opacity=\"1\" stroke-width=\"3.2\"/>\n",
       "<circle clip-path=\"url(#clip352)\" cx=\"1073.49\" cy=\"1427.66\" r=\"14.4\" fill=\"#009af9\" fill-rule=\"evenodd\" fill-opacity=\"1\" stroke=\"#000000\" stroke-opacity=\"1\" stroke-width=\"3.2\"/>\n",
       "<circle clip-path=\"url(#clip352)\" cx=\"1160.4\" cy=\"1429.93\" r=\"14.4\" fill=\"#009af9\" fill-rule=\"evenodd\" fill-opacity=\"1\" stroke=\"#000000\" stroke-opacity=\"1\" stroke-width=\"3.2\"/>\n",
       "<circle clip-path=\"url(#clip352)\" cx=\"1247.3\" cy=\"1431.14\" r=\"14.4\" fill=\"#009af9\" fill-rule=\"evenodd\" fill-opacity=\"1\" stroke=\"#000000\" stroke-opacity=\"1\" stroke-width=\"3.2\"/>\n",
       "<circle clip-path=\"url(#clip352)\" cx=\"1334.21\" cy=\"1433.12\" r=\"14.4\" fill=\"#009af9\" fill-rule=\"evenodd\" fill-opacity=\"1\" stroke=\"#000000\" stroke-opacity=\"1\" stroke-width=\"3.2\"/>\n",
       "<circle clip-path=\"url(#clip352)\" cx=\"1421.12\" cy=\"1433.55\" r=\"14.4\" fill=\"#009af9\" fill-rule=\"evenodd\" fill-opacity=\"1\" stroke=\"#000000\" stroke-opacity=\"1\" stroke-width=\"3.2\"/>\n",
       "<circle clip-path=\"url(#clip352)\" cx=\"1508.02\" cy=\"1437.18\" r=\"14.4\" fill=\"#009af9\" fill-rule=\"evenodd\" fill-opacity=\"1\" stroke=\"#000000\" stroke-opacity=\"1\" stroke-width=\"3.2\"/>\n",
       "<circle clip-path=\"url(#clip352)\" cx=\"1594.93\" cy=\"1439.81\" r=\"14.4\" fill=\"#009af9\" fill-rule=\"evenodd\" fill-opacity=\"1\" stroke=\"#000000\" stroke-opacity=\"1\" stroke-width=\"3.2\"/>\n",
       "<circle clip-path=\"url(#clip352)\" cx=\"1681.84\" cy=\"1441.18\" r=\"14.4\" fill=\"#009af9\" fill-rule=\"evenodd\" fill-opacity=\"1\" stroke=\"#000000\" stroke-opacity=\"1\" stroke-width=\"3.2\"/>\n",
       "<circle clip-path=\"url(#clip352)\" cx=\"1768.74\" cy=\"1441.88\" r=\"14.4\" fill=\"#009af9\" fill-rule=\"evenodd\" fill-opacity=\"1\" stroke=\"#000000\" stroke-opacity=\"1\" stroke-width=\"3.2\"/>\n",
       "<circle clip-path=\"url(#clip352)\" cx=\"1855.65\" cy=\"1442.69\" r=\"14.4\" fill=\"#009af9\" fill-rule=\"evenodd\" fill-opacity=\"1\" stroke=\"#000000\" stroke-opacity=\"1\" stroke-width=\"3.2\"/>\n",
       "<circle clip-path=\"url(#clip352)\" cx=\"1942.56\" cy=\"1443.2\" r=\"14.4\" fill=\"#009af9\" fill-rule=\"evenodd\" fill-opacity=\"1\" stroke=\"#000000\" stroke-opacity=\"1\" stroke-width=\"3.2\"/>\n",
       "<circle clip-path=\"url(#clip352)\" cx=\"2029.46\" cy=\"1444.23\" r=\"14.4\" fill=\"#009af9\" fill-rule=\"evenodd\" fill-opacity=\"1\" stroke=\"#000000\" stroke-opacity=\"1\" stroke-width=\"3.2\"/>\n",
       "<circle clip-path=\"url(#clip352)\" cx=\"2116.37\" cy=\"1444.32\" r=\"14.4\" fill=\"#009af9\" fill-rule=\"evenodd\" fill-opacity=\"1\" stroke=\"#000000\" stroke-opacity=\"1\" stroke-width=\"3.2\"/>\n",
       "<circle clip-path=\"url(#clip352)\" cx=\"2203.28\" cy=\"1445.28\" r=\"14.4\" fill=\"#009af9\" fill-rule=\"evenodd\" fill-opacity=\"1\" stroke=\"#000000\" stroke-opacity=\"1\" stroke-width=\"3.2\"/>\n",
       "<circle clip-path=\"url(#clip352)\" cx=\"2290.18\" cy=\"1445.72\" r=\"14.4\" fill=\"#009af9\" fill-rule=\"evenodd\" fill-opacity=\"1\" stroke=\"#000000\" stroke-opacity=\"1\" stroke-width=\"3.2\"/>\n",
       "<polyline clip-path=\"url(#clip352)\" style=\"stroke:#e26f46; stroke-linecap:round; stroke-linejoin:round; stroke-width:4; stroke-opacity:1; fill:none\" points=\"1508.02,2925.65 1508.02,-1391.96 \"/>\n",
       "<path clip-path=\"url(#clip350)\" d=\"M2005.54 250.738 L2279.06 250.738 L2279.06 95.2176 L2005.54 95.2176  Z\" fill=\"#ffffff\" fill-rule=\"evenodd\" fill-opacity=\"1\"/>\n",
       "<polyline clip-path=\"url(#clip350)\" style=\"stroke:#000000; stroke-linecap:round; stroke-linejoin:round; stroke-width:4; stroke-opacity:1; fill:none\" points=\"2005.54,250.738 2279.06,250.738 2279.06,95.2176 2005.54,95.2176 2005.54,250.738 \"/>\n",
       "<circle clip-path=\"url(#clip350)\" cx=\"2103.8\" cy=\"147.058\" r=\"20.48\" fill=\"#009af9\" fill-rule=\"evenodd\" fill-opacity=\"1\" stroke=\"#000000\" stroke-opacity=\"1\" stroke-width=\"4.55111\"/>\n",
       "<path clip-path=\"url(#clip350)\" d=\"M2215.91 166.745 Q2214.1 171.375 2212.39 172.787 Q2210.67 174.199 2207.8 174.199 L2204.4 174.199 L2204.4 170.634 L2206.9 170.634 Q2208.66 170.634 2209.63 169.8 Q2210.6 168.967 2211.79 165.865 L2212.55 163.921 L2202.06 138.412 L2206.58 138.412 L2214.68 158.689 L2222.78 138.412 L2227.29 138.412 L2215.91 166.745 Z\" fill=\"#000000\" fill-rule=\"nonzero\" fill-opacity=\"1\" /><path clip-path=\"url(#clip350)\" d=\"M2234.59 160.402 L2242.23 160.402 L2242.23 134.037 L2233.91 135.703 L2233.91 131.444 L2242.18 129.778 L2246.85 129.778 L2246.85 160.402 L2254.49 160.402 L2254.49 164.338 L2234.59 164.338 L2234.59 160.402 Z\" fill=\"#000000\" fill-rule=\"nonzero\" fill-opacity=\"1\" /><polyline clip-path=\"url(#clip350)\" style=\"stroke:#e26f46; stroke-linecap:round; stroke-linejoin:round; stroke-width:4; stroke-opacity:1; fill:none\" points=\"2030.1,198.898 2177.5,198.898 \"/>\n",
       "<path clip-path=\"url(#clip350)\" d=\"M2215.91 218.585 Q2214.1 223.215 2212.39 224.627 Q2210.67 226.039 2207.8 226.039 L2204.4 226.039 L2204.4 222.474 L2206.9 222.474 Q2208.66 222.474 2209.63 221.64 Q2210.6 220.807 2211.79 217.705 L2212.55 215.761 L2202.06 190.252 L2206.58 190.252 L2214.68 210.529 L2222.78 190.252 L2227.29 190.252 L2215.91 218.585 Z\" fill=\"#000000\" fill-rule=\"nonzero\" fill-opacity=\"1\" /><path clip-path=\"url(#clip350)\" d=\"M2237.8 212.242 L2254.12 212.242 L2254.12 216.178 L2232.18 216.178 L2232.18 212.242 Q2234.84 209.488 2239.42 204.858 Q2244.03 200.205 2245.21 198.863 Q2247.46 196.34 2248.34 194.604 Q2249.24 192.844 2249.24 191.155 Q2249.24 188.4 2247.29 186.664 Q2245.37 184.928 2242.27 184.928 Q2240.07 184.928 2237.62 185.692 Q2235.19 186.455 2232.41 188.006 L2232.41 183.284 Q2235.23 182.15 2237.69 181.571 Q2240.14 180.993 2242.18 180.993 Q2247.55 180.993 2250.74 183.678 Q2253.94 186.363 2253.94 190.854 Q2253.94 192.983 2253.13 194.905 Q2252.34 196.803 2250.23 199.395 Q2249.66 200.067 2246.55 203.284 Q2243.45 206.479 2237.8 212.242 Z\" fill=\"#000000\" fill-rule=\"nonzero\" fill-opacity=\"1\" /></svg>\n"
      ]
     },
     "execution_count": 18,
     "metadata": {},
     "output_type": "execute_result"
    }
   ],
   "source": [
    "_, s, _ = svd(TE); s.^=2\n",
    "scatter(s[1:25])\n",
    "svd_rank=findall((cumsum(s) .> 0.75*sum(s)))[1]\n",
    "vline!([svd_rank, ])"
   ]
  },
  {
   "cell_type": "code",
   "execution_count": 19,
   "id": "8be3f4bf-b804-4410-b288-d1b0bc58117c",
   "metadata": {},
   "outputs": [
    {
     "name": "stderr",
     "output_type": "stream",
     "text": [
      "\u001b[36m\u001b[1m[ \u001b[22m\u001b[39m\u001b[36m\u001b[1mInfo: \u001b[22m\u001b[39mInitializing NMF decomposition with nmf\n",
      "\u001b[32mProgress: 100%|█████████████████████████████████████████| Time: 0:01:25\u001b[39m\n"
     ]
    }
   ],
   "source": [
    "Random.seed!(0)\n",
    "U, V, trace = fitnmf(cu(relu.(qnorm(TE, 0.9))),\n",
    "                     [I(size(TE, 1)), I(size(TE, 2))], 1e-3*I + L,\n",
    "                     cu(repeat(vec(Cg), 1, size(X, 1))'),\n",
    "                     svd_rank; \n",
    "                     α = 5.0,\n",
    "                     β = 0.0, \n",
    "              λ = [1, 1],\n",
    "              μ = [1, 1],\n",
    "              iter = 2_500, initialize = :nmf, print_iter = 50, dictionary = false, η = 1.0);\n",
    "G_nmf = Array(U*V');\n",
    "U = Array(U); V = Array(V);\n",
    "# rescale U, V\n",
    "V .*= maximum(U; dims = 1)\n",
    "U ./= maximum(U; dims = 1);\n",
    "# \n",
    "A = reshape(maximum(V'; dims = 1), size(X, 2), size(X, 2))\n",
    "for i = 1:size(V, 2)\n",
    "    x = reshape(V[:, i], size(X, 2), size(X, 2))\n",
    "    V[:, i] .= vec(cdf_norm(x, A .+ 1e-9))\n",
    "end\n",
    "npzwrite(\"U.npy\", U)\n",
    "npzwrite(\"V.npy\", V)"
   ]
  },
  {
   "cell_type": "code",
   "execution_count": 20,
   "id": "e06a7bce-2f48-4d5d-b724-9c9433280dba",
   "metadata": {},
   "outputs": [
    {
     "data": {
      "image/svg+xml": [
       "<?xml version=\"1.0\" encoding=\"utf-8\"?>\n",
       "<svg xmlns=\"http://www.w3.org/2000/svg\" xmlns:xlink=\"http://www.w3.org/1999/xlink\" width=\"600\" height=\"400\" viewBox=\"0 0 2400 1600\">\n",
       "<defs>\n",
       "  <clipPath id=\"clip390\">\n",
       "    <rect x=\"0\" y=\"0\" width=\"2400\" height=\"1600\"/>\n",
       "  </clipPath>\n",
       "</defs>\n",
       "<path clip-path=\"url(#clip390)\" d=\"M0 1600 L2400 1600 L2400 0 L0 0  Z\" fill=\"#ffffff\" fill-rule=\"evenodd\" fill-opacity=\"1\"/>\n",
       "<defs>\n",
       "  <clipPath id=\"clip391\">\n",
       "    <rect x=\"480\" y=\"0\" width=\"1681\" height=\"1600\"/>\n",
       "  </clipPath>\n",
       "</defs>\n",
       "<path clip-path=\"url(#clip390)\" d=\"M306.521 1486.45 L2352.76 1486.45 L2352.76 47.2441 L306.521 47.2441  Z\" fill=\"#ffffff\" fill-rule=\"evenodd\" fill-opacity=\"1\"/>\n",
       "<defs>\n",
       "  <clipPath id=\"clip392\">\n",
       "    <rect x=\"306\" y=\"47\" width=\"2047\" height=\"1440\"/>\n",
       "  </clipPath>\n",
       "</defs>\n",
       "<polyline clip-path=\"url(#clip392)\" style=\"stroke:#000000; stroke-linecap:round; stroke-linejoin:round; stroke-width:2; stroke-opacity:0.1; fill:none\" points=\"325.037,1486.45 325.037,47.2441 \"/>\n",
       "<polyline clip-path=\"url(#clip392)\" style=\"stroke:#000000; stroke-linecap:round; stroke-linejoin:round; stroke-width:2; stroke-opacity:0.1; fill:none\" points=\"718.998,1486.45 718.998,47.2441 \"/>\n",
       "<polyline clip-path=\"url(#clip392)\" style=\"stroke:#000000; stroke-linecap:round; stroke-linejoin:round; stroke-width:2; stroke-opacity:0.1; fill:none\" points=\"1112.96,1486.45 1112.96,47.2441 \"/>\n",
       "<polyline clip-path=\"url(#clip392)\" style=\"stroke:#000000; stroke-linecap:round; stroke-linejoin:round; stroke-width:2; stroke-opacity:0.1; fill:none\" points=\"1506.92,1486.45 1506.92,47.2441 \"/>\n",
       "<polyline clip-path=\"url(#clip392)\" style=\"stroke:#000000; stroke-linecap:round; stroke-linejoin:round; stroke-width:2; stroke-opacity:0.1; fill:none\" points=\"1900.88,1486.45 1900.88,47.2441 \"/>\n",
       "<polyline clip-path=\"url(#clip392)\" style=\"stroke:#000000; stroke-linecap:round; stroke-linejoin:round; stroke-width:2; stroke-opacity:0.1; fill:none\" points=\"2294.84,1486.45 2294.84,47.2441 \"/>\n",
       "<polyline clip-path=\"url(#clip390)\" style=\"stroke:#000000; stroke-linecap:round; stroke-linejoin:round; stroke-width:4; stroke-opacity:1; fill:none\" points=\"306.521,1486.45 2352.76,1486.45 \"/>\n",
       "<polyline clip-path=\"url(#clip390)\" style=\"stroke:#000000; stroke-linecap:round; stroke-linejoin:round; stroke-width:4; stroke-opacity:1; fill:none\" points=\"325.037,1486.45 325.037,1467.55 \"/>\n",
       "<polyline clip-path=\"url(#clip390)\" style=\"stroke:#000000; stroke-linecap:round; stroke-linejoin:round; stroke-width:4; stroke-opacity:1; fill:none\" points=\"718.998,1486.45 718.998,1467.55 \"/>\n",
       "<polyline clip-path=\"url(#clip390)\" style=\"stroke:#000000; stroke-linecap:round; stroke-linejoin:round; stroke-width:4; stroke-opacity:1; fill:none\" points=\"1112.96,1486.45 1112.96,1467.55 \"/>\n",
       "<polyline clip-path=\"url(#clip390)\" style=\"stroke:#000000; stroke-linecap:round; stroke-linejoin:round; stroke-width:4; stroke-opacity:1; fill:none\" points=\"1506.92,1486.45 1506.92,1467.55 \"/>\n",
       "<polyline clip-path=\"url(#clip390)\" style=\"stroke:#000000; stroke-linecap:round; stroke-linejoin:round; stroke-width:4; stroke-opacity:1; fill:none\" points=\"1900.88,1486.45 1900.88,1467.55 \"/>\n",
       "<polyline clip-path=\"url(#clip390)\" style=\"stroke:#000000; stroke-linecap:round; stroke-linejoin:round; stroke-width:4; stroke-opacity:1; fill:none\" points=\"2294.84,1486.45 2294.84,1467.55 \"/>\n",
       "<path clip-path=\"url(#clip390)\" d=\"M325.037 1517.37 Q321.426 1517.37 319.597 1520.93 Q317.792 1524.47 317.792 1531.6 Q317.792 1538.71 319.597 1542.27 Q321.426 1545.82 325.037 1545.82 Q328.671 1545.82 330.477 1542.27 Q332.305 1538.71 332.305 1531.6 Q332.305 1524.47 330.477 1520.93 Q328.671 1517.37 325.037 1517.37 M325.037 1513.66 Q330.847 1513.66 333.903 1518.27 Q336.981 1522.85 336.981 1531.6 Q336.981 1540.33 333.903 1544.94 Q330.847 1549.52 325.037 1549.52 Q319.227 1549.52 316.148 1544.94 Q313.093 1540.33 313.093 1531.6 Q313.093 1522.85 316.148 1518.27 Q319.227 1513.66 325.037 1513.66 Z\" fill=\"#000000\" fill-rule=\"nonzero\" fill-opacity=\"1\" /><path clip-path=\"url(#clip390)\" d=\"M693.686 1544.91 L701.325 1544.91 L701.325 1518.55 L693.015 1520.21 L693.015 1515.95 L701.278 1514.29 L705.954 1514.29 L705.954 1544.91 L713.593 1544.91 L713.593 1548.85 L693.686 1548.85 L693.686 1544.91 Z\" fill=\"#000000\" fill-rule=\"nonzero\" fill-opacity=\"1\" /><path clip-path=\"url(#clip390)\" d=\"M733.038 1517.37 Q729.426 1517.37 727.598 1520.93 Q725.792 1524.47 725.792 1531.6 Q725.792 1538.71 727.598 1542.27 Q729.426 1545.82 733.038 1545.82 Q736.672 1545.82 738.477 1542.27 Q740.306 1538.71 740.306 1531.6 Q740.306 1524.47 738.477 1520.93 Q736.672 1517.37 733.038 1517.37 M733.038 1513.66 Q738.848 1513.66 741.903 1518.27 Q744.982 1522.85 744.982 1531.6 Q744.982 1540.33 741.903 1544.94 Q738.848 1549.52 733.038 1549.52 Q727.227 1549.52 724.149 1544.94 Q721.093 1540.33 721.093 1531.6 Q721.093 1522.85 724.149 1518.27 Q727.227 1513.66 733.038 1513.66 Z\" fill=\"#000000\" fill-rule=\"nonzero\" fill-opacity=\"1\" /><path clip-path=\"url(#clip390)\" d=\"M1091.73 1544.91 L1108.05 1544.91 L1108.05 1548.85 L1086.11 1548.85 L1086.11 1544.91 Q1088.77 1542.16 1093.35 1537.53 Q1097.96 1532.88 1099.14 1531.53 Q1101.39 1529.01 1102.27 1527.27 Q1103.17 1525.51 1103.17 1523.82 Q1103.17 1521.07 1101.22 1519.33 Q1099.3 1517.6 1096.2 1517.6 Q1094 1517.6 1091.55 1518.36 Q1089.12 1519.13 1086.34 1520.68 L1086.34 1515.95 Q1089.16 1514.82 1091.62 1514.24 Q1094.07 1513.66 1096.11 1513.66 Q1101.48 1513.66 1104.67 1516.35 Q1107.87 1519.03 1107.87 1523.52 Q1107.87 1525.65 1107.06 1527.57 Q1106.27 1529.47 1104.16 1532.07 Q1103.58 1532.74 1100.48 1535.95 Q1097.38 1539.15 1091.73 1544.91 Z\" fill=\"#000000\" fill-rule=\"nonzero\" fill-opacity=\"1\" /><path clip-path=\"url(#clip390)\" d=\"M1127.87 1517.37 Q1124.26 1517.37 1122.43 1520.93 Q1120.62 1524.47 1120.62 1531.6 Q1120.62 1538.71 1122.43 1542.27 Q1124.26 1545.82 1127.87 1545.82 Q1131.5 1545.82 1133.31 1542.27 Q1135.14 1538.71 1135.14 1531.6 Q1135.14 1524.47 1133.31 1520.93 Q1131.5 1517.37 1127.87 1517.37 M1127.87 1513.66 Q1133.68 1513.66 1136.73 1518.27 Q1139.81 1522.85 1139.81 1531.6 Q1139.81 1540.33 1136.73 1544.94 Q1133.68 1549.52 1127.87 1549.52 Q1122.06 1549.52 1118.98 1544.94 Q1115.92 1540.33 1115.92 1531.6 Q1115.92 1522.85 1118.98 1518.27 Q1122.06 1513.66 1127.87 1513.66 Z\" fill=\"#000000\" fill-rule=\"nonzero\" fill-opacity=\"1\" /><path clip-path=\"url(#clip390)\" d=\"M1495.76 1530.21 Q1499.12 1530.93 1501 1533.2 Q1502.89 1535.47 1502.89 1538.8 Q1502.89 1543.92 1499.37 1546.72 Q1495.86 1549.52 1489.37 1549.52 Q1487.2 1549.52 1484.88 1549.08 Q1482.59 1548.66 1480.14 1547.81 L1480.14 1543.29 Q1482.08 1544.43 1484.4 1545.01 Q1486.71 1545.58 1489.24 1545.58 Q1493.63 1545.58 1495.93 1543.85 Q1498.24 1542.11 1498.24 1538.8 Q1498.24 1535.75 1496.09 1534.03 Q1493.96 1532.3 1490.14 1532.3 L1486.11 1532.3 L1486.11 1528.45 L1490.32 1528.45 Q1493.77 1528.45 1495.6 1527.09 Q1497.43 1525.7 1497.43 1523.11 Q1497.43 1520.45 1495.53 1519.03 Q1493.66 1517.6 1490.14 1517.6 Q1488.22 1517.6 1486.02 1518.01 Q1483.82 1518.43 1481.18 1519.31 L1481.18 1515.14 Q1483.84 1514.4 1486.16 1514.03 Q1488.5 1513.66 1490.56 1513.66 Q1495.88 1513.66 1498.98 1516.09 Q1502.08 1518.5 1502.08 1522.62 Q1502.08 1525.49 1500.44 1527.48 Q1498.8 1529.45 1495.76 1530.21 Z\" fill=\"#000000\" fill-rule=\"nonzero\" fill-opacity=\"1\" /><path clip-path=\"url(#clip390)\" d=\"M1521.76 1517.37 Q1518.15 1517.37 1516.32 1520.93 Q1514.51 1524.47 1514.51 1531.6 Q1514.51 1538.71 1516.32 1542.27 Q1518.15 1545.82 1521.76 1545.82 Q1525.39 1545.82 1527.2 1542.27 Q1529.03 1538.71 1529.03 1531.6 Q1529.03 1524.47 1527.2 1520.93 Q1525.39 1517.37 1521.76 1517.37 M1521.76 1513.66 Q1527.57 1513.66 1530.62 1518.27 Q1533.7 1522.85 1533.7 1531.6 Q1533.7 1540.33 1530.62 1544.94 Q1527.57 1549.52 1521.76 1549.52 Q1515.95 1549.52 1512.87 1544.94 Q1509.81 1540.33 1509.81 1531.6 Q1509.81 1522.85 1512.87 1518.27 Q1515.95 1513.66 1521.76 1513.66 Z\" fill=\"#000000\" fill-rule=\"nonzero\" fill-opacity=\"1\" /><path clip-path=\"url(#clip390)\" d=\"M1889.05 1518.36 L1877.25 1536.81 L1889.05 1536.81 L1889.05 1518.36 M1887.83 1514.29 L1893.71 1514.29 L1893.71 1536.81 L1898.64 1536.81 L1898.64 1540.7 L1893.71 1540.7 L1893.71 1548.85 L1889.05 1548.85 L1889.05 1540.7 L1873.45 1540.7 L1873.45 1536.19 L1887.83 1514.29 Z\" fill=\"#000000\" fill-rule=\"nonzero\" fill-opacity=\"1\" /><path clip-path=\"url(#clip390)\" d=\"M1916.37 1517.37 Q1912.76 1517.37 1910.93 1520.93 Q1909.12 1524.47 1909.12 1531.6 Q1909.12 1538.71 1910.93 1542.27 Q1912.76 1545.82 1916.37 1545.82 Q1920 1545.82 1921.81 1542.27 Q1923.64 1538.71 1923.64 1531.6 Q1923.64 1524.47 1921.81 1520.93 Q1920 1517.37 1916.37 1517.37 M1916.37 1513.66 Q1922.18 1513.66 1925.23 1518.27 Q1928.31 1522.85 1928.31 1531.6 Q1928.31 1540.33 1925.23 1544.94 Q1922.18 1549.52 1916.37 1549.52 Q1910.56 1549.52 1907.48 1544.94 Q1904.42 1540.33 1904.42 1531.6 Q1904.42 1522.85 1907.48 1518.27 Q1910.56 1513.66 1916.37 1513.66 Z\" fill=\"#000000\" fill-rule=\"nonzero\" fill-opacity=\"1\" /><path clip-path=\"url(#clip390)\" d=\"M2269.54 1514.29 L2287.9 1514.29 L2287.9 1518.22 L2273.83 1518.22 L2273.83 1526.7 Q2274.84 1526.35 2275.86 1526.19 Q2276.88 1526 2277.9 1526 Q2283.69 1526 2287.07 1529.17 Q2290.45 1532.34 2290.45 1537.76 Q2290.45 1543.34 2286.97 1546.44 Q2283.5 1549.52 2277.18 1549.52 Q2275.01 1549.52 2272.74 1549.15 Q2270.49 1548.78 2268.08 1548.04 L2268.08 1543.34 Q2270.17 1544.47 2272.39 1545.03 Q2274.61 1545.58 2277.09 1545.58 Q2281.09 1545.58 2283.43 1543.48 Q2285.77 1541.37 2285.77 1537.76 Q2285.77 1534.15 2283.43 1532.04 Q2281.09 1529.94 2277.09 1529.94 Q2275.21 1529.94 2273.34 1530.35 Q2271.49 1530.77 2269.54 1531.65 L2269.54 1514.29 Z\" fill=\"#000000\" fill-rule=\"nonzero\" fill-opacity=\"1\" /><path clip-path=\"url(#clip390)\" d=\"M2309.66 1517.37 Q2306.05 1517.37 2304.22 1520.93 Q2302.41 1524.47 2302.41 1531.6 Q2302.41 1538.71 2304.22 1542.27 Q2306.05 1545.82 2309.66 1545.82 Q2313.29 1545.82 2315.1 1542.27 Q2316.93 1538.71 2316.93 1531.6 Q2316.93 1524.47 2315.1 1520.93 Q2313.29 1517.37 2309.66 1517.37 M2309.66 1513.66 Q2315.47 1513.66 2318.52 1518.27 Q2321.6 1522.85 2321.6 1531.6 Q2321.6 1540.33 2318.52 1544.94 Q2315.47 1549.52 2309.66 1549.52 Q2303.85 1549.52 2300.77 1544.94 Q2297.71 1540.33 2297.71 1531.6 Q2297.71 1522.85 2300.77 1518.27 Q2303.85 1513.66 2309.66 1513.66 Z\" fill=\"#000000\" fill-rule=\"nonzero\" fill-opacity=\"1\" /><polyline clip-path=\"url(#clip392)\" style=\"stroke:#000000; stroke-linecap:round; stroke-linejoin:round; stroke-width:2; stroke-opacity:0.1; fill:none\" points=\"306.521,1477.41 2352.76,1477.41 \"/>\n",
       "<polyline clip-path=\"url(#clip392)\" style=\"stroke:#000000; stroke-linecap:round; stroke-linejoin:round; stroke-width:2; stroke-opacity:0.1; fill:none\" points=\"306.521,1055.96 2352.76,1055.96 \"/>\n",
       "<polyline clip-path=\"url(#clip392)\" style=\"stroke:#000000; stroke-linecap:round; stroke-linejoin:round; stroke-width:2; stroke-opacity:0.1; fill:none\" points=\"306.521,634.505 2352.76,634.505 \"/>\n",
       "<polyline clip-path=\"url(#clip392)\" style=\"stroke:#000000; stroke-linecap:round; stroke-linejoin:round; stroke-width:2; stroke-opacity:0.1; fill:none\" points=\"306.521,213.051 2352.76,213.051 \"/>\n",
       "<polyline clip-path=\"url(#clip390)\" style=\"stroke:#000000; stroke-linecap:round; stroke-linejoin:round; stroke-width:4; stroke-opacity:1; fill:none\" points=\"306.521,1486.45 306.521,47.2441 \"/>\n",
       "<polyline clip-path=\"url(#clip390)\" style=\"stroke:#000000; stroke-linecap:round; stroke-linejoin:round; stroke-width:4; stroke-opacity:1; fill:none\" points=\"306.521,1477.41 325.418,1477.41 \"/>\n",
       "<polyline clip-path=\"url(#clip390)\" style=\"stroke:#000000; stroke-linecap:round; stroke-linejoin:round; stroke-width:4; stroke-opacity:1; fill:none\" points=\"306.521,1055.96 325.418,1055.96 \"/>\n",
       "<polyline clip-path=\"url(#clip390)\" style=\"stroke:#000000; stroke-linecap:round; stroke-linejoin:round; stroke-width:4; stroke-opacity:1; fill:none\" points=\"306.521,634.505 325.418,634.505 \"/>\n",
       "<polyline clip-path=\"url(#clip390)\" style=\"stroke:#000000; stroke-linecap:round; stroke-linejoin:round; stroke-width:4; stroke-opacity:1; fill:none\" points=\"306.521,213.051 325.418,213.051 \"/>\n",
       "<path clip-path=\"url(#clip390)\" d=\"M66.5939 1470.65 L54.7884 1489.1 L66.5939 1489.1 L66.5939 1470.65 M65.367 1466.58 L71.2466 1466.58 L71.2466 1489.1 L76.1772 1489.1 L76.1772 1492.99 L71.2466 1492.99 L71.2466 1501.14 L66.5939 1501.14 L66.5939 1492.99 L50.9921 1492.99 L50.9921 1488.48 L65.367 1466.58 Z\" fill=\"#000000\" fill-rule=\"nonzero\" fill-opacity=\"1\" /><path clip-path=\"url(#clip390)\" d=\"M83.9086 1495.26 L88.7928 1495.26 L88.7928 1501.14 L83.9086 1501.14 L83.9086 1495.26 Z\" fill=\"#000000\" fill-rule=\"nonzero\" fill-opacity=\"1\" /><path clip-path=\"url(#clip390)\" d=\"M103.006 1497.21 L119.325 1497.21 L119.325 1501.14 L97.3808 1501.14 L97.3808 1497.21 Q100.043 1494.45 104.626 1489.82 Q109.233 1485.17 110.413 1483.83 Q112.658 1481.3 113.538 1479.57 Q114.441 1477.81 114.441 1476.12 Q114.441 1473.36 112.496 1471.63 Q110.575 1469.89 107.473 1469.89 Q105.274 1469.89 102.821 1470.65 Q100.39 1471.42 97.6122 1472.97 L97.6122 1468.25 Q100.436 1467.11 102.89 1466.53 Q105.344 1465.96 107.381 1465.96 Q112.751 1465.96 115.945 1468.64 Q119.14 1471.33 119.14 1475.82 Q119.14 1477.95 118.33 1479.87 Q117.543 1481.77 115.436 1484.36 Q114.858 1485.03 111.756 1488.25 Q108.654 1491.44 103.006 1497.21 Z\" fill=\"#000000\" fill-rule=\"nonzero\" fill-opacity=\"1\" /><path clip-path=\"url(#clip390)\" d=\"M139.14 1469.66 Q135.529 1469.66 133.7 1473.22 Q131.894 1476.77 131.894 1483.9 Q131.894 1491 133.7 1494.57 Q135.529 1498.11 139.14 1498.11 Q142.774 1498.11 144.58 1494.57 Q146.408 1491 146.408 1483.9 Q146.408 1476.77 144.58 1473.22 Q142.774 1469.66 139.14 1469.66 M139.14 1465.96 Q144.95 1465.96 148.005 1470.56 Q151.084 1475.15 151.084 1483.9 Q151.084 1492.62 148.005 1497.23 Q144.95 1501.81 139.14 1501.81 Q133.33 1501.81 130.251 1497.23 Q127.195 1492.62 127.195 1483.9 Q127.195 1475.15 130.251 1470.56 Q133.33 1465.96 139.14 1465.96 Z\" fill=\"#000000\" fill-rule=\"nonzero\" fill-opacity=\"1\" /><path clip-path=\"url(#clip390)\" d=\"M187.473 1475.68 L176.894 1486.3 L187.473 1496.88 L184.718 1499.68 L174.093 1489.06 L163.468 1499.68 L160.737 1496.88 L171.292 1486.3 L160.737 1475.68 L163.468 1472.88 L174.093 1483.5 L184.718 1472.88 L187.473 1475.68 Z\" fill=\"#000000\" fill-rule=\"nonzero\" fill-opacity=\"1\" /><path clip-path=\"url(#clip390)\" d=\"M199.834 1497.21 L207.473 1497.21 L207.473 1470.84 L199.163 1472.51 L199.163 1468.25 L207.426 1466.58 L212.102 1466.58 L212.102 1497.21 L219.741 1497.21 L219.741 1501.14 L199.834 1501.14 L199.834 1497.21 Z\" fill=\"#000000\" fill-rule=\"nonzero\" fill-opacity=\"1\" /><path clip-path=\"url(#clip390)\" d=\"M239.186 1469.66 Q235.574 1469.66 233.746 1473.22 Q231.94 1476.77 231.94 1483.9 Q231.94 1491 233.746 1494.57 Q235.574 1498.11 239.186 1498.11 Q242.82 1498.11 244.625 1494.57 Q246.454 1491 246.454 1483.9 Q246.454 1476.77 244.625 1473.22 Q242.82 1469.66 239.186 1469.66 M239.186 1465.96 Q244.996 1465.96 248.051 1470.56 Q251.13 1475.15 251.13 1483.9 Q251.13 1492.62 248.051 1497.23 Q244.996 1501.81 239.186 1501.81 Q233.375 1501.81 230.297 1497.23 Q227.241 1492.62 227.241 1483.9 Q227.241 1475.15 230.297 1470.56 Q233.375 1465.96 239.186 1465.96 Z\" fill=\"#000000\" fill-rule=\"nonzero\" fill-opacity=\"1\" /><path clip-path=\"url(#clip390)\" d=\"M261.154 1458.18 Q258.597 1458.18 257.092 1459.93 Q255.606 1461.67 255.606 1464.72 Q255.606 1467.75 257.092 1469.52 Q258.597 1471.27 261.154 1471.27 Q263.712 1471.27 265.198 1469.52 Q266.703 1467.75 266.703 1464.72 Q266.703 1461.67 265.198 1459.93 Q263.712 1458.18 261.154 1458.18 M268.696 1446.27 L268.696 1449.73 Q267.267 1449.05 265.8 1448.7 Q264.352 1448.34 262.922 1448.34 Q259.161 1448.34 257.167 1450.88 Q255.192 1453.42 254.91 1458.55 Q256.02 1456.92 257.694 1456.05 Q259.368 1455.17 261.38 1455.17 Q265.612 1455.17 268.057 1457.74 Q270.521 1460.3 270.521 1464.72 Q270.521 1469.05 267.963 1471.66 Q265.405 1474.28 261.154 1474.28 Q256.283 1474.28 253.707 1470.55 Q251.13 1466.81 251.13 1459.72 Q251.13 1453.06 254.29 1449.11 Q257.449 1445.14 262.772 1445.14 Q264.201 1445.14 265.65 1445.42 Q267.117 1445.71 268.696 1446.27 Z\" fill=\"#000000\" fill-rule=\"nonzero\" fill-opacity=\"1\" /><path clip-path=\"url(#clip390)\" d=\"M66.5939 1049.2 L54.7884 1067.65 L66.5939 1067.65 L66.5939 1049.2 M65.367 1045.13 L71.2466 1045.13 L71.2466 1067.65 L76.1772 1067.65 L76.1772 1071.54 L71.2466 1071.54 L71.2466 1079.69 L66.5939 1079.69 L66.5939 1071.54 L50.9921 1071.54 L50.9921 1067.02 L65.367 1045.13 Z\" fill=\"#000000\" fill-rule=\"nonzero\" fill-opacity=\"1\" /><path clip-path=\"url(#clip390)\" d=\"M83.9086 1073.81 L88.7928 1073.81 L88.7928 1079.69 L83.9086 1079.69 L83.9086 1073.81 Z\" fill=\"#000000\" fill-rule=\"nonzero\" fill-opacity=\"1\" /><path clip-path=\"url(#clip390)\" d=\"M113.145 1061.05 Q116.501 1061.77 118.376 1064.04 Q120.274 1066.31 120.274 1069.64 Q120.274 1074.76 116.756 1077.56 Q113.237 1080.36 106.756 1080.36 Q104.58 1080.36 102.265 1079.92 Q99.9733 1079.5 97.5197 1078.65 L97.5197 1074.13 Q99.4641 1075.27 101.779 1075.84 Q104.094 1076.42 106.617 1076.42 Q111.015 1076.42 113.307 1074.69 Q115.621 1072.95 115.621 1069.64 Q115.621 1066.59 113.469 1064.87 Q111.339 1063.14 107.52 1063.14 L103.492 1063.14 L103.492 1059.29 L107.705 1059.29 Q111.154 1059.29 112.983 1057.93 Q114.811 1056.54 114.811 1053.95 Q114.811 1051.28 112.913 1049.87 Q111.038 1048.44 107.52 1048.44 Q105.598 1048.44 103.399 1048.85 Q101.2 1049.27 98.5613 1050.15 L98.5613 1045.98 Q101.223 1045.24 103.538 1044.87 Q105.876 1044.5 107.936 1044.5 Q113.26 1044.5 116.362 1046.93 Q119.464 1049.34 119.464 1053.46 Q119.464 1056.33 117.82 1058.32 Q116.177 1060.29 113.145 1061.05 Z\" fill=\"#000000\" fill-rule=\"nonzero\" fill-opacity=\"1\" /><path clip-path=\"url(#clip390)\" d=\"M139.14 1048.21 Q135.529 1048.21 133.7 1051.77 Q131.894 1055.31 131.894 1062.44 Q131.894 1069.55 133.7 1073.11 Q135.529 1076.65 139.14 1076.65 Q142.774 1076.65 144.58 1073.11 Q146.408 1069.55 146.408 1062.44 Q146.408 1055.31 144.58 1051.77 Q142.774 1048.21 139.14 1048.21 M139.14 1044.5 Q144.95 1044.5 148.005 1049.11 Q151.084 1053.69 151.084 1062.44 Q151.084 1071.17 148.005 1075.77 Q144.95 1080.36 139.14 1080.36 Q133.33 1080.36 130.251 1075.77 Q127.195 1071.17 127.195 1062.44 Q127.195 1053.69 130.251 1049.11 Q133.33 1044.5 139.14 1044.5 Z\" fill=\"#000000\" fill-rule=\"nonzero\" fill-opacity=\"1\" /><path clip-path=\"url(#clip390)\" d=\"M187.473 1054.22 L176.894 1064.85 L187.473 1075.43 L184.718 1078.23 L174.093 1067.6 L163.468 1078.23 L160.737 1075.43 L171.292 1064.85 L160.737 1054.22 L163.468 1051.42 L174.093 1062.05 L184.718 1051.42 L187.473 1054.22 Z\" fill=\"#000000\" fill-rule=\"nonzero\" fill-opacity=\"1\" /><path clip-path=\"url(#clip390)\" d=\"M199.834 1075.75 L207.473 1075.75 L207.473 1049.39 L199.163 1051.05 L199.163 1046.79 L207.426 1045.13 L212.102 1045.13 L212.102 1075.75 L219.741 1075.75 L219.741 1079.69 L199.834 1079.69 L199.834 1075.75 Z\" fill=\"#000000\" fill-rule=\"nonzero\" fill-opacity=\"1\" /><path clip-path=\"url(#clip390)\" d=\"M239.186 1048.21 Q235.574 1048.21 233.746 1051.77 Q231.94 1055.31 231.94 1062.44 Q231.94 1069.55 233.746 1073.11 Q235.574 1076.65 239.186 1076.65 Q242.82 1076.65 244.625 1073.11 Q246.454 1069.55 246.454 1062.44 Q246.454 1055.31 244.625 1051.77 Q242.82 1048.21 239.186 1048.21 M239.186 1044.5 Q244.996 1044.5 248.051 1049.11 Q251.13 1053.69 251.13 1062.44 Q251.13 1071.17 248.051 1075.77 Q244.996 1080.36 239.186 1080.36 Q233.375 1080.36 230.297 1075.77 Q227.241 1071.17 227.241 1062.44 Q227.241 1053.69 230.297 1049.11 Q233.375 1044.5 239.186 1044.5 Z\" fill=\"#000000\" fill-rule=\"nonzero\" fill-opacity=\"1\" /><path clip-path=\"url(#clip390)\" d=\"M261.154 1036.72 Q258.597 1036.72 257.092 1038.47 Q255.606 1040.22 255.606 1043.27 Q255.606 1046.3 257.092 1048.06 Q258.597 1049.81 261.154 1049.81 Q263.712 1049.81 265.198 1048.06 Q266.703 1046.3 266.703 1043.27 Q266.703 1040.22 265.198 1038.47 Q263.712 1036.72 261.154 1036.72 M268.696 1024.82 L268.696 1028.28 Q267.267 1027.6 265.8 1027.24 Q264.352 1026.89 262.922 1026.89 Q259.161 1026.89 257.167 1029.43 Q255.192 1031.96 254.91 1037.1 Q256.02 1035.46 257.694 1034.6 Q259.368 1033.71 261.38 1033.71 Q265.612 1033.71 268.057 1036.29 Q270.521 1038.85 270.521 1043.27 Q270.521 1047.59 267.963 1050.21 Q265.405 1052.82 261.154 1052.82 Q256.283 1052.82 253.707 1049.1 Q251.13 1045.36 251.13 1038.26 Q251.13 1031.61 254.29 1027.66 Q257.449 1023.69 262.772 1023.69 Q264.201 1023.69 265.65 1023.97 Q267.117 1024.25 268.696 1024.82 Z\" fill=\"#000000\" fill-rule=\"nonzero\" fill-opacity=\"1\" /><path clip-path=\"url(#clip390)\" d=\"M66.5939 627.747 L54.7884 646.196 L66.5939 646.196 L66.5939 627.747 M65.367 623.673 L71.2466 623.673 L71.2466 646.196 L76.1772 646.196 L76.1772 650.085 L71.2466 650.085 L71.2466 658.233 L66.5939 658.233 L66.5939 650.085 L50.9921 650.085 L50.9921 645.571 L65.367 623.673 Z\" fill=\"#000000\" fill-rule=\"nonzero\" fill-opacity=\"1\" /><path clip-path=\"url(#clip390)\" d=\"M83.9086 652.353 L88.7928 652.353 L88.7928 658.233 L83.9086 658.233 L83.9086 652.353 Z\" fill=\"#000000\" fill-rule=\"nonzero\" fill-opacity=\"1\" /><path clip-path=\"url(#clip390)\" d=\"M111.825 627.747 L100.02 646.196 L111.825 646.196 L111.825 627.747 M110.598 623.673 L116.478 623.673 L116.478 646.196 L121.408 646.196 L121.408 650.085 L116.478 650.085 L116.478 658.233 L111.825 658.233 L111.825 650.085 L96.2234 650.085 L96.2234 645.571 L110.598 623.673 Z\" fill=\"#000000\" fill-rule=\"nonzero\" fill-opacity=\"1\" /><path clip-path=\"url(#clip390)\" d=\"M139.14 626.752 Q135.529 626.752 133.7 630.316 Q131.894 633.858 131.894 640.988 Q131.894 648.094 133.7 651.659 Q135.529 655.201 139.14 655.201 Q142.774 655.201 144.58 651.659 Q146.408 648.094 146.408 640.988 Q146.408 633.858 144.58 630.316 Q142.774 626.752 139.14 626.752 M139.14 623.048 Q144.95 623.048 148.005 627.654 Q151.084 632.238 151.084 640.988 Q151.084 649.714 148.005 654.321 Q144.95 658.904 139.14 658.904 Q133.33 658.904 130.251 654.321 Q127.195 649.714 127.195 640.988 Q127.195 632.238 130.251 627.654 Q133.33 623.048 139.14 623.048 Z\" fill=\"#000000\" fill-rule=\"nonzero\" fill-opacity=\"1\" /><path clip-path=\"url(#clip390)\" d=\"M187.473 632.77 L176.894 643.395 L187.473 653.974 L184.718 656.775 L174.093 646.15 L163.468 656.775 L160.737 653.974 L171.292 643.395 L160.737 632.77 L163.468 629.969 L174.093 640.594 L184.718 629.969 L187.473 632.77 Z\" fill=\"#000000\" fill-rule=\"nonzero\" fill-opacity=\"1\" /><path clip-path=\"url(#clip390)\" d=\"M199.834 654.298 L207.473 654.298 L207.473 627.932 L199.163 629.599 L199.163 625.34 L207.426 623.673 L212.102 623.673 L212.102 654.298 L219.741 654.298 L219.741 658.233 L199.834 658.233 L199.834 654.298 Z\" fill=\"#000000\" fill-rule=\"nonzero\" fill-opacity=\"1\" /><path clip-path=\"url(#clip390)\" d=\"M239.186 626.752 Q235.574 626.752 233.746 630.316 Q231.94 633.858 231.94 640.988 Q231.94 648.094 233.746 651.659 Q235.574 655.201 239.186 655.201 Q242.82 655.201 244.625 651.659 Q246.454 648.094 246.454 640.988 Q246.454 633.858 244.625 630.316 Q242.82 626.752 239.186 626.752 M239.186 623.048 Q244.996 623.048 248.051 627.654 Q251.13 632.238 251.13 640.988 Q251.13 649.714 248.051 654.321 Q244.996 658.904 239.186 658.904 Q233.375 658.904 230.297 654.321 Q227.241 649.714 227.241 640.988 Q227.241 632.238 230.297 627.654 Q233.375 623.048 239.186 623.048 Z\" fill=\"#000000\" fill-rule=\"nonzero\" fill-opacity=\"1\" /><path clip-path=\"url(#clip390)\" d=\"M261.154 615.268 Q258.597 615.268 257.092 617.018 Q255.606 618.767 255.606 621.814 Q255.606 624.842 257.092 626.61 Q258.597 628.359 261.154 628.359 Q263.712 628.359 265.198 626.61 Q266.703 624.842 266.703 621.814 Q266.703 618.767 265.198 617.018 Q263.712 615.268 261.154 615.268 M268.696 603.363 L268.696 606.824 Q267.267 606.147 265.8 605.789 Q264.352 605.432 262.922 605.432 Q259.161 605.432 257.167 607.971 Q255.192 610.51 254.91 615.645 Q256.02 614.008 257.694 613.143 Q259.368 612.259 261.38 612.259 Q265.612 612.259 268.057 614.836 Q270.521 617.394 270.521 621.814 Q270.521 626.139 267.963 628.754 Q265.405 631.368 261.154 631.368 Q256.283 631.368 253.707 627.644 Q251.13 623.901 251.13 616.811 Q251.13 610.153 254.29 606.203 Q257.449 602.235 262.772 602.235 Q264.201 602.235 265.65 602.517 Q267.117 602.799 268.696 603.363 Z\" fill=\"#000000\" fill-rule=\"nonzero\" fill-opacity=\"1\" /><path clip-path=\"url(#clip390)\" d=\"M66.5939 206.293 L54.7884 224.742 L66.5939 224.742 L66.5939 206.293 M65.367 202.219 L71.2466 202.219 L71.2466 224.742 L76.1772 224.742 L76.1772 228.631 L71.2466 228.631 L71.2466 236.779 L66.5939 236.779 L66.5939 228.631 L50.9921 228.631 L50.9921 224.117 L65.367 202.219 Z\" fill=\"#000000\" fill-rule=\"nonzero\" fill-opacity=\"1\" /><path clip-path=\"url(#clip390)\" d=\"M83.9086 230.899 L88.7928 230.899 L88.7928 236.779 L83.9086 236.779 L83.9086 230.899 Z\" fill=\"#000000\" fill-rule=\"nonzero\" fill-opacity=\"1\" /><path clip-path=\"url(#clip390)\" d=\"M99.0243 202.219 L117.381 202.219 L117.381 206.154 L103.307 206.154 L103.307 214.626 Q104.325 214.279 105.344 214.117 Q106.362 213.932 107.381 213.932 Q113.168 213.932 116.547 217.103 Q119.927 220.274 119.927 225.691 Q119.927 231.27 116.455 234.372 Q112.983 237.45 106.663 237.45 Q104.487 237.45 102.219 237.08 Q99.9733 236.709 97.566 235.969 L97.566 231.27 Q99.6493 232.404 101.871 232.96 Q104.094 233.515 106.571 233.515 Q110.575 233.515 112.913 231.409 Q115.251 229.302 115.251 225.691 Q115.251 222.08 112.913 219.973 Q110.575 217.867 106.571 217.867 Q104.696 217.867 102.821 218.284 Q100.969 218.7 99.0243 219.58 L99.0243 202.219 Z\" fill=\"#000000\" fill-rule=\"nonzero\" fill-opacity=\"1\" /><path clip-path=\"url(#clip390)\" d=\"M139.14 205.298 Q135.529 205.298 133.7 208.862 Q131.894 212.404 131.894 219.534 Q131.894 226.64 133.7 230.205 Q135.529 233.747 139.14 233.747 Q142.774 233.747 144.58 230.205 Q146.408 226.64 146.408 219.534 Q146.408 212.404 144.58 208.862 Q142.774 205.298 139.14 205.298 M139.14 201.594 Q144.95 201.594 148.005 206.2 Q151.084 210.784 151.084 219.534 Q151.084 228.26 148.005 232.867 Q144.95 237.45 139.14 237.45 Q133.33 237.45 130.251 232.867 Q127.195 228.26 127.195 219.534 Q127.195 210.784 130.251 206.2 Q133.33 201.594 139.14 201.594 Z\" fill=\"#000000\" fill-rule=\"nonzero\" fill-opacity=\"1\" /><path clip-path=\"url(#clip390)\" d=\"M187.473 211.316 L176.894 221.941 L187.473 232.52 L184.718 235.321 L174.093 224.696 L163.468 235.321 L160.737 232.52 L171.292 221.941 L160.737 211.316 L163.468 208.515 L174.093 219.14 L184.718 208.515 L187.473 211.316 Z\" fill=\"#000000\" fill-rule=\"nonzero\" fill-opacity=\"1\" /><path clip-path=\"url(#clip390)\" d=\"M199.834 232.844 L207.473 232.844 L207.473 206.478 L199.163 208.145 L199.163 203.886 L207.426 202.219 L212.102 202.219 L212.102 232.844 L219.741 232.844 L219.741 236.779 L199.834 236.779 L199.834 232.844 Z\" fill=\"#000000\" fill-rule=\"nonzero\" fill-opacity=\"1\" /><path clip-path=\"url(#clip390)\" d=\"M239.186 205.298 Q235.574 205.298 233.746 208.862 Q231.94 212.404 231.94 219.534 Q231.94 226.64 233.746 230.205 Q235.574 233.747 239.186 233.747 Q242.82 233.747 244.625 230.205 Q246.454 226.64 246.454 219.534 Q246.454 212.404 244.625 208.862 Q242.82 205.298 239.186 205.298 M239.186 201.594 Q244.996 201.594 248.051 206.2 Q251.13 210.784 251.13 219.534 Q251.13 228.26 248.051 232.867 Q244.996 237.45 239.186 237.45 Q233.375 237.45 230.297 232.867 Q227.241 228.26 227.241 219.534 Q227.241 210.784 230.297 206.2 Q233.375 201.594 239.186 201.594 Z\" fill=\"#000000\" fill-rule=\"nonzero\" fill-opacity=\"1\" /><path clip-path=\"url(#clip390)\" d=\"M261.154 193.815 Q258.597 193.815 257.092 195.564 Q255.606 197.313 255.606 200.36 Q255.606 203.388 257.092 205.156 Q258.597 206.905 261.154 206.905 Q263.712 206.905 265.198 205.156 Q266.703 203.388 266.703 200.36 Q266.703 197.313 265.198 195.564 Q263.712 193.815 261.154 193.815 M268.696 181.909 L268.696 185.37 Q267.267 184.693 265.8 184.335 Q264.352 183.978 262.922 183.978 Q259.161 183.978 257.167 186.517 Q255.192 189.056 254.91 194.191 Q256.02 192.554 257.694 191.689 Q259.368 190.805 261.38 190.805 Q265.612 190.805 268.057 193.382 Q270.521 195.94 270.521 200.36 Q270.521 204.685 267.963 207.3 Q265.405 209.914 261.154 209.914 Q256.283 209.914 253.707 206.19 Q251.13 202.447 251.13 195.357 Q251.13 188.699 254.29 184.749 Q257.449 180.781 262.772 180.781 Q264.201 180.781 265.65 181.063 Q267.117 181.345 268.696 181.909 Z\" fill=\"#000000\" fill-rule=\"nonzero\" fill-opacity=\"1\" /><polyline clip-path=\"url(#clip392)\" style=\"stroke:#009af9; stroke-linecap:round; stroke-linejoin:round; stroke-width:4; stroke-opacity:1; fill:none\" points=\"364.433,87.9763 403.829,620.869 443.225,888.003 482.621,1037.8 522.018,1122.72 561.414,1181.02 600.81,1224.35 640.206,1259.54 679.602,1288.57 718.998,1311.4 758.394,1330.01 797.791,1345.62 837.187,1357.66 876.583,1367.85 915.979,1375.57 955.375,1382.46 994.771,1388.21 1034.17,1393.14 1073.56,1397.37 1112.96,1401.16 1152.36,1404.72 1191.75,1407.69 1231.15,1410.37 1270.54,1413.01 1309.94,1415.32 1349.34,1417.47 1388.73,1419.76 1428.13,1421.88 1467.52,1423.69 1506.92,1425.36 1546.32,1426.92 1585.71,1428.44 1625.11,1429.89 1664.51,1431.28 1703.9,1432.53 1743.3,1433.71 1782.69,1434.8 1822.09,1436.01 1861.49,1437.29 1900.88,1438.41 1940.28,1439.37 1979.67,1440.33 2019.07,1441.24 2058.47,1442.03 2097.86,1442.75 2137.26,1443.45 2176.66,1444.13 2216.05,1444.72 2255.45,1445.23 2294.84,1445.72 \"/>\n",
       "<path clip-path=\"url(#clip390)\" d=\"M2027.49 198.898 L2284.55 198.898 L2284.55 95.2176 L2027.49 95.2176  Z\" fill=\"#ffffff\" fill-rule=\"evenodd\" fill-opacity=\"1\"/>\n",
       "<polyline clip-path=\"url(#clip390)\" style=\"stroke:#000000; stroke-linecap:round; stroke-linejoin:round; stroke-width:4; stroke-opacity:1; fill:none\" points=\"2027.49,198.898 2284.55,198.898 2284.55,95.2176 2027.49,95.2176 2027.49,198.898 \"/>\n",
       "<polyline clip-path=\"url(#clip390)\" style=\"stroke:#009af9; stroke-linecap:round; stroke-linejoin:round; stroke-width:4; stroke-opacity:1; fill:none\" points=\"2050.23,147.058 2186.65,147.058 \"/>\n",
       "<path clip-path=\"url(#clip390)\" d=\"M2223.22 166.745 Q2221.42 171.375 2219.71 172.787 Q2217.99 174.199 2215.12 174.199 L2211.72 174.199 L2211.72 170.634 L2214.22 170.634 Q2215.98 170.634 2216.95 169.8 Q2217.92 168.967 2219.1 165.865 L2219.87 163.921 L2209.38 138.412 L2213.9 138.412 L2222 158.689 L2230.1 138.412 L2234.61 138.412 L2223.22 166.745 Z\" fill=\"#000000\" fill-rule=\"nonzero\" fill-opacity=\"1\" /><path clip-path=\"url(#clip390)\" d=\"M2241.9 160.402 L2249.54 160.402 L2249.54 134.037 L2241.23 135.703 L2241.23 131.444 L2249.5 129.778 L2254.17 129.778 L2254.17 160.402 L2261.81 160.402 L2261.81 164.338 L2241.9 164.338 L2241.9 160.402 Z\" fill=\"#000000\" fill-rule=\"nonzero\" fill-opacity=\"1\" /></svg>\n"
      ]
     },
     "execution_count": 20,
     "metadata": {},
     "output_type": "execute_result"
    }
   ],
   "source": [
    "plot(trace)"
   ]
  },
  {
   "cell_type": "code",
   "execution_count": 10,
   "id": "21bb1e49-79f9-4129-bbfd-c1727ec184f0",
   "metadata": {},
   "outputs": [],
   "source": [
    "# NTF\n",
    "# Cg = cor(X).^2; Cg[diagind(Cg)] .= 0\n",
    "# S, A, trace = fitntf(cu(reshape(qnorm(TE, 0.9), :, size(X, 2), size(X, 2))),\n",
    "#                      [Array{Float32}(I(size(X, 1))), Array{Float32}(I(size(X, 2))), Array{Float32}(I(size(X, 2)))], Array{Float32}(1e-3*I + L), \n",
    "#                      cu(repeat(reshape(Cg, 1, size(X, 2), size(X, 2)), size(X, 1))), \n",
    "#                      [1, 1, 1],\n",
    "#                      [1, 1, 1],\n",
    "#                      10.0,\n",
    "#                      0.0,\n",
    "#                      36; iter = 500, dictionary = false, η = 1.0);\n",
    "# \n",
    "# for i = 1:length(A)\n",
    "#     npzwrite(\"A_$i.npy\", Array(A[i]))\n",
    "# end\n",
    "# \n",
    "# plot(trace)"
   ]
  }
 ],
 "metadata": {
  "kernelspec": {
   "display_name": "Julia 1.8.4",
   "language": "julia",
   "name": "julia-1.8"
  },
  "language_info": {
   "file_extension": ".jl",
   "mimetype": "application/julia",
   "name": "julia",
   "version": "1.8.4"
  },
  "widgets": {
   "application/vnd.jupyter.widget-state+json": {
    "state": {},
    "version_major": 2,
    "version_minor": 0
   }
  }
 },
 "nbformat": 4,
 "nbformat_minor": 5
}
