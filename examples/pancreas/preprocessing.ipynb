{
 "cells": [
  {
   "cell_type": "code",
   "execution_count": null,
   "id": "4626afde-a724-4909-ab18-683dcbd03759",
   "metadata": {},
   "outputs": [],
   "source": [
    "import scvelo as scv\n",
    "import cellrank as cr\n",
    "import scanpy as sc\n",
    "import anndata as ad\n",
    "import magic\n",
    "import scipy as sp\n",
    "import pandas as pd\n",
    "import numpy as np\n",
    "import matplotlib.pyplot as plt\n",
    "DATA_DIR=\"../../data/pancreas/\""
   ]
  },
  {
   "cell_type": "code",
   "execution_count": null,
   "id": "2628eb2f-1566-4c97-904b-7fa6573c0d2d",
   "metadata": {},
   "outputs": [],
   "source": [
    "adata = cr.datasets.pancreas()\n",
    "scv.pp.filter_and_normalize(adata, min_shared_counts=20, n_top_genes = 2000)\n",
    "sc.pp.pca(adata)\n",
    "sc.pp.neighbors(adata, n_pcs = 30, n_neighbors = 30)\n",
    "scv.pp.moments(adata, n_pcs=None, n_neighbors=None)\n",
    "scv.tl.recover_dynamics(adata, n_jobs = 32)\n",
    "scv.tl.velocity(adata, mode = \"dynamical\")\n",
    "scv.tl.velocity_graph(adata)"
   ]
  },
  {
   "cell_type": "code",
   "execution_count": null,
   "id": "5bac3c17-f5dc-4367-8e11-1fa2979c9f4c",
   "metadata": {},
   "outputs": [],
   "source": [
    "scv.pl.velocity_embedding_stream(adata, basis='umap', dpi = 120)"
   ]
  },
  {
   "cell_type": "code",
   "execution_count": null,
   "id": "4b657cc2-7482-46e8-bef5-20bf1f973ce7",
   "metadata": {},
   "outputs": [],
   "source": [
    "scv.pl.velocity_embedding(adata, arrow_length=3, arrow_size=2, dpi=120)"
   ]
  },
  {
   "cell_type": "code",
   "execution_count": null,
   "id": "bef05ee9-e9b9-4d75-b461-a7ab34d185a8",
   "metadata": {},
   "outputs": [],
   "source": [
    "# Compute pseudotime(s)\n",
    "scv.tl.latent_time(adata)\n",
    "scv.tl.velocity_pseudotime(adata)\n",
    "scv.pl.scatter(adata, color='velocity_pseudotime', color_map='viridis')"
   ]
  },
  {
   "cell_type": "code",
   "execution_count": null,
   "id": "8ba7aca8-8fa8-472d-8997-bf35131e0c1b",
   "metadata": {},
   "outputs": [],
   "source": [
    "# Gene names\n",
    "genes = [x.upper() for x in list(adata.var.index)]\n",
    "print('Total:', len(genes), 'genes')\n",
    "# load TF list and interactions\n",
    "tf_genes = pd.read_csv(DATA_DIR + \"tf.txt\", header = None)\n",
    "A = pd.read_csv(DATA_DIR + \"A.txt\", sep = \" \", header = None)\n",
    "tf_index = np.isin(adata.var.index.str.upper(), tf_genes.iloc[:, 0].to_numpy())"
   ]
  },
  {
   "cell_type": "code",
   "execution_count": null,
   "id": "bfa2e909-4ca8-4e89-95bb-bd4ef1732bca",
   "metadata": {},
   "outputs": [],
   "source": [
    "cr.tl.terminal_states(adata, cluster_key=\"clusters\", weight_connectivities=0.2)\n",
    "cr.pl.terminal_states(adata)"
   ]
  },
  {
   "cell_type": "code",
   "execution_count": null,
   "id": "7383dd83-3954-447d-bc21-e17ead198774",
   "metadata": {},
   "outputs": [],
   "source": [
    "cr.tl.initial_states(adata, cluster_key=\"clusters\")\n",
    "cr.pl.initial_states(adata, discrete=True)"
   ]
  },
  {
   "cell_type": "code",
   "execution_count": null,
   "id": "385565ee-4276-4781-be0c-3df7395e1ab9",
   "metadata": {},
   "outputs": [],
   "source": [
    "# k = cr.tl.transition_matrix(\n",
    "#     adata, weight_connectivities=0.1, show_progress_bar=True, scheme = \"cosine\",\n",
    "# )\n",
    "# use instead the following call\n",
    "k = cr.tl.kernels.VelocityKernel(adata, scheme = 'cosine').compute_transition_matrix(softmax_scale = None)"
   ]
  },
  {
   "cell_type": "code",
   "execution_count": null,
   "id": "87f99ab1-647b-4329-a8e0-9368640c8c2b",
   "metadata": {},
   "outputs": [],
   "source": [
    "# compute \"metacell\" clusters (ended up not using Leiden in the paper example)\n",
    "sc.tl.leiden(adata, resolution = 50)\n",
    "adata.obs.leiden = list(map(int, adata.obs.leiden.to_numpy()))\n",
    "plt.scatter(adata.obsm[\"X_umap\"][:, 0], adata.obsm[\"X_umap\"][:, 1], c = list(map(int, adata.obs.leiden.to_numpy())), cmap = \"rainbow\", s = 2.5)"
   ]
  },
  {
   "cell_type": "code",
   "execution_count": null,
   "id": "b28716f4-0e2b-4112-ac5e-d902c7273a5d",
   "metadata": {},
   "outputs": [],
   "source": [
    "G_sp = adata.uns['neighbors']['distances']\n",
    "adata.obsm[\"C\"] = sp.sparse.csgraph.floyd_warshall(G_sp, directed = False)**2"
   ]
  },
  {
   "cell_type": "code",
   "execution_count": null,
   "id": "482f5afe-2e51-47ce-be06-817b301476b9",
   "metadata": {},
   "outputs": [],
   "source": [
    "# write input data for locaTE\n",
    "P = k.transition_matrix;\n",
    "np.save(DATA_DIR + \"P.npy\", P.todense())\n",
    "np.save(DATA_DIR + \"C.npy\", adata.obsm[\"C\"])\n",
    "np.save(DATA_DIR + \"X.npy\", adata.X[:, tf_index].todense())\n",
    "np.save(DATA_DIR + \"X_pca.npy\", adata.obsm[\"X_pca\"])\n",
    "np.save(DATA_DIR + \"X_umap.npy\", adata.obsm[\"X_umap\"])\n",
    "np.save(DATA_DIR + \"dpt.npy\", adata.obs.latent_time)\n",
    "np.save(DATA_DIR + \"leiden.npy\", adata.obs.leiden)"
   ]
  },
  {
   "cell_type": "code",
   "execution_count": null,
   "id": "53706d41-1a7c-4cba-b1c3-5dfc2322611f",
   "metadata": {},
   "outputs": [],
   "source": [
    "adata_subset = adata[:, tf_index]\n",
    "# top_genes = adata_subset.var['fit_likelihood'].sort_values(ascending=False).index\n",
    "top_genes = [\"Pdx1\", \"Arx\", \"Nkx6-1\", \"Foxa3\", \"Pax4\", \"Usf2\", \"Trp53\"]\n",
    "scv.pl.heatmap(adata_subset, var_names=top_genes, sortby='latent_time', col_color='clusters', n_convolve=100)"
   ]
  },
  {
   "cell_type": "code",
   "execution_count": null,
   "id": "e8101482-99ba-4b5e-bd62-899120a583b5",
   "metadata": {},
   "outputs": [],
   "source": [
    "# Stationary OT\n",
    "import statot\n",
    "# C = sp.spatial.distance.cdist(adata.obsm[\"X_pca\"], adata.obsm[\"X_pca\"]);\n",
    "C = adata.obsm[\"C\"]\n",
    "sink_idx = (adata.obs.velocity_pseudotime >= np.quantile(adata.obs.velocity_pseudotime, 0.85)) &  \\\n",
    "            (adata.obs.velocity_pseudotime < np.quantile(adata.obs.velocity_pseudotime, 0.975))\n",
    "R = np.zeros(adata.shape[0])\n",
    "R[sink_idx] = -50/sum(sink_idx)\n",
    "R[~sink_idx] = -R.sum()/sum(~sink_idx)\n",
    "scv.pl.scatter(adata, color=sink_idx)"
   ]
  },
  {
   "cell_type": "code",
   "execution_count": null,
   "id": "e3380cf5-f04c-4983-bb79-f647eed2f502",
   "metadata": {},
   "outputs": [],
   "source": [
    "gamma, mu, nu = statot.inference.statot(adata.obsm[\"X_pca\"], g = np.exp(R), dt = 1, C = C, eps = 1.0*C.mean(), method = \"quad\")\n",
    "adata.obsm[\"P_statot\"] = statot.inference.row_normalise(gamma)\n",
    "np.save(DATA_DIR + \"P_statot.npy\", adata.obsm[\"P_statot\"])"
   ]
  },
  {
   "cell_type": "code",
   "execution_count": null,
   "id": "a34f7600-45a3-41e0-879d-bcac59a7763a",
   "metadata": {},
   "outputs": [],
   "source": [
    "# calculate neighbourhood kernel using QOT\n",
    "import ot\n",
    "R = ot.smooth.smooth_ot_dual(np.ones(adata.shape[0]), np.ones(adata.shape[0]), C, 2.5*C.mean())\n",
    "adata.obsm[\"R\"] = R\n",
    "np.save(DATA_DIR + \"R.npy\", adata.obsm[\"R\"])"
   ]
  },
  {
   "cell_type": "code",
   "execution_count": null,
   "id": "9141a438-7c95-4abf-9fe0-401a28c3cc0e",
   "metadata": {},
   "outputs": [],
   "source": [
    "pi0 = np.array((adata.obs.velocity_pseudotime < 0.3) & (adata.obs.velocity_pseudotime > 0.2))\n",
    "pi1 = np.linalg.matrix_power(P.todense(), 1).T @ pi0\n",
    "scv.pl.scatter(adata, color=pi0, color_map='magma')\n",
    "scv.pl.scatter(adata, color=pi1, color_map='magma')"
   ]
  },
  {
   "cell_type": "code",
   "execution_count": null,
   "id": "9489abaa-ac05-4f2c-b091-297f2076dbbb",
   "metadata": {},
   "outputs": [],
   "source": [
    "A_index = list(map(lambda x: np.where(x == tf_genes.iloc[:, 0])[0][0], adata.var.index[tf_index].str.upper()))\n",
    "A_subset = A.iloc[A_index, :].iloc[:, A_index]\n",
    "pd.DataFrame(adata.var.index[tf_index]).to_csv(DATA_DIR + \"genes.txt\", index = None)\n",
    "np.save(DATA_DIR + \"J.npy\", A_subset.to_numpy())\n",
    "pd.DataFrame(A_subset.to_numpy()).to_csv(DATA_DIR + \"J.csv\", header = False, index = False)"
   ]
  },
  {
   "cell_type": "code",
   "execution_count": null,
   "id": "eed72b23-e807-4cb8-bf81-3997b386479a",
   "metadata": {},
   "outputs": [],
   "source": [
    "scv.pl.velocity_embedding_stream(adata, basis='umap', title = \"Colored by cluster\", \n",
    "                                 save = \"pancreas_cluster_streamplot.svg\", fontsize = 12, dpi = 120)"
   ]
  },
  {
   "cell_type": "code",
   "execution_count": null,
   "id": "c79a4ff4-87d3-4f81-8763-92cefb4ad7c2",
   "metadata": {},
   "outputs": [],
   "source": [
    "# fate probs\n",
    "cr.tl.lineages(adata, backward = False)\n",
    "cr.pl.lineages(adata, same_plot= True, save = \"pancreas_fateplot.pdf\", title = \"Fate probabilities\", fontsize = 12)\n",
    "pd.DataFrame(adata.obsm[\"to_terminal_states\"], columns = adata.obsm[\"to_terminal_states\"].names, index = adata.obs.index).to_csv(DATA_DIR + \"fates.csv\")\n",
    "pd.DataFrame(adata.obs.clusters).to_csv(DATA_DIR + \"clusters.csv\")"
   ]
  },
  {
   "cell_type": "code",
   "execution_count": null,
   "id": "e3675ca1-09d3-47a5-a4d7-d8793d6d58c1",
   "metadata": {},
   "outputs": [],
   "source": [
    "# run locaTE\n",
    "!julia ../../tools/locaTE.jl/src/locaTE_cmd.jl --lambda1 10.0 --lambda2 0.001 --k_lap 25 --suffix locate --gpu $DATA_DIR/X.npy $DATA_DIR/X_pca.npy $DATA_DIR/P.npy $DATA_DIR/R.npy"
   ]
  },
  {
   "cell_type": "code",
   "execution_count": null,
   "id": "72644e44-c6ac-41b3-a824-93ff27e682e1",
   "metadata": {},
   "outputs": [],
   "source": [
    "!julia ../../tools/locaTE.jl/src/locaTE_cmd.jl --lambda1 10.0 --lambda2 0.001 --k_lap 25 --suffix locate_statot --gpu $DATA_DIR/X.npy $DATA_DIR/X_pca.npy $DATA_DIR/P_statot.npy $DATA_DIR/R.npy"
   ]
  },
  {
   "cell_type": "code",
   "execution_count": null,
   "id": "6771acc9-fa51-46b6-a300-cd0abe6fe541",
   "metadata": {},
   "outputs": [],
   "source": [
    "import sklearn as sk\n",
    "from sklearn import manifold\n",
    "G_pca = sk.decomposition.PCA().fit_transform(np.load(\"G_locate.npy\"))\n",
    "G_spec = sk.manifold.SpectralEmbedding().fit_transform(G_pca)"
   ]
  },
  {
   "cell_type": "code",
   "execution_count": null,
   "id": "d489e57c-3aca-4b75-be80-f54c5bd91c5f",
   "metadata": {},
   "outputs": [],
   "source": [
    "adata.obs[\"grn_pca1\"] = np.array(G_pca[:, 0])\n",
    "adata.obs[\"grn_spec1\"] = np.array(G_spec[:, 0])\n",
    "scv.pl.velocity_embedding_stream(adata, basis='umap', color = \"grn_spec1\", cmap = \"gnuplot\", title = \"Colored by scGRN\", colorbar = False, \n",
    "                                 save = \"pancreas_streamplot.svg\", fontsize = 12, dpi = 120)"
   ]
  },
  {
   "cell_type": "code",
   "execution_count": null,
   "id": "7f069bdb-e9b2-4188-a4de-8f3d0e9319bc",
   "metadata": {},
   "outputs": [],
   "source": []
  },
  {
   "cell_type": "code",
   "execution_count": null,
   "id": "44400b60-544d-4043-aa6a-1bbc7f907ff9",
   "metadata": {},
   "outputs": [],
   "source": []
  },
  {
   "cell_type": "code",
   "execution_count": null,
   "id": "78471eb9-d4ce-462b-bfd1-95be0ad3c83f",
   "metadata": {},
   "outputs": [],
   "source": []
  }
 ],
 "metadata": {
  "kernelspec": {
   "display_name": "Python (py39)",
   "language": "python",
   "name": "py39"
  },
  "language_info": {
   "codemirror_mode": {
    "name": "ipython",
    "version": 3
   },
   "file_extension": ".py",
   "mimetype": "text/x-python",
   "name": "python",
   "nbconvert_exporter": "python",
   "pygments_lexer": "ipython3",
   "version": "3.9.12"
  },
  "widgets": {
   "application/vnd.jupyter.widget-state+json": {
    "state": {},
    "version_major": 2,
    "version_minor": 0
   }
  }
 },
 "nbformat": 4,
 "nbformat_minor": 5
}
