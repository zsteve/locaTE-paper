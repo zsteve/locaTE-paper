{
 "cells": [
  {
   "cell_type": "code",
   "execution_count": 1,
   "id": "d10a3ac8-6aa0-4118-9e55-025975ac28bf",
   "metadata": {},
   "outputs": [
    {
     "name": "stderr",
     "output_type": "stream",
     "text": [
      "\u001b[32m\u001b[1m  Activating\u001b[22m\u001b[39m new project at `/data/gpfs/projects/punim0638/stephenz/locaTE-paper/examples/pancreas/pidc`\n"
     ]
    }
   ],
   "source": [
    "using Pkg\n",
    "Pkg.activate(\"pidc\")"
   ]
  },
  {
   "cell_type": "code",
   "execution_count": 4,
   "id": "c1f51a28-d6c2-419d-838c-ece7922e393a",
   "metadata": {},
   "outputs": [
    {
     "name": "stderr",
     "output_type": "stream",
     "text": [
      "\u001b[36m\u001b[1m[ \u001b[22m\u001b[39m\u001b[36m\u001b[1mInfo: \u001b[22m\u001b[39mPrecompiling NetworkInference [6b44d3db-2bc5-5ac3-b70f-26aa69b1b11b]\n",
      "\u001b[33m\u001b[1m┌ \u001b[22m\u001b[39m\u001b[33m\u001b[1mWarning: \u001b[22m\u001b[39mPkg.installed() is deprecated\n",
      "\u001b[33m\u001b[1m└ \u001b[22m\u001b[39m\u001b[90m@ Pkg /cache/build/default-aws-shared0-3/julialang/julia-release-1-dot-8/usr/share/julia/stdlib/v1.8/Pkg/src/Pkg.jl:675\u001b[39m\n"
     ]
    }
   ],
   "source": [
    "using NetworkInference"
   ]
  },
  {
   "cell_type": "code",
   "execution_count": 5,
   "id": "2db74969-d369-4858-becf-07631614d333",
   "metadata": {},
   "outputs": [
    {
     "name": "stdout",
     "output_type": "stream",
     "text": [
      "Getting nodes...\n",
      "Inferring network...\n"
     ]
    }
   ],
   "source": [
    "n = infer_network(\"expr.csv\", PIDCNetworkInference(); delim = ',');\n",
    "w = [e.weight for e in n.edges]\n",
    "e = [(e.nodes[1].label, e.nodes[2].label) for e in n.edges];\n",
    "\n",
    "genes = [x.label for x in n.nodes];\n",
    "\n",
    "N_g = length(n.nodes)\n",
    "A = zeros(N_g, N_g)\n",
    "for (w_, e_) in zip(w, e)\n",
    "    A[findfirst(x -> x == e_[1], genes)[1], \n",
    "      findfirst(x -> x == e_[2], genes)[1]] = w_\n",
    "end"
   ]
  },
  {
   "cell_type": "code",
   "execution_count": 6,
   "id": "05bb4dd5-3b75-4475-a66b-fbe7e17db32b",
   "metadata": {},
   "outputs": [],
   "source": [
    "A = A + A';"
   ]
  },
  {
   "cell_type": "code",
   "execution_count": 7,
   "id": "f384bd12-e28d-46b3-a485-044de8d0cac8",
   "metadata": {},
   "outputs": [],
   "source": [
    "using NPZ\n",
    "npzwrite(\"A_pidc.npy\", A);"
   ]
  },
  {
   "cell_type": "code",
   "execution_count": null,
   "id": "563e527f-f21f-4159-9f9a-7388160fe786",
   "metadata": {},
   "outputs": [],
   "source": []
  }
 ],
 "metadata": {
  "kernelspec": {
   "display_name": "Julia 1.8.4",
   "language": "julia",
   "name": "julia-1.8"
  },
  "language_info": {
   "file_extension": ".jl",
   "mimetype": "application/julia",
   "name": "julia",
   "version": "1.8.4"
  },
  "widgets": {
   "application/vnd.jupyter.widget-state+json": {
    "state": {},
    "version_major": 2,
    "version_minor": 0
   }
  }
 },
 "nbformat": 4,
 "nbformat_minor": 5
}
