{
 "cells": [
  {
   "cell_type": "code",
   "execution_count": 1,
   "id": "fb123dcf-d305-4422-a21c-8a3c1fc3d571",
   "metadata": {},
   "outputs": [
    {
     "name": "stderr",
     "output_type": "stream",
     "text": [
      "\u001b[32m\u001b[1m  Activating\u001b[22m\u001b[39m project at `/data/gpfs/projects/punim0638/stephenz/locaTE-paper/examples/pancreas`\n",
      "\u001b[32m\u001b[1m   Resolving\u001b[22m\u001b[39m package versions...\n",
      "\u001b[32m\u001b[1m  No Changes\u001b[22m\u001b[39m to `/data/gpfs/projects/punim0638/stephenz/locaTE-paper/examples/pancreas/Project.toml`\n",
      "\u001b[32m\u001b[1m  No Changes\u001b[22m\u001b[39m to `/data/gpfs/projects/punim0638/stephenz/locaTE-paper/examples/pancreas/Manifest.toml`\n"
     ]
    }
   ],
   "source": [
    "using Pkg\n",
    "Pkg.activate(\".\")\n",
    "Pkg.develop(path=\"../../../locaTE.jl/\")\n",
    "using Revise"
   ]
  },
  {
   "cell_type": "code",
   "execution_count": 2,
   "id": "17c13fef-b19f-4b74-8c52-c910a5e44f98",
   "metadata": {},
   "outputs": [
    {
     "name": "stderr",
     "output_type": "stream",
     "text": [
      "\u001b[36m\u001b[1m[ \u001b[22m\u001b[39m\u001b[36m\u001b[1mInfo: \u001b[22m\u001b[39mPrecompiling locaTE [d47a2e43-82e6-47ba-a340-eddb77145d33]\n"
     ]
    }
   ],
   "source": [
    "using NPZ\n",
    "using locaTE\n",
    "using NearestNeighbors\n",
    "using Graphs\n",
    "using GraphSignals\n",
    "using SparseArrays\n",
    "using LinearAlgebra\n",
    "using Plots\n",
    "using StatsBase\n",
    "using CUDA\n",
    "using Random\n",
    "using NNlib"
   ]
  },
  {
   "cell_type": "code",
   "execution_count": 3,
   "id": "4223e8ad-bbb3-494f-b98f-7ba4bfb75ef7",
   "metadata": {},
   "outputs": [],
   "source": [
    "DATA_DIR = \"../../data/pancreas/\"\n",
    "X = npzread(string(DATA_DIR, \"X.npy\"))\n",
    "R = sparse(npzread(string(DATA_DIR, \"R.npy\")))\n",
    "P = sparse(npzread(string(DATA_DIR, \"P.npy\")))\n",
    "QT = to_backward_kernel(P);"
   ]
  },
  {
   "cell_type": "code",
   "execution_count": 4,
   "id": "4a4856ae-9c31-449d-98f1-a99ec56d1a5b",
   "metadata": {},
   "outputs": [],
   "source": [
    "disc = locaTE.discretizations_bulk(X);"
   ]
  },
  {
   "cell_type": "code",
   "execution_count": 13,
   "id": "f67df695-e254-4a20-bf86-e7f77d4d7bee",
   "metadata": {},
   "outputs": [],
   "source": [
    "targets, regulators = 1:size(X, 2), 1:size(X, 2)\n",
    "i = 1\n",
    "gene_idxs = vcat([[j, i]' for i in targets for j in regulators]...);\n",
    "clusters = I(size(P, 1))\n",
    "clusters_norm = convert(Matrix{eltype(P)}, clusters)\n",
    "clusters_norm ./= sum(clusters_norm; dims = 1);"
   ]
  },
  {
   "cell_type": "code",
   "execution_count": 15,
   "id": "934519f2-e5f8-4d77-9c80-0f7dddcbe4a0",
   "metadata": {},
   "outputs": [],
   "source": [
    "using BenchmarkTools"
   ]
  },
  {
   "cell_type": "code",
   "execution_count": 16,
   "id": "aac3edaa-21a8-4881-8931-a1c33cf9302a",
   "metadata": {},
   "outputs": [
    {
     "name": "stdout",
     "output_type": "stream",
     "text": [
      "  191.513 s (168340 allocations: 143.53 GiB)\n"
     ]
    },
    {
     "data": {
      "text/plain": [
       "6724-element Vector{Float64}:\n",
       " -8.881784197001252e-16\n",
       "  0.009175991355972801\n",
       "  0.00224549920634165\n",
       "  0.0030092356795135\n",
       "  0.0015914341928116027\n",
       "  0.008967473929542669\n",
       "  0.006149163894478615\n",
       "  0.009095682209627975\n",
       "  0.014682029927894469\n",
       "  0.010957401430054414\n",
       "  0.01234173654665982\n",
       "  0.007934523673550853\n",
       "  0.010423357848992731\n",
       "  ⋮\n",
       "  0.0024781321685387603\n",
       "  0.011622785557160897\n",
       "  0.003407045316749846\n",
       "  0.012028540615454553\n",
       "  0.00752909246200173\n",
       "  0.005041846651464343\n",
       "  0.005375799071123399\n",
       "  0.0007775327968284618\n",
       "  0.009940953490491289\n",
       "  0.006016697994755571\n",
       "  0.00537641300859959\n",
       " -6.661338147750939e-16"
      ]
     },
     "execution_count": 16,
     "metadata": {},
     "output_type": "execute_result"
    }
   ],
   "source": [
    "@btime get_MI(X, compute_coupling(X, clusters_norm[:, i], P, QT, R), gene_idxs[:, 1], gene_idxs[:, 2]; disc = disc)"
   ]
  },
  {
   "cell_type": "code",
   "execution_count": null,
   "id": "2ba10671-b366-42a6-8039-133b9b7f90b9",
   "metadata": {},
   "outputs": [],
   "source": []
  }
 ],
 "metadata": {
  "kernelspec": {
   "display_name": "Julia 1.8.4",
   "language": "julia",
   "name": "julia-1.8"
  },
  "language_info": {
   "file_extension": ".jl",
   "mimetype": "application/julia",
   "name": "julia",
   "version": "1.8.4"
  },
  "widgets": {
   "application/vnd.jupyter.widget-state+json": {
    "state": {},
    "version_major": 2,
    "version_minor": 0
   }
  }
 },
 "nbformat": 4,
 "nbformat_minor": 5
}
