{
 "cells": [
  {
   "cell_type": "code",
   "execution_count": 79,
   "id": "d3a11353-f165-40c2-a8c3-273ab523db1e",
   "metadata": {
    "tags": []
   },
   "outputs": [],
   "source": [
    "import scanpy as sc\n",
    "import os\n",
    "import anndata as ad\n",
    "import cellrank as cr\n",
    "import numpy as np\n",
    "import scipy as sp"
   ]
  },
  {
   "cell_type": "code",
   "execution_count": 194,
   "id": "2118ae5e-4370-40e8-99b8-3ce09e4a3d3a",
   "metadata": {
    "tags": []
   },
   "outputs": [],
   "source": [
    "# DATA_PATH=\"../../data/simulated/Synthetic_1000/dyn-SW/dyn-SW-1000-2/\"\n",
    "DATA_PATH=\"../../data/simulated/Synthetic_1000/dyn-LI/dyn-LI-1000-2/\"\n",
    "# DATA_PATH=\"../../data/simulated/Synthetic_1000/dyn-CY/dyn-CY-1000-2/\""
   ]
  },
  {
   "cell_type": "code",
   "execution_count": 195,
   "id": "a920fbb6-e47a-46c3-876a-695a2d595a1b",
   "metadata": {
    "tags": []
   },
   "outputs": [],
   "source": [
    "adata = ad.read_h5ad(os.path.join(DATA_PATH, \"anndata.h5ad\"))"
   ]
  },
  {
   "cell_type": "code",
   "execution_count": 196,
   "id": "74145876-6c5d-4fc7-b0f4-bd6eb9fc631b",
   "metadata": {
    "tags": []
   },
   "outputs": [],
   "source": [
    "k = adata.uns['neighbors']['params']['n_neighbors']"
   ]
  },
  {
   "cell_type": "code",
   "execution_count": 197,
   "id": "32a191b3-401f-4cef-929b-9363f85583e9",
   "metadata": {
    "tags": []
   },
   "outputs": [],
   "source": [
    "del adata.uns['neighbors']"
   ]
  },
  {
   "cell_type": "code",
   "execution_count": 198,
   "id": "d8bb058b-1346-42d0-87a8-d95860c50a3f",
   "metadata": {
    "tags": []
   },
   "outputs": [],
   "source": [
    "# dpt is true time, dpt_pseudotime is diffusion pseudotime\n",
    "adata.obsm[\"X_dpt\"] = adata.obs[\"dpt\"].to_numpy().reshape(-1, 1)"
   ]
  },
  {
   "cell_type": "code",
   "execution_count": 199,
   "id": "d6f9c67a-0374-4828-afef-466adb9625bc",
   "metadata": {
    "tags": []
   },
   "outputs": [],
   "source": [
    "sc.pp.neighbors(adata, k, use_rep = \"X_dpt\")"
   ]
  },
  {
   "cell_type": "code",
   "execution_count": 200,
   "id": "827835b5-3ee4-4840-8839-a64e4dea58ad",
   "metadata": {
    "tags": []
   },
   "outputs": [
    {
     "data": {
      "application/vnd.jupyter.widget-view+json": {
       "model_id": "0f0922a561a6424fb1372fb586a6ae99",
       "version_major": 2,
       "version_minor": 0
      },
      "text/plain": [
       "  0%|          | 0/1000 [00:00<?, ?cell/s]"
      ]
     },
     "metadata": {},
     "output_type": "display_data"
    }
   ],
   "source": [
    "def compute_velocity_kernel(k, sigma):\n",
    "    # compute velocity-induced transition matrix with kernel k and bandwidth sigma\n",
    "    if sigma is None:\n",
    "        # median heuristic, see e.g. https://github.com/theislab/cellrank/blob/f6d281e62a5cee976d25973b5a5e4c1050f37429/cellrank/kernels/_velocity_kernel.py#L230 \n",
    "        logits_all = np.concatenate([k(adata.obsm[\"v\"].iloc[i, :].to_numpy().reshape(1, -1).astype(np.float64),\n",
    "                        (adata.X[adata.uns['neighbors']['connectivities'][i, :].indices, :] - adata.X[i, :]).astype(np.float64),\n",
    "                                softmax_scale =  1.0)[1] for i in range(adata.shape[0])])\n",
    "        sigma = 1/np.median(logits_all)\n",
    "    probs_all_fwd = [k(adata.obsm[\"v\"].iloc[i, :].to_numpy().reshape(1, -1).astype(np.float64),\n",
    "                    (adata.X[adata.uns['neighbors']['connectivities'][i, :].indices, :] - adata.X[i, :]).astype(np.float64),\n",
    "                    softmax_scale = sigma)[0] for i in range(adata.shape[0])]\n",
    "    P_velo = sp.sparse.csr_matrix(adata.uns['neighbors']['connectivities'].shape)\n",
    "    for i, p in enumerate(probs_all_fwd):\n",
    "        P_velo[i, adata.uns['neighbors']['connectivities'][i, :].indices] = p\n",
    "    return P_velo\n",
    "\n",
    "# apply velocity kernels \n",
    "for (k, sigma, kerneltype) in zip([cr.tl.kernels.DotProductScheme(), cr.tl.kernels.CorrelationScheme(), cr.tl.kernels.CosineScheme()],\n",
    "                            [None, None, None], [\"dot\", \"corr\", \"cos\"]):\n",
    "    adata.obsm[\"P_velo_%s\" % kerneltype] = compute_velocity_kernel(k, sigma)\n",
    "# diffusion pseudotime kernel\n",
    "k = cr.tl.kernels.PseudotimeKernel(adata, time_key = \"dpt_pseudotime\").compute_transition_matrix(threshold_scheme = \"soft\") \n",
    "adata.obsm[\"P_dpt\"] = k.transition_matrix"
   ]
  },
  {
   "cell_type": "code",
   "execution_count": 201,
   "id": "99c0e5d4-272b-4fe7-b063-8d648bbfeae4",
   "metadata": {
    "tags": []
   },
   "outputs": [
    {
     "data": {
      "text/plain": [
       "<1x1000 sparse matrix of type '<class 'numpy.float64'>'\n",
       "\twith 10 stored elements in Compressed Sparse Row format>"
      ]
     },
     "execution_count": 201,
     "metadata": {},
     "output_type": "execute_result"
    }
   ],
   "source": [
    "adata.obsm[\"P_velo_dot\"][0, :]"
   ]
  },
  {
   "cell_type": "code",
   "execution_count": 202,
   "id": "b4b45ee9-eb69-4d53-9586-4bc37a7332cf",
   "metadata": {
    "tags": []
   },
   "outputs": [
    {
     "name": "stdout",
     "output_type": "stream",
     "text": [
      "Writing transition matrix P_dpt...\n",
      "Writing transition matrix P_statot...\n",
      "Writing transition matrix P_statot_ent...\n",
      "Writing transition matrix P_velo_corr...\n",
      "Writing transition matrix P_velo_cos...\n",
      "Writing transition matrix P_velo_dot...\n"
     ]
    }
   ],
   "source": [
    "# save transition matrices\n",
    "for k in [x for x in adata.obsm.keys() if \"P_\" in x]:\n",
    "    print(\"Writing transition matrix %s...\" % k)\n",
    "    try:\n",
    "        np.save(os.path.join(DATA_PATH, f\"{k}_dpt_knn.npy\"), np.array(adata.obsm[k].todense()))\n",
    "    except:\n",
    "        np.save(os.path.join(DATA_PATH, f\"{k}_dpt_knn.npy\"), np.array(adata.obsm[k]))"
   ]
  },
  {
   "cell_type": "code",
   "execution_count": null,
   "id": "ce9709ba-c7d7-4a87-a0e4-ec4a898ccebb",
   "metadata": {},
   "outputs": [],
   "source": []
  },
  {
   "cell_type": "code",
   "execution_count": null,
   "id": "c79d6371-0774-486a-ae14-1633e2410072",
   "metadata": {},
   "outputs": [],
   "source": []
  }
 ],
 "metadata": {
  "kernelspec": {
   "display_name": "Python (py39)",
   "language": "python",
   "name": "py39"
  },
  "language_info": {
   "codemirror_mode": {
    "name": "ipython",
    "version": 3
   },
   "file_extension": ".py",
   "mimetype": "text/x-python",
   "name": "python",
   "nbconvert_exporter": "python",
   "pygments_lexer": "ipython3",
   "version": "3.9.12"
  },
  "widgets": {
   "application/vnd.jupyter.widget-state+json": {
    "state": {
     "028c29df16d343aa9b8afbd44667983e": {
      "model_module": "@jupyter-widgets/controls",
      "model_module_version": "2.0.0",
      "model_name": "HTMLStyleModel",
      "state": {
       "description_width": "",
       "font_size": null,
       "text_color": null
      }
     },
     "03bee7447bd740c4a215d7a01f9b08dc": {
      "model_module": "@jupyter-widgets/controls",
      "model_module_version": "2.0.0",
      "model_name": "HTMLStyleModel",
      "state": {
       "description_width": "",
       "font_size": null,
       "text_color": null
      }
     },
     "055bf9715aef4d89b921e3e71abc3641": {
      "model_module": "@jupyter-widgets/base",
      "model_module_version": "2.0.0",
      "model_name": "LayoutModel",
      "state": {}
     },
     "07ef7c6fda9f4732b375b7b616a9ec4a": {
      "model_module": "@jupyter-widgets/base",
      "model_module_version": "2.0.0",
      "model_name": "LayoutModel",
      "state": {}
     },
     "0a0ee5425d1f414cb481f092cd3220e8": {
      "model_module": "@jupyter-widgets/base",
      "model_module_version": "2.0.0",
      "model_name": "LayoutModel",
      "state": {}
     },
     "0a2b23a2aff94d7684d4b6900e14543f": {
      "model_module": "@jupyter-widgets/controls",
      "model_module_version": "2.0.0",
      "model_name": "HTMLModel",
      "state": {
       "layout": "IPY_MODEL_cbb65633610d4dbfb26045809199b986",
       "style": "IPY_MODEL_c87e816c8e1f457bb6c129e56f4126be",
       "value": "100%"
      }
     },
     "0ab5645f394f4333983dbfcb2656a817": {
      "model_module": "@jupyter-widgets/controls",
      "model_module_version": "2.0.0",
      "model_name": "HTMLModel",
      "state": {
       "layout": "IPY_MODEL_aaf15b3505424e21a90fa3860e0119c6",
       "style": "IPY_MODEL_20039e6e0b72428b81833aa2cb2e760d",
       "value": " 1000/1000 [00:00&lt;00:00, 4727.37cell/s]"
      }
     },
     "0aee9235f4eb4a779f23464a7790c773": {
      "model_module": "@jupyter-widgets/controls",
      "model_module_version": "2.0.0",
      "model_name": "FloatProgressModel",
      "state": {
       "bar_style": "success",
       "layout": "IPY_MODEL_db55c5c43dda4035a6c2e68f899f4071",
       "max": 1000,
       "style": "IPY_MODEL_a7cde032efb54779be716a348bcf4407",
       "value": 1000
      }
     },
     "0c0765cdb2134294a9df28730351f329": {
      "model_module": "@jupyter-widgets/base",
      "model_module_version": "2.0.0",
      "model_name": "LayoutModel",
      "state": {}
     },
     "0c4a33a32afe4446860d400c88a620ee": {
      "model_module": "@jupyter-widgets/base",
      "model_module_version": "2.0.0",
      "model_name": "LayoutModel",
      "state": {}
     },
     "0dba35048d564f58925b01a60d606811": {
      "model_module": "@jupyter-widgets/base",
      "model_module_version": "2.0.0",
      "model_name": "LayoutModel",
      "state": {}
     },
     "0e87b179f8a143c588ea8a9524e90cd9": {
      "model_module": "@jupyter-widgets/controls",
      "model_module_version": "2.0.0",
      "model_name": "HBoxModel",
      "state": {
       "children": [
        "IPY_MODEL_6460735c525f46ad817d386c500e6d4b",
        "IPY_MODEL_6ea0d354097341aab14cc06e1594905d",
        "IPY_MODEL_93c7c58480a74a59a865419333d68f6e"
       ],
       "layout": "IPY_MODEL_c4507a790f17401da197162b61fcf8c3"
      }
     },
     "0f0922a561a6424fb1372fb586a6ae99": {
      "model_module": "@jupyter-widgets/controls",
      "model_module_version": "2.0.0",
      "model_name": "HBoxModel",
      "state": {
       "children": [
        "IPY_MODEL_24fa8e32e2a347fa97a3877cce89511b",
        "IPY_MODEL_28bf0a5d8e264740938749e05679c6e5",
        "IPY_MODEL_d781fce1cfb44034a08a68cad1636283"
       ],
       "layout": "IPY_MODEL_aeec0222ff774d89a1562b8cada73e07"
      }
     },
     "1192a4221e2e48d8b150efa73b3d056b": {
      "model_module": "@jupyter-widgets/controls",
      "model_module_version": "2.0.0",
      "model_name": "HTMLStyleModel",
      "state": {
       "description_width": "",
       "font_size": null,
       "text_color": null
      }
     },
     "17c09bd8dfa44bb29c62b7253df14189": {
      "model_module": "@jupyter-widgets/controls",
      "model_module_version": "2.0.0",
      "model_name": "HTMLStyleModel",
      "state": {
       "description_width": "",
       "font_size": null,
       "text_color": null
      }
     },
     "17f0fa5cf7584118bea0d9f8cb21ac8e": {
      "model_module": "@jupyter-widgets/base",
      "model_module_version": "2.0.0",
      "model_name": "LayoutModel",
      "state": {}
     },
     "19f666319b7643aaaf564f975fb42ee7": {
      "model_module": "@jupyter-widgets/controls",
      "model_module_version": "2.0.0",
      "model_name": "HTMLStyleModel",
      "state": {
       "description_width": "",
       "font_size": null,
       "text_color": null
      }
     },
     "1be6380003514f6792bde398a6334047": {
      "model_module": "@jupyter-widgets/controls",
      "model_module_version": "2.0.0",
      "model_name": "HTMLModel",
      "state": {
       "layout": "IPY_MODEL_4300736ece5d4f04bbb989157e8a264c",
       "style": "IPY_MODEL_028c29df16d343aa9b8afbd44667983e",
       "value": " 2000/2000 [00:00&lt;00:00, 5066.77cell/s]"
      }
     },
     "1ceb16501bff4915b48cff3e124d3247": {
      "model_module": "@jupyter-widgets/controls",
      "model_module_version": "2.0.0",
      "model_name": "ProgressStyleModel",
      "state": {
       "description_width": ""
      }
     },
     "1d1e3cd8cab54c43945c4597bc10cb64": {
      "model_module": "@jupyter-widgets/controls",
      "model_module_version": "2.0.0",
      "model_name": "HBoxModel",
      "state": {
       "children": [
        "IPY_MODEL_406d586c773545d0a90d58b2aa3b53b0",
        "IPY_MODEL_fa88906037d54feb97648fe34eab1404",
        "IPY_MODEL_4013be8bb6484d55be4b2946e1313fcc"
       ],
       "layout": "IPY_MODEL_0c4a33a32afe4446860d400c88a620ee"
      }
     },
     "1d887e83503645cbb5d2fcb425ce8d9e": {
      "model_module": "@jupyter-widgets/controls",
      "model_module_version": "2.0.0",
      "model_name": "FloatProgressModel",
      "state": {
       "bar_style": "success",
       "layout": "IPY_MODEL_6d4395175f3c45459741115f720f5350",
       "max": 1000,
       "style": "IPY_MODEL_702587861ab647f68d25f7c73d6878d3",
       "value": 1000
      }
     },
     "20039e6e0b72428b81833aa2cb2e760d": {
      "model_module": "@jupyter-widgets/controls",
      "model_module_version": "2.0.0",
      "model_name": "HTMLStyleModel",
      "state": {
       "description_width": "",
       "font_size": null,
       "text_color": null
      }
     },
     "23a2a679284541a29586a1d1e3bec0fe": {
      "model_module": "@jupyter-widgets/controls",
      "model_module_version": "2.0.0",
      "model_name": "HTMLStyleModel",
      "state": {
       "description_width": "",
       "font_size": null,
       "text_color": null
      }
     },
     "24fa8e32e2a347fa97a3877cce89511b": {
      "model_module": "@jupyter-widgets/controls",
      "model_module_version": "2.0.0",
      "model_name": "HTMLModel",
      "state": {
       "layout": "IPY_MODEL_5ad79638d1cb45bbb260c88199cfc4c9",
       "style": "IPY_MODEL_b4f0a6c6871a40b8aac20a232b4a3318",
       "value": "100%"
      }
     },
     "25c6f7d6dc8b449396993de7a4adc1c1": {
      "model_module": "@jupyter-widgets/controls",
      "model_module_version": "2.0.0",
      "model_name": "HBoxModel",
      "state": {
       "children": [
        "IPY_MODEL_d5fb1c4140e54c6cb39cc39f8c2c4624",
        "IPY_MODEL_aa716e0869c74464b28d15008e08af29",
        "IPY_MODEL_4db733f0b7b34ee0a4eac5e69fc97b11"
       ],
       "layout": "IPY_MODEL_2cff8b229201451f979b1e4eb1aeae7a"
      }
     },
     "283ccb6f6c754569bdbbcd2c0571a7df": {
      "model_module": "@jupyter-widgets/controls",
      "model_module_version": "2.0.0",
      "model_name": "ProgressStyleModel",
      "state": {
       "description_width": ""
      }
     },
     "2845c40e68884c11b321c763b3134a07": {
      "model_module": "@jupyter-widgets/base",
      "model_module_version": "2.0.0",
      "model_name": "LayoutModel",
      "state": {}
     },
     "28bf0a5d8e264740938749e05679c6e5": {
      "model_module": "@jupyter-widgets/controls",
      "model_module_version": "2.0.0",
      "model_name": "FloatProgressModel",
      "state": {
       "bar_style": "success",
       "layout": "IPY_MODEL_a33b3c7600e548ed9633529c5a9347a2",
       "max": 1000,
       "style": "IPY_MODEL_39d20f00a44743ff90d1aa1621f59457",
       "value": 1000
      }
     },
     "298830be8f3e4ad9acdbcb14ea542445": {
      "model_module": "@jupyter-widgets/controls",
      "model_module_version": "2.0.0",
      "model_name": "ProgressStyleModel",
      "state": {
       "description_width": ""
      }
     },
     "2ada02e445b44fe2a09c59e365b00f19": {
      "model_module": "@jupyter-widgets/base",
      "model_module_version": "2.0.0",
      "model_name": "LayoutModel",
      "state": {}
     },
     "2b1d173cf9a64e518df47c9b101037cb": {
      "model_module": "@jupyter-widgets/base",
      "model_module_version": "2.0.0",
      "model_name": "LayoutModel",
      "state": {}
     },
     "2b80f5312e824482972daf2c1a6b6645": {
      "model_module": "@jupyter-widgets/controls",
      "model_module_version": "2.0.0",
      "model_name": "FloatProgressModel",
      "state": {
       "bar_style": "success",
       "layout": "IPY_MODEL_be3f42e41a704fd0b78d9e51b1d399e1",
       "max": 2000,
       "style": "IPY_MODEL_91230f2bc64f448296b03341d2035ec3",
       "value": 2000
      }
     },
     "2bd42b17b2b7485a8c23411eb18521f1": {
      "model_module": "@jupyter-widgets/controls",
      "model_module_version": "2.0.0",
      "model_name": "HTMLModel",
      "state": {
       "layout": "IPY_MODEL_bfd197e9072e4f82a470fcfc24811454",
       "style": "IPY_MODEL_e73768bbe9924e92aa7c951acded194f",
       "value": "100%"
      }
     },
     "2c61e30da52048028c0dc95ce7582fd5": {
      "model_module": "@jupyter-widgets/controls",
      "model_module_version": "2.0.0",
      "model_name": "HTMLStyleModel",
      "state": {
       "description_width": "",
       "font_size": null,
       "text_color": null
      }
     },
     "2cff8b229201451f979b1e4eb1aeae7a": {
      "model_module": "@jupyter-widgets/base",
      "model_module_version": "2.0.0",
      "model_name": "LayoutModel",
      "state": {}
     },
     "2dffa9e3fb20455e9c8055a8604c6dc7": {
      "model_module": "@jupyter-widgets/controls",
      "model_module_version": "2.0.0",
      "model_name": "HBoxModel",
      "state": {
       "children": [
        "IPY_MODEL_7591c8388ca5463183de98b0850dba1b",
        "IPY_MODEL_ba9f0374de144f428fe3e23e73e0cffd",
        "IPY_MODEL_c323e930144549b48fd3869c2c29bb00"
       ],
       "layout": "IPY_MODEL_9cf16f62a9a44ee2b02808eaf39a6651"
      }
     },
     "2ead8c14227747ccbc1294fcaf3e8cfa": {
      "model_module": "@jupyter-widgets/controls",
      "model_module_version": "2.0.0",
      "model_name": "ProgressStyleModel",
      "state": {
       "description_width": ""
      }
     },
     "2f2a40e3ea1f4c4b9841f0055ba4476e": {
      "model_module": "@jupyter-widgets/controls",
      "model_module_version": "2.0.0",
      "model_name": "HTMLStyleModel",
      "state": {
       "description_width": "",
       "font_size": null,
       "text_color": null
      }
     },
     "2fa8715a3cea4cc9b95fa1e28014f9c6": {
      "model_module": "@jupyter-widgets/base",
      "model_module_version": "2.0.0",
      "model_name": "LayoutModel",
      "state": {}
     },
     "308b15b1bbec4d7798a94966d5feef46": {
      "model_module": "@jupyter-widgets/base",
      "model_module_version": "2.0.0",
      "model_name": "LayoutModel",
      "state": {}
     },
     "31b6bf90d0154c18930987017d728196": {
      "model_module": "@jupyter-widgets/base",
      "model_module_version": "2.0.0",
      "model_name": "LayoutModel",
      "state": {}
     },
     "3224f8bb788a4697ae9fa40b79461075": {
      "model_module": "@jupyter-widgets/controls",
      "model_module_version": "2.0.0",
      "model_name": "FloatProgressModel",
      "state": {
       "bar_style": "success",
       "layout": "IPY_MODEL_0dba35048d564f58925b01a60d606811",
       "max": 1000,
       "style": "IPY_MODEL_714b90b69cbd440ab92a15a6ea1e7b09",
       "value": 1000
      }
     },
     "32769d505a344ea6ad8705fdd24acdd3": {
      "model_module": "@jupyter-widgets/controls",
      "model_module_version": "2.0.0",
      "model_name": "FloatProgressModel",
      "state": {
       "bar_style": "success",
       "layout": "IPY_MODEL_0c0765cdb2134294a9df28730351f329",
       "max": 1000,
       "style": "IPY_MODEL_2ead8c14227747ccbc1294fcaf3e8cfa",
       "value": 1000
      }
     },
     "356c6128036b492f8b9ef6cc826bd5b0": {
      "model_module": "@jupyter-widgets/base",
      "model_module_version": "2.0.0",
      "model_name": "LayoutModel",
      "state": {}
     },
     "35db4dac3f7241248ed825581a035271": {
      "model_module": "@jupyter-widgets/controls",
      "model_module_version": "2.0.0",
      "model_name": "HTMLStyleModel",
      "state": {
       "description_width": "",
       "font_size": null,
       "text_color": null
      }
     },
     "36971272efdf49018f2403e8f12ab923": {
      "model_module": "@jupyter-widgets/controls",
      "model_module_version": "2.0.0",
      "model_name": "HTMLModel",
      "state": {
       "layout": "IPY_MODEL_fce67c0cb5674171a8d3508642e0f3a2",
       "style": "IPY_MODEL_23a2a679284541a29586a1d1e3bec0fe",
       "value": "100%"
      }
     },
     "37b46a3600a3442eabce52f9915c2c5f": {
      "model_module": "@jupyter-widgets/controls",
      "model_module_version": "2.0.0",
      "model_name": "HTMLStyleModel",
      "state": {
       "description_width": "",
       "font_size": null,
       "text_color": null
      }
     },
     "3961ef9561e949acb8103de90bdf72ba": {
      "model_module": "@jupyter-widgets/controls",
      "model_module_version": "2.0.0",
      "model_name": "FloatProgressModel",
      "state": {
       "bar_style": "success",
       "layout": "IPY_MODEL_c7d4f8542a76485ea78030e34f56d9a4",
       "max": 1000,
       "style": "IPY_MODEL_283ccb6f6c754569bdbbcd2c0571a7df",
       "value": 1000
      }
     },
     "39d20f00a44743ff90d1aa1621f59457": {
      "model_module": "@jupyter-widgets/controls",
      "model_module_version": "2.0.0",
      "model_name": "ProgressStyleModel",
      "state": {
       "description_width": ""
      }
     },
     "3af9f7800dd248238cad5a904c13d3de": {
      "model_module": "@jupyter-widgets/controls",
      "model_module_version": "2.0.0",
      "model_name": "HTMLModel",
      "state": {
       "layout": "IPY_MODEL_5694590e1c9b475dbfd9618a717f0f87",
       "style": "IPY_MODEL_3cf48a1739be44b6acfaf53fce936b33",
       "value": " 1000/1000 [00:00&lt;00:00, 4483.44cell/s]"
      }
     },
     "3c6c595c5d15493395d00fd7968bc066": {
      "model_module": "@jupyter-widgets/base",
      "model_module_version": "2.0.0",
      "model_name": "LayoutModel",
      "state": {}
     },
     "3cf48a1739be44b6acfaf53fce936b33": {
      "model_module": "@jupyter-widgets/controls",
      "model_module_version": "2.0.0",
      "model_name": "HTMLStyleModel",
      "state": {
       "description_width": "",
       "font_size": null,
       "text_color": null
      }
     },
     "3d048a03a8d14bb2890936cdd633673e": {
      "model_module": "@jupyter-widgets/controls",
      "model_module_version": "2.0.0",
      "model_name": "FloatProgressModel",
      "state": {
       "bar_style": "success",
       "layout": "IPY_MODEL_da7462f2816f45769feee29abea5094e",
       "max": 1000,
       "style": "IPY_MODEL_ff35d457242640c7bd6b6d94166dce6c",
       "value": 1000
      }
     },
     "3e1926afdd7b4e0aa1140583e911c5ca": {
      "model_module": "@jupyter-widgets/controls",
      "model_module_version": "2.0.0",
      "model_name": "HTMLStyleModel",
      "state": {
       "description_width": "",
       "font_size": null,
       "text_color": null
      }
     },
     "3e3ccbfac15b4bafaefd6f9143f150dd": {
      "model_module": "@jupyter-widgets/controls",
      "model_module_version": "2.0.0",
      "model_name": "HTMLStyleModel",
      "state": {
       "description_width": "",
       "font_size": null,
       "text_color": null
      }
     },
     "4013be8bb6484d55be4b2946e1313fcc": {
      "model_module": "@jupyter-widgets/controls",
      "model_module_version": "2.0.0",
      "model_name": "HTMLModel",
      "state": {
       "layout": "IPY_MODEL_60258482b925485189e214203428d9f3",
       "style": "IPY_MODEL_4b0310c1919d43008aa45857f28ff8ca",
       "value": " 1000/1000 [00:00&lt;00:00, 4587.38cell/s]"
      }
     },
     "406d586c773545d0a90d58b2aa3b53b0": {
      "model_module": "@jupyter-widgets/controls",
      "model_module_version": "2.0.0",
      "model_name": "HTMLModel",
      "state": {
       "layout": "IPY_MODEL_504419ea53b148ec8b5c8e24dd62e4f0",
       "style": "IPY_MODEL_c9da59157e394ffb89d7a3ac2e61feb3",
       "value": "100%"
      }
     },
     "4169e27fd2634e7893805987c8096461": {
      "model_module": "@jupyter-widgets/base",
      "model_module_version": "2.0.0",
      "model_name": "LayoutModel",
      "state": {}
     },
     "4300736ece5d4f04bbb989157e8a264c": {
      "model_module": "@jupyter-widgets/base",
      "model_module_version": "2.0.0",
      "model_name": "LayoutModel",
      "state": {}
     },
     "48081256830240bb98179132717504e6": {
      "model_module": "@jupyter-widgets/controls",
      "model_module_version": "2.0.0",
      "model_name": "HTMLStyleModel",
      "state": {
       "description_width": "",
       "font_size": null,
       "text_color": null
      }
     },
     "4955333b66b24cc8afbba461e694f0d8": {
      "model_module": "@jupyter-widgets/base",
      "model_module_version": "2.0.0",
      "model_name": "LayoutModel",
      "state": {}
     },
     "499ae0af6ae64862a8aa5d3ede71e825": {
      "model_module": "@jupyter-widgets/controls",
      "model_module_version": "2.0.0",
      "model_name": "HBoxModel",
      "state": {
       "children": [
        "IPY_MODEL_888b0a1fe03046db8c22ed41cb9e8dae",
        "IPY_MODEL_3224f8bb788a4697ae9fa40b79461075",
        "IPY_MODEL_86ef2df41ee14be08b0f946d239d7ee2"
       ],
       "layout": "IPY_MODEL_76da28195373431b9709d4da6cd98bda"
      }
     },
     "4adc66ac314c45159986c34e164999d5": {
      "model_module": "@jupyter-widgets/controls",
      "model_module_version": "2.0.0",
      "model_name": "ProgressStyleModel",
      "state": {
       "description_width": ""
      }
     },
     "4b0310c1919d43008aa45857f28ff8ca": {
      "model_module": "@jupyter-widgets/controls",
      "model_module_version": "2.0.0",
      "model_name": "HTMLStyleModel",
      "state": {
       "description_width": "",
       "font_size": null,
       "text_color": null
      }
     },
     "4cfc88f132f54905ab2369fcfdfc5ada": {
      "model_module": "@jupyter-widgets/base",
      "model_module_version": "2.0.0",
      "model_name": "LayoutModel",
      "state": {}
     },
     "4db733f0b7b34ee0a4eac5e69fc97b11": {
      "model_module": "@jupyter-widgets/controls",
      "model_module_version": "2.0.0",
      "model_name": "HTMLModel",
      "state": {
       "layout": "IPY_MODEL_e0d4b17ce6ae4f52a4976d1c5f8ea354",
       "style": "IPY_MODEL_cc89ac72531c496998151712c2b1c9e6",
       "value": " 1000/1000 [00:00&lt;00:00, 4460.49cell/s]"
      }
     },
     "504419ea53b148ec8b5c8e24dd62e4f0": {
      "model_module": "@jupyter-widgets/base",
      "model_module_version": "2.0.0",
      "model_name": "LayoutModel",
      "state": {}
     },
     "511512578e7d4c979a2448794a132e10": {
      "model_module": "@jupyter-widgets/controls",
      "model_module_version": "2.0.0",
      "model_name": "HBoxModel",
      "state": {
       "children": [
        "IPY_MODEL_f12f9d0615e745e8a3e4fa71db75fee3",
        "IPY_MODEL_3d048a03a8d14bb2890936cdd633673e",
        "IPY_MODEL_becdf386729a4d5ba2fbe7d0e8a75eb7"
       ],
       "layout": "IPY_MODEL_356c6128036b492f8b9ef6cc826bd5b0"
      }
     },
     "5367ac5e766e4085b9e2c666d9e0c6f5": {
      "model_module": "@jupyter-widgets/controls",
      "model_module_version": "2.0.0",
      "model_name": "HBoxModel",
      "state": {
       "children": [
        "IPY_MODEL_f93aab35799d445fa3f06e714db98ed6",
        "IPY_MODEL_1d887e83503645cbb5d2fcb425ce8d9e",
        "IPY_MODEL_b0f2ffb2116e436b920b52f74d828cbd"
       ],
       "layout": "IPY_MODEL_6ccf116e64d24879838b1bb553bc859a"
      }
     },
     "543fcf3259914242a7c61124f43db9e2": {
      "model_module": "@jupyter-widgets/controls",
      "model_module_version": "2.0.0",
      "model_name": "HTMLModel",
      "state": {
       "layout": "IPY_MODEL_ecad5fefeddd40a49065f00238f6e5f7",
       "style": "IPY_MODEL_872cdef66dd646a4b5c666872600c97e",
       "value": "100%"
      }
     },
     "55817b29d8ae430d970a18f222e7384b": {
      "model_module": "@jupyter-widgets/controls",
      "model_module_version": "2.0.0",
      "model_name": "HTMLModel",
      "state": {
       "layout": "IPY_MODEL_8fc37257177d4d89bb9d5011571b7e99",
       "style": "IPY_MODEL_48081256830240bb98179132717504e6",
       "value": " 92%"
      }
     },
     "560c38f8e5f1406390857509e0168992": {
      "model_module": "@jupyter-widgets/base",
      "model_module_version": "2.0.0",
      "model_name": "LayoutModel",
      "state": {}
     },
     "5694590e1c9b475dbfd9618a717f0f87": {
      "model_module": "@jupyter-widgets/base",
      "model_module_version": "2.0.0",
      "model_name": "LayoutModel",
      "state": {}
     },
     "56ce89a0065645ea95134a6aae779e13": {
      "model_module": "@jupyter-widgets/controls",
      "model_module_version": "2.0.0",
      "model_name": "ProgressStyleModel",
      "state": {
       "description_width": ""
      }
     },
     "5ab8ba053d594551a6015f0a76e97081": {
      "model_module": "@jupyter-widgets/controls",
      "model_module_version": "2.0.0",
      "model_name": "HTMLModel",
      "state": {
       "layout": "IPY_MODEL_4169e27fd2634e7893805987c8096461",
       "style": "IPY_MODEL_35db4dac3f7241248ed825581a035271",
       "value": "100%"
      }
     },
     "5ad79638d1cb45bbb260c88199cfc4c9": {
      "model_module": "@jupyter-widgets/base",
      "model_module_version": "2.0.0",
      "model_name": "LayoutModel",
      "state": {}
     },
     "5d613449fb2946d7ac80eafc88a596f5": {
      "model_module": "@jupyter-widgets/controls",
      "model_module_version": "2.0.0",
      "model_name": "FloatProgressModel",
      "state": {
       "bar_style": "success",
       "layout": "IPY_MODEL_2b1d173cf9a64e518df47c9b101037cb",
       "max": 1000,
       "style": "IPY_MODEL_c00dde9426d7480ab13badc108cfd8cd",
       "value": 1000
      }
     },
     "5ee57783d59e4414b7adb5b019a18ecb": {
      "model_module": "@jupyter-widgets/controls",
      "model_module_version": "2.0.0",
      "model_name": "HTMLModel",
      "state": {
       "layout": "IPY_MODEL_fa8ebe42d2a84741a795f3052ea9ac11",
       "style": "IPY_MODEL_989592118d13411485a38291fcc51178",
       "value": "100%"
      }
     },
     "5f2a9ee9972d461c883d26cfe0d39d20": {
      "model_module": "@jupyter-widgets/controls",
      "model_module_version": "2.0.0",
      "model_name": "HBoxModel",
      "state": {
       "children": [
        "IPY_MODEL_8c63c5e5e9bb4703ac1993209f802ff3",
        "IPY_MODEL_cef484c859bf47559798a2433a2c51a5",
        "IPY_MODEL_dbb63be4775f473a944dd2d874c12171"
       ],
       "layout": "IPY_MODEL_93b366ceb87e4ec5aa2710ee6c9141a1"
      }
     },
     "5fc16f4227e94d0e95cf688f61aa45f9": {
      "model_module": "@jupyter-widgets/controls",
      "model_module_version": "2.0.0",
      "model_name": "HTMLStyleModel",
      "state": {
       "description_width": "",
       "font_size": null,
       "text_color": null
      }
     },
     "60258482b925485189e214203428d9f3": {
      "model_module": "@jupyter-widgets/base",
      "model_module_version": "2.0.0",
      "model_name": "LayoutModel",
      "state": {}
     },
     "6460735c525f46ad817d386c500e6d4b": {
      "model_module": "@jupyter-widgets/controls",
      "model_module_version": "2.0.0",
      "model_name": "HTMLModel",
      "state": {
       "layout": "IPY_MODEL_af2ac2806fd346eabb59c398388cf2b5",
       "style": "IPY_MODEL_17c09bd8dfa44bb29c62b7253df14189",
       "value": "100%"
      }
     },
     "6475b03127a0436cb62f65858f6502ee": {
      "model_module": "@jupyter-widgets/controls",
      "model_module_version": "2.0.0",
      "model_name": "HBoxModel",
      "state": {
       "children": [
        "IPY_MODEL_7413f047e9aa4a40875745f2d6e87363",
        "IPY_MODEL_32769d505a344ea6ad8705fdd24acdd3",
        "IPY_MODEL_8ac8f87d416e4093bd82a7ddc03427e8"
       ],
       "layout": "IPY_MODEL_c27c557a6a35437d811527db8a32ddf2"
      }
     },
     "64e521b1afaa44be802ca62f244a70a9": {
      "model_module": "@jupyter-widgets/base",
      "model_module_version": "2.0.0",
      "model_name": "LayoutModel",
      "state": {}
     },
     "6703d4bebde94b00a313bf5582032ef6": {
      "model_module": "@jupyter-widgets/controls",
      "model_module_version": "2.0.0",
      "model_name": "FloatProgressModel",
      "state": {
       "bar_style": "success",
       "layout": "IPY_MODEL_b64c3e449cb141268051b5441721af69",
       "max": 1000,
       "style": "IPY_MODEL_78b9725c961444818f2bb5bd86dac7fa",
       "value": 1000
      }
     },
     "6760ead58141410cb39527cefab285a0": {
      "model_module": "@jupyter-widgets/base",
      "model_module_version": "2.0.0",
      "model_name": "LayoutModel",
      "state": {}
     },
     "67862c6c988c403aa126916aae2e520d": {
      "model_module": "@jupyter-widgets/base",
      "model_module_version": "2.0.0",
      "model_name": "LayoutModel",
      "state": {}
     },
     "67d894280a454880bf6b8090e95079c8": {
      "model_module": "@jupyter-widgets/base",
      "model_module_version": "2.0.0",
      "model_name": "LayoutModel",
      "state": {}
     },
     "687a9d8d99d345758fe1c2fb242d9247": {
      "model_module": "@jupyter-widgets/base",
      "model_module_version": "2.0.0",
      "model_name": "LayoutModel",
      "state": {}
     },
     "68b942ea089846e1bd887d2478682a8a": {
      "model_module": "@jupyter-widgets/controls",
      "model_module_version": "2.0.0",
      "model_name": "FloatProgressModel",
      "state": {
       "layout": "IPY_MODEL_560c38f8e5f1406390857509e0168992",
       "max": 1000,
       "style": "IPY_MODEL_e2bd93ecde3f4ffa8abfed840bf6e49b",
       "value": 924
      }
     },
     "69e83efac0c34ddab5b337c433e12393": {
      "model_module": "@jupyter-widgets/controls",
      "model_module_version": "2.0.0",
      "model_name": "HTMLStyleModel",
      "state": {
       "description_width": "",
       "font_size": null,
       "text_color": null
      }
     },
     "6a7c952ed4b241e6b737da76e5ad4665": {
      "model_module": "@jupyter-widgets/controls",
      "model_module_version": "2.0.0",
      "model_name": "HTMLStyleModel",
      "state": {
       "description_width": "",
       "font_size": null,
       "text_color": null
      }
     },
     "6afdb64ee2134af8b9c2ea8e72d33173": {
      "model_module": "@jupyter-widgets/base",
      "model_module_version": "2.0.0",
      "model_name": "LayoutModel",
      "state": {}
     },
     "6c47742988334c3aa10e894aafcaafab": {
      "model_module": "@jupyter-widgets/base",
      "model_module_version": "2.0.0",
      "model_name": "LayoutModel",
      "state": {}
     },
     "6ccf116e64d24879838b1bb553bc859a": {
      "model_module": "@jupyter-widgets/base",
      "model_module_version": "2.0.0",
      "model_name": "LayoutModel",
      "state": {}
     },
     "6d4395175f3c45459741115f720f5350": {
      "model_module": "@jupyter-widgets/base",
      "model_module_version": "2.0.0",
      "model_name": "LayoutModel",
      "state": {}
     },
     "6e38a302ae2a412a95c7fc8eff0cda5e": {
      "model_module": "@jupyter-widgets/base",
      "model_module_version": "2.0.0",
      "model_name": "LayoutModel",
      "state": {}
     },
     "6ea0d354097341aab14cc06e1594905d": {
      "model_module": "@jupyter-widgets/controls",
      "model_module_version": "2.0.0",
      "model_name": "FloatProgressModel",
      "state": {
       "bar_style": "success",
       "layout": "IPY_MODEL_4955333b66b24cc8afbba461e694f0d8",
       "max": 1000,
       "style": "IPY_MODEL_bd50e64623744bcaa51a2f1cd9c98228",
       "value": 1000
      }
     },
     "6fe5aefc84fb4c27b810639af8619284": {
      "model_module": "@jupyter-widgets/controls",
      "model_module_version": "2.0.0",
      "model_name": "HTMLStyleModel",
      "state": {
       "description_width": "",
       "font_size": null,
       "text_color": null
      }
     },
     "702587861ab647f68d25f7c73d6878d3": {
      "model_module": "@jupyter-widgets/controls",
      "model_module_version": "2.0.0",
      "model_name": "ProgressStyleModel",
      "state": {
       "description_width": ""
      }
     },
     "714b90b69cbd440ab92a15a6ea1e7b09": {
      "model_module": "@jupyter-widgets/controls",
      "model_module_version": "2.0.0",
      "model_name": "ProgressStyleModel",
      "state": {
       "description_width": ""
      }
     },
     "715efacba9d849e086d5c8e50962ba0d": {
      "model_module": "@jupyter-widgets/base",
      "model_module_version": "2.0.0",
      "model_name": "LayoutModel",
      "state": {}
     },
     "7351dcf7534a4f61b973c368cbf5e30a": {
      "model_module": "@jupyter-widgets/controls",
      "model_module_version": "2.0.0",
      "model_name": "HTMLStyleModel",
      "state": {
       "description_width": "",
       "font_size": null,
       "text_color": null
      }
     },
     "7413f047e9aa4a40875745f2d6e87363": {
      "model_module": "@jupyter-widgets/controls",
      "model_module_version": "2.0.0",
      "model_name": "HTMLModel",
      "state": {
       "layout": "IPY_MODEL_772afe1b33fa4c5eadfbdb226f90d912",
       "style": "IPY_MODEL_03bee7447bd740c4a215d7a01f9b08dc",
       "value": "100%"
      }
     },
     "7591c8388ca5463183de98b0850dba1b": {
      "model_module": "@jupyter-widgets/controls",
      "model_module_version": "2.0.0",
      "model_name": "HTMLModel",
      "state": {
       "layout": "IPY_MODEL_0a0ee5425d1f414cb481f092cd3220e8",
       "style": "IPY_MODEL_f53315ccf3af47c6a6ce0d0f3dd65dea",
       "value": "100%"
      }
     },
     "76da28195373431b9709d4da6cd98bda": {
      "model_module": "@jupyter-widgets/base",
      "model_module_version": "2.0.0",
      "model_name": "LayoutModel",
      "state": {}
     },
     "772afe1b33fa4c5eadfbdb226f90d912": {
      "model_module": "@jupyter-widgets/base",
      "model_module_version": "2.0.0",
      "model_name": "LayoutModel",
      "state": {}
     },
     "77e050d8ec5a4aeebb048bed16dce22b": {
      "model_module": "@jupyter-widgets/controls",
      "model_module_version": "2.0.0",
      "model_name": "HTMLStyleModel",
      "state": {
       "description_width": "",
       "font_size": null,
       "text_color": null
      }
     },
     "78b9725c961444818f2bb5bd86dac7fa": {
      "model_module": "@jupyter-widgets/controls",
      "model_module_version": "2.0.0",
      "model_name": "ProgressStyleModel",
      "state": {
       "description_width": ""
      }
     },
     "7b4ccb1511f041339ea885833a031f2b": {
      "model_module": "@jupyter-widgets/base",
      "model_module_version": "2.0.0",
      "model_name": "LayoutModel",
      "state": {}
     },
     "7c61768e4564481d8670deb6ae880895": {
      "model_module": "@jupyter-widgets/controls",
      "model_module_version": "2.0.0",
      "model_name": "HBoxModel",
      "state": {
       "children": [
        "IPY_MODEL_55817b29d8ae430d970a18f222e7384b",
        "IPY_MODEL_68b942ea089846e1bd887d2478682a8a",
        "IPY_MODEL_db50d85b48a1492a8299251c93d0c832"
       ],
       "layout": "IPY_MODEL_6c47742988334c3aa10e894aafcaafab"
      }
     },
     "7d9feddc50544a1087e77efba42ef3c1": {
      "model_module": "@jupyter-widgets/controls",
      "model_module_version": "2.0.0",
      "model_name": "HTMLModel",
      "state": {
       "layout": "IPY_MODEL_9febf4a013974afd91ef2f91215da342",
       "style": "IPY_MODEL_5fc16f4227e94d0e95cf688f61aa45f9",
       "value": "100%"
      }
     },
     "7eb087e499b24e47bf9d8efdd5e37f48": {
      "model_module": "@jupyter-widgets/controls",
      "model_module_version": "2.0.0",
      "model_name": "HTMLModel",
      "state": {
       "layout": "IPY_MODEL_7b4ccb1511f041339ea885833a031f2b",
       "style": "IPY_MODEL_c5f8bba650ac4ec4b454290bf6c0fed2",
       "value": " 1000/1000 [00:00&lt;00:00, 4535.33cell/s]"
      }
     },
     "8104b17cd1734730b2b2e83e458a6e3b": {
      "model_module": "@jupyter-widgets/base",
      "model_module_version": "2.0.0",
      "model_name": "LayoutModel",
      "state": {}
     },
     "83021d7e4dfd42588f7f8b128756dc64": {
      "model_module": "@jupyter-widgets/controls",
      "model_module_version": "2.0.0",
      "model_name": "ProgressStyleModel",
      "state": {
       "description_width": ""
      }
     },
     "83e37fc05a85430ea1eb8965a8daa6cc": {
      "model_module": "@jupyter-widgets/controls",
      "model_module_version": "2.0.0",
      "model_name": "ProgressStyleModel",
      "state": {
       "description_width": ""
      }
     },
     "86986a438e314bc496406cff0645796c": {
      "model_module": "@jupyter-widgets/base",
      "model_module_version": "2.0.0",
      "model_name": "LayoutModel",
      "state": {}
     },
     "86ef2df41ee14be08b0f946d239d7ee2": {
      "model_module": "@jupyter-widgets/controls",
      "model_module_version": "2.0.0",
      "model_name": "HTMLModel",
      "state": {
       "layout": "IPY_MODEL_2fa8715a3cea4cc9b95fa1e28014f9c6",
       "style": "IPY_MODEL_c357730732614c07a1f1b9ac68c8fb50",
       "value": " 1000/1000 [00:00&lt;00:00, 4566.35cell/s]"
      }
     },
     "872cdef66dd646a4b5c666872600c97e": {
      "model_module": "@jupyter-widgets/controls",
      "model_module_version": "2.0.0",
      "model_name": "HTMLStyleModel",
      "state": {
       "description_width": "",
       "font_size": null,
       "text_color": null
      }
     },
     "8738813a941f4a659e015632f8835502": {
      "model_module": "@jupyter-widgets/controls",
      "model_module_version": "2.0.0",
      "model_name": "HTMLModel",
      "state": {
       "layout": "IPY_MODEL_67862c6c988c403aa126916aae2e520d",
       "style": "IPY_MODEL_bc4d5d89110c4bf48e3f45fd50802f64",
       "value": " 1000/1000 [00:00&lt;00:00, 4501.93cell/s]"
      }
     },
     "888b0a1fe03046db8c22ed41cb9e8dae": {
      "model_module": "@jupyter-widgets/controls",
      "model_module_version": "2.0.0",
      "model_name": "HTMLModel",
      "state": {
       "layout": "IPY_MODEL_c849e24cdf2f4c0fa035f737656b6675",
       "style": "IPY_MODEL_b31f88d9ec854a71b112063ac478a305",
       "value": "100%"
      }
     },
     "888e998948e94273a298bad3e0a2e46e": {
      "model_module": "@jupyter-widgets/base",
      "model_module_version": "2.0.0",
      "model_name": "LayoutModel",
      "state": {}
     },
     "8ac8f87d416e4093bd82a7ddc03427e8": {
      "model_module": "@jupyter-widgets/controls",
      "model_module_version": "2.0.0",
      "model_name": "HTMLModel",
      "state": {
       "layout": "IPY_MODEL_ffe9eab589314568812c8fc8224e5358",
       "style": "IPY_MODEL_69e83efac0c34ddab5b337c433e12393",
       "value": " 1000/1000 [00:00&lt;00:00, 4700.21cell/s]"
      }
     },
     "8b60976d95ee4b70919d5a036e30472a": {
      "model_module": "@jupyter-widgets/base",
      "model_module_version": "2.0.0",
      "model_name": "LayoutModel",
      "state": {}
     },
     "8b785d02ecd240908eca758b4a06fb7a": {
      "model_module": "@jupyter-widgets/controls",
      "model_module_version": "2.0.0",
      "model_name": "HTMLModel",
      "state": {
       "layout": "IPY_MODEL_8cf681fba37c42b28c6245db7dd03354",
       "style": "IPY_MODEL_2c61e30da52048028c0dc95ce7582fd5",
       "value": " 1000/1000 [00:00&lt;00:00, 5060.89cell/s]"
      }
     },
     "8c63c5e5e9bb4703ac1993209f802ff3": {
      "model_module": "@jupyter-widgets/controls",
      "model_module_version": "2.0.0",
      "model_name": "HTMLModel",
      "state": {
       "layout": "IPY_MODEL_2ada02e445b44fe2a09c59e365b00f19",
       "style": "IPY_MODEL_3e1926afdd7b4e0aa1140583e911c5ca",
       "value": "100%"
      }
     },
     "8cf681fba37c42b28c6245db7dd03354": {
      "model_module": "@jupyter-widgets/base",
      "model_module_version": "2.0.0",
      "model_name": "LayoutModel",
      "state": {}
     },
     "8fc37257177d4d89bb9d5011571b7e99": {
      "model_module": "@jupyter-widgets/base",
      "model_module_version": "2.0.0",
      "model_name": "LayoutModel",
      "state": {}
     },
     "91230f2bc64f448296b03341d2035ec3": {
      "model_module": "@jupyter-widgets/controls",
      "model_module_version": "2.0.0",
      "model_name": "ProgressStyleModel",
      "state": {
       "description_width": ""
      }
     },
     "93b366ceb87e4ec5aa2710ee6c9141a1": {
      "model_module": "@jupyter-widgets/base",
      "model_module_version": "2.0.0",
      "model_name": "LayoutModel",
      "state": {}
     },
     "93c7c58480a74a59a865419333d68f6e": {
      "model_module": "@jupyter-widgets/controls",
      "model_module_version": "2.0.0",
      "model_name": "HTMLModel",
      "state": {
       "layout": "IPY_MODEL_b0fd8a330b9e4cdb9d4b489d9a18eee5",
       "style": "IPY_MODEL_6a7c952ed4b241e6b737da76e5ad4665",
       "value": " 1000/1000 [00:00&lt;00:00, 4579.95cell/s]"
      }
     },
     "950e5bd20903412b81e040ee0b574eda": {
      "model_module": "@jupyter-widgets/controls",
      "model_module_version": "2.0.0",
      "model_name": "HTMLModel",
      "state": {
       "layout": "IPY_MODEL_308b15b1bbec4d7798a94966d5feef46",
       "style": "IPY_MODEL_77e050d8ec5a4aeebb048bed16dce22b",
       "value": "100%"
      }
     },
     "95b48ede6a88438ab55bc2be48cee371": {
      "model_module": "@jupyter-widgets/controls",
      "model_module_version": "2.0.0",
      "model_name": "HTMLStyleModel",
      "state": {
       "description_width": "",
       "font_size": null,
       "text_color": null
      }
     },
     "989592118d13411485a38291fcc51178": {
      "model_module": "@jupyter-widgets/controls",
      "model_module_version": "2.0.0",
      "model_name": "HTMLStyleModel",
      "state": {
       "description_width": "",
       "font_size": null,
       "text_color": null
      }
     },
     "98f1ac16328f4253b046ca7aa4dd9c94": {
      "model_module": "@jupyter-widgets/base",
      "model_module_version": "2.0.0",
      "model_name": "LayoutModel",
      "state": {}
     },
     "9ab46dcfc58e458a8815bb5d1eb9a6a2": {
      "model_module": "@jupyter-widgets/controls",
      "model_module_version": "2.0.0",
      "model_name": "HBoxModel",
      "state": {
       "children": [
        "IPY_MODEL_5ee57783d59e4414b7adb5b019a18ecb",
        "IPY_MODEL_0aee9235f4eb4a779f23464a7790c773",
        "IPY_MODEL_0ab5645f394f4333983dbfcb2656a817"
       ],
       "layout": "IPY_MODEL_8104b17cd1734730b2b2e83e458a6e3b"
      }
     },
     "9cf16f62a9a44ee2b02808eaf39a6651": {
      "model_module": "@jupyter-widgets/base",
      "model_module_version": "2.0.0",
      "model_name": "LayoutModel",
      "state": {}
     },
     "9d539b5d9bdf4115948ef01197105fd9": {
      "model_module": "@jupyter-widgets/controls",
      "model_module_version": "2.0.0",
      "model_name": "ProgressStyleModel",
      "state": {
       "description_width": ""
      }
     },
     "9febf4a013974afd91ef2f91215da342": {
      "model_module": "@jupyter-widgets/base",
      "model_module_version": "2.0.0",
      "model_name": "LayoutModel",
      "state": {}
     },
     "a0a765e2522e4fe3b3e93a16b27e09c1": {
      "model_module": "@jupyter-widgets/controls",
      "model_module_version": "2.0.0",
      "model_name": "ProgressStyleModel",
      "state": {
       "description_width": ""
      }
     },
     "a32d63d49dd143d0a118b91c97db216b": {
      "model_module": "@jupyter-widgets/controls",
      "model_module_version": "2.0.0",
      "model_name": "FloatProgressModel",
      "state": {
       "bar_style": "success",
       "layout": "IPY_MODEL_aee85d763e6244b3ab0a2a49f12b47e2",
       "max": 1000,
       "style": "IPY_MODEL_298830be8f3e4ad9acdbcb14ea542445",
       "value": 1000
      }
     },
     "a33b3c7600e548ed9633529c5a9347a2": {
      "model_module": "@jupyter-widgets/base",
      "model_module_version": "2.0.0",
      "model_name": "LayoutModel",
      "state": {}
     },
     "a7cde032efb54779be716a348bcf4407": {
      "model_module": "@jupyter-widgets/controls",
      "model_module_version": "2.0.0",
      "model_name": "ProgressStyleModel",
      "state": {
       "description_width": ""
      }
     },
     "a99af10a4ff8405584e47f0c92e3aae4": {
      "model_module": "@jupyter-widgets/controls",
      "model_module_version": "2.0.0",
      "model_name": "HTMLModel",
      "state": {
       "layout": "IPY_MODEL_17f0fa5cf7584118bea0d9f8cb21ac8e",
       "style": "IPY_MODEL_cd77ea6efe7743a5ae4c3d2357e1c2f4",
       "value": " 1000/1000 [00:00&lt;00:00, 4770.97cell/s]"
      }
     },
     "aa716e0869c74464b28d15008e08af29": {
      "model_module": "@jupyter-widgets/controls",
      "model_module_version": "2.0.0",
      "model_name": "FloatProgressModel",
      "state": {
       "bar_style": "success",
       "layout": "IPY_MODEL_f4e76416452540f5a27e43d601ca2680",
       "max": 1000,
       "style": "IPY_MODEL_83021d7e4dfd42588f7f8b128756dc64",
       "value": 1000
      }
     },
     "aaf15b3505424e21a90fa3860e0119c6": {
      "model_module": "@jupyter-widgets/base",
      "model_module_version": "2.0.0",
      "model_name": "LayoutModel",
      "state": {}
     },
     "ad6abc2291c94776be6ce1db1f18f3a0": {
      "model_module": "@jupyter-widgets/controls",
      "model_module_version": "2.0.0",
      "model_name": "FloatProgressModel",
      "state": {
       "bar_style": "success",
       "layout": "IPY_MODEL_687a9d8d99d345758fe1c2fb242d9247",
       "max": 1000,
       "style": "IPY_MODEL_9d539b5d9bdf4115948ef01197105fd9",
       "value": 1000
      }
     },
     "ae8a99f3f1f04d56b237e1b1eba4d0c3": {
      "model_module": "@jupyter-widgets/controls",
      "model_module_version": "2.0.0",
      "model_name": "HTMLModel",
      "state": {
       "layout": "IPY_MODEL_4cfc88f132f54905ab2369fcfdfc5ada",
       "style": "IPY_MODEL_e2321f9ddf4f4dedafeb92876fc17315",
       "value": " 1000/1000 [00:00&lt;00:00, 4837.34cell/s]"
      }
     },
     "aee85d763e6244b3ab0a2a49f12b47e2": {
      "model_module": "@jupyter-widgets/base",
      "model_module_version": "2.0.0",
      "model_name": "LayoutModel",
      "state": {}
     },
     "aeec0222ff774d89a1562b8cada73e07": {
      "model_module": "@jupyter-widgets/base",
      "model_module_version": "2.0.0",
      "model_name": "LayoutModel",
      "state": {}
     },
     "af2ac2806fd346eabb59c398388cf2b5": {
      "model_module": "@jupyter-widgets/base",
      "model_module_version": "2.0.0",
      "model_name": "LayoutModel",
      "state": {}
     },
     "b0f2ffb2116e436b920b52f74d828cbd": {
      "model_module": "@jupyter-widgets/controls",
      "model_module_version": "2.0.0",
      "model_name": "HTMLModel",
      "state": {
       "layout": "IPY_MODEL_888e998948e94273a298bad3e0a2e46e",
       "style": "IPY_MODEL_2f2a40e3ea1f4c4b9841f0055ba4476e",
       "value": " 1000/1000 [00:00&lt;00:00, 4852.27cell/s]"
      }
     },
     "b0fd8a330b9e4cdb9d4b489d9a18eee5": {
      "model_module": "@jupyter-widgets/base",
      "model_module_version": "2.0.0",
      "model_name": "LayoutModel",
      "state": {}
     },
     "b1737ee5c2494d53995e907e9c84736f": {
      "model_module": "@jupyter-widgets/base",
      "model_module_version": "2.0.0",
      "model_name": "LayoutModel",
      "state": {}
     },
     "b31f88d9ec854a71b112063ac478a305": {
      "model_module": "@jupyter-widgets/controls",
      "model_module_version": "2.0.0",
      "model_name": "HTMLStyleModel",
      "state": {
       "description_width": "",
       "font_size": null,
       "text_color": null
      }
     },
     "b4f0a6c6871a40b8aac20a232b4a3318": {
      "model_module": "@jupyter-widgets/controls",
      "model_module_version": "2.0.0",
      "model_name": "HTMLStyleModel",
      "state": {
       "description_width": "",
       "font_size": null,
       "text_color": null
      }
     },
     "b5048c8f5b184ec1a05144a0e98afc80": {
      "model_module": "@jupyter-widgets/controls",
      "model_module_version": "2.0.0",
      "model_name": "HTMLStyleModel",
      "state": {
       "description_width": "",
       "font_size": null,
       "text_color": null
      }
     },
     "b5815702b5384e1b97ff9748a2fedff9": {
      "model_module": "@jupyter-widgets/controls",
      "model_module_version": "2.0.0",
      "model_name": "HTMLModel",
      "state": {
       "layout": "IPY_MODEL_6760ead58141410cb39527cefab285a0",
       "style": "IPY_MODEL_7351dcf7534a4f61b973c368cbf5e30a",
       "value": "100%"
      }
     },
     "b64c3e449cb141268051b5441721af69": {
      "model_module": "@jupyter-widgets/base",
      "model_module_version": "2.0.0",
      "model_name": "LayoutModel",
      "state": {}
     },
     "ba60d34930a04c61b0100c797da6e41f": {
      "model_module": "@jupyter-widgets/controls",
      "model_module_version": "2.0.0",
      "model_name": "HBoxModel",
      "state": {
       "children": [
        "IPY_MODEL_36971272efdf49018f2403e8f12ab923",
        "IPY_MODEL_ad6abc2291c94776be6ce1db1f18f3a0",
        "IPY_MODEL_8738813a941f4a659e015632f8835502"
       ],
       "layout": "IPY_MODEL_64e521b1afaa44be802ca62f244a70a9"
      }
     },
     "ba9f0374de144f428fe3e23e73e0cffd": {
      "model_module": "@jupyter-widgets/controls",
      "model_module_version": "2.0.0",
      "model_name": "FloatProgressModel",
      "state": {
       "bar_style": "success",
       "layout": "IPY_MODEL_6e38a302ae2a412a95c7fc8eff0cda5e",
       "max": 1000,
       "style": "IPY_MODEL_a0a765e2522e4fe3b3e93a16b27e09c1",
       "value": 1000
      }
     },
     "bc4d5d89110c4bf48e3f45fd50802f64": {
      "model_module": "@jupyter-widgets/controls",
      "model_module_version": "2.0.0",
      "model_name": "HTMLStyleModel",
      "state": {
       "description_width": "",
       "font_size": null,
       "text_color": null
      }
     },
     "bd50e64623744bcaa51a2f1cd9c98228": {
      "model_module": "@jupyter-widgets/controls",
      "model_module_version": "2.0.0",
      "model_name": "ProgressStyleModel",
      "state": {
       "description_width": ""
      }
     },
     "bd915ff4f40047fb91474bfd969ea2b1": {
      "model_module": "@jupyter-widgets/controls",
      "model_module_version": "2.0.0",
      "model_name": "HBoxModel",
      "state": {
       "children": [
        "IPY_MODEL_2bd42b17b2b7485a8c23411eb18521f1",
        "IPY_MODEL_f1f84c23201c49c3b59a9993f389a4f2",
        "IPY_MODEL_ae8a99f3f1f04d56b237e1b1eba4d0c3"
       ],
       "layout": "IPY_MODEL_ce3e7dffeae94b71a84438231b03417b"
      }
     },
     "be3f42e41a704fd0b78d9e51b1d399e1": {
      "model_module": "@jupyter-widgets/base",
      "model_module_version": "2.0.0",
      "model_name": "LayoutModel",
      "state": {}
     },
     "becdf386729a4d5ba2fbe7d0e8a75eb7": {
      "model_module": "@jupyter-widgets/controls",
      "model_module_version": "2.0.0",
      "model_name": "HTMLModel",
      "state": {
       "layout": "IPY_MODEL_98f1ac16328f4253b046ca7aa4dd9c94",
       "style": "IPY_MODEL_fd053cfaed2c4aa0b6a9ea7caf63ac80",
       "value": " 1000/1000 [00:00&lt;00:00, 4678.37cell/s]"
      }
     },
     "bf970dc254874e018f8c490b7fa81ef8": {
      "model_module": "@jupyter-widgets/base",
      "model_module_version": "2.0.0",
      "model_name": "LayoutModel",
      "state": {}
     },
     "bfd197e9072e4f82a470fcfc24811454": {
      "model_module": "@jupyter-widgets/base",
      "model_module_version": "2.0.0",
      "model_name": "LayoutModel",
      "state": {}
     },
     "c00dde9426d7480ab13badc108cfd8cd": {
      "model_module": "@jupyter-widgets/controls",
      "model_module_version": "2.0.0",
      "model_name": "ProgressStyleModel",
      "state": {
       "description_width": ""
      }
     },
     "c08f3d42095d4edeb189060708d279e3": {
      "model_module": "@jupyter-widgets/controls",
      "model_module_version": "2.0.0",
      "model_name": "HBoxModel",
      "state": {
       "children": [
        "IPY_MODEL_5ab8ba053d594551a6015f0a76e97081",
        "IPY_MODEL_5d613449fb2946d7ac80eafc88a596f5",
        "IPY_MODEL_e81d4d4432ba4bec9d0479490e5cbdde"
       ],
       "layout": "IPY_MODEL_d1549419026e40b9bb16b91c06b95815"
      }
     },
     "c27c557a6a35437d811527db8a32ddf2": {
      "model_module": "@jupyter-widgets/base",
      "model_module_version": "2.0.0",
      "model_name": "LayoutModel",
      "state": {}
     },
     "c323e930144549b48fd3869c2c29bb00": {
      "model_module": "@jupyter-widgets/controls",
      "model_module_version": "2.0.0",
      "model_name": "HTMLModel",
      "state": {
       "layout": "IPY_MODEL_07ef7c6fda9f4732b375b7b616a9ec4a",
       "style": "IPY_MODEL_6fe5aefc84fb4c27b810639af8619284",
       "value": " 1000/1000 [00:00&lt;00:00, 4627.82cell/s]"
      }
     },
     "c357730732614c07a1f1b9ac68c8fb50": {
      "model_module": "@jupyter-widgets/controls",
      "model_module_version": "2.0.0",
      "model_name": "HTMLStyleModel",
      "state": {
       "description_width": "",
       "font_size": null,
       "text_color": null
      }
     },
     "c4507a790f17401da197162b61fcf8c3": {
      "model_module": "@jupyter-widgets/base",
      "model_module_version": "2.0.0",
      "model_name": "LayoutModel",
      "state": {}
     },
     "c4bad892fb504d81a3c2c5c343a4fd6a": {
      "model_module": "@jupyter-widgets/base",
      "model_module_version": "2.0.0",
      "model_name": "LayoutModel",
      "state": {}
     },
     "c5f8bba650ac4ec4b454290bf6c0fed2": {
      "model_module": "@jupyter-widgets/controls",
      "model_module_version": "2.0.0",
      "model_name": "HTMLStyleModel",
      "state": {
       "description_width": "",
       "font_size": null,
       "text_color": null
      }
     },
     "c7d4f8542a76485ea78030e34f56d9a4": {
      "model_module": "@jupyter-widgets/base",
      "model_module_version": "2.0.0",
      "model_name": "LayoutModel",
      "state": {}
     },
     "c849e24cdf2f4c0fa035f737656b6675": {
      "model_module": "@jupyter-widgets/base",
      "model_module_version": "2.0.0",
      "model_name": "LayoutModel",
      "state": {}
     },
     "c87e816c8e1f457bb6c129e56f4126be": {
      "model_module": "@jupyter-widgets/controls",
      "model_module_version": "2.0.0",
      "model_name": "HTMLStyleModel",
      "state": {
       "description_width": "",
       "font_size": null,
       "text_color": null
      }
     },
     "c8d4c78a9a164b64bcc932720c1bffb2": {
      "model_module": "@jupyter-widgets/controls",
      "model_module_version": "2.0.0",
      "model_name": "HTMLStyleModel",
      "state": {
       "description_width": "",
       "font_size": null,
       "text_color": null
      }
     },
     "c92ff588d7c449d1bc38d450929910f7": {
      "model_module": "@jupyter-widgets/controls",
      "model_module_version": "2.0.0",
      "model_name": "HBoxModel",
      "state": {
       "children": [
        "IPY_MODEL_950e5bd20903412b81e040ee0b574eda",
        "IPY_MODEL_d06ee37244d54a30bff84ebc918d4675",
        "IPY_MODEL_8b785d02ecd240908eca758b4a06fb7a"
       ],
       "layout": "IPY_MODEL_d2dd5b1c13dd41debbae5e77810d76a6"
      }
     },
     "c9da59157e394ffb89d7a3ac2e61feb3": {
      "model_module": "@jupyter-widgets/controls",
      "model_module_version": "2.0.0",
      "model_name": "HTMLStyleModel",
      "state": {
       "description_width": "",
       "font_size": null,
       "text_color": null
      }
     },
     "cb8ed61c87434d3691a0e51e0d53db2c": {
      "model_module": "@jupyter-widgets/controls",
      "model_module_version": "2.0.0",
      "model_name": "HBoxModel",
      "state": {
       "children": [
        "IPY_MODEL_b5815702b5384e1b97ff9748a2fedff9",
        "IPY_MODEL_6703d4bebde94b00a313bf5582032ef6",
        "IPY_MODEL_a99af10a4ff8405584e47f0c92e3aae4"
       ],
       "layout": "IPY_MODEL_8b60976d95ee4b70919d5a036e30472a"
      }
     },
     "cbb65633610d4dbfb26045809199b986": {
      "model_module": "@jupyter-widgets/base",
      "model_module_version": "2.0.0",
      "model_name": "LayoutModel",
      "state": {}
     },
     "cc89ac72531c496998151712c2b1c9e6": {
      "model_module": "@jupyter-widgets/controls",
      "model_module_version": "2.0.0",
      "model_name": "HTMLStyleModel",
      "state": {
       "description_width": "",
       "font_size": null,
       "text_color": null
      }
     },
     "cd77ea6efe7743a5ae4c3d2357e1c2f4": {
      "model_module": "@jupyter-widgets/controls",
      "model_module_version": "2.0.0",
      "model_name": "HTMLStyleModel",
      "state": {
       "description_width": "",
       "font_size": null,
       "text_color": null
      }
     },
     "ce3e7dffeae94b71a84438231b03417b": {
      "model_module": "@jupyter-widgets/base",
      "model_module_version": "2.0.0",
      "model_name": "LayoutModel",
      "state": {}
     },
     "cef484c859bf47559798a2433a2c51a5": {
      "model_module": "@jupyter-widgets/controls",
      "model_module_version": "2.0.0",
      "model_name": "FloatProgressModel",
      "state": {
       "bar_style": "success",
       "layout": "IPY_MODEL_2845c40e68884c11b321c763b3134a07",
       "max": 1000,
       "style": "IPY_MODEL_83e37fc05a85430ea1eb8965a8daa6cc",
       "value": 1000
      }
     },
     "cfca3819bbee464088ce7154933954ec": {
      "model_module": "@jupyter-widgets/base",
      "model_module_version": "2.0.0",
      "model_name": "LayoutModel",
      "state": {}
     },
     "d06ee37244d54a30bff84ebc918d4675": {
      "model_module": "@jupyter-widgets/controls",
      "model_module_version": "2.0.0",
      "model_name": "FloatProgressModel",
      "state": {
       "bar_style": "success",
       "layout": "IPY_MODEL_bf970dc254874e018f8c490b7fa81ef8",
       "max": 1000,
       "style": "IPY_MODEL_4adc66ac314c45159986c34e164999d5",
       "value": 1000
      }
     },
     "d1549419026e40b9bb16b91c06b95815": {
      "model_module": "@jupyter-widgets/base",
      "model_module_version": "2.0.0",
      "model_name": "LayoutModel",
      "state": {}
     },
     "d1a91b1cb629438b99c86036b2af9e1d": {
      "model_module": "@jupyter-widgets/base",
      "model_module_version": "2.0.0",
      "model_name": "LayoutModel",
      "state": {}
     },
     "d2dd5b1c13dd41debbae5e77810d76a6": {
      "model_module": "@jupyter-widgets/base",
      "model_module_version": "2.0.0",
      "model_name": "LayoutModel",
      "state": {}
     },
     "d5fb1c4140e54c6cb39cc39f8c2c4624": {
      "model_module": "@jupyter-widgets/controls",
      "model_module_version": "2.0.0",
      "model_name": "HTMLModel",
      "state": {
       "layout": "IPY_MODEL_31b6bf90d0154c18930987017d728196",
       "style": "IPY_MODEL_c8d4c78a9a164b64bcc932720c1bffb2",
       "value": "100%"
      }
     },
     "d781fce1cfb44034a08a68cad1636283": {
      "model_module": "@jupyter-widgets/controls",
      "model_module_version": "2.0.0",
      "model_name": "HTMLModel",
      "state": {
       "layout": "IPY_MODEL_67d894280a454880bf6b8090e95079c8",
       "style": "IPY_MODEL_37b46a3600a3442eabce52f9915c2c5f",
       "value": " 1000/1000 [00:00&lt;00:00, 4766.47cell/s]"
      }
     },
     "d958e480be974c18bf0c989859e1d255": {
      "model_module": "@jupyter-widgets/controls",
      "model_module_version": "2.0.0",
      "model_name": "HBoxModel",
      "state": {
       "children": [
        "IPY_MODEL_7d9feddc50544a1087e77efba42ef3c1",
        "IPY_MODEL_3961ef9561e949acb8103de90bdf72ba",
        "IPY_MODEL_7eb087e499b24e47bf9d8efdd5e37f48"
       ],
       "layout": "IPY_MODEL_cfca3819bbee464088ce7154933954ec"
      }
     },
     "da7462f2816f45769feee29abea5094e": {
      "model_module": "@jupyter-widgets/base",
      "model_module_version": "2.0.0",
      "model_name": "LayoutModel",
      "state": {}
     },
     "db50d85b48a1492a8299251c93d0c832": {
      "model_module": "@jupyter-widgets/controls",
      "model_module_version": "2.0.0",
      "model_name": "HTMLModel",
      "state": {
       "layout": "IPY_MODEL_6afdb64ee2134af8b9c2ea8e72d33173",
       "style": "IPY_MODEL_19f666319b7643aaaf564f975fb42ee7",
       "value": " 924/1000 [00:16&lt;00:00, 4898.85cell/s]"
      }
     },
     "db55c5c43dda4035a6c2e68f899f4071": {
      "model_module": "@jupyter-widgets/base",
      "model_module_version": "2.0.0",
      "model_name": "LayoutModel",
      "state": {}
     },
     "dbb63be4775f473a944dd2d874c12171": {
      "model_module": "@jupyter-widgets/controls",
      "model_module_version": "2.0.0",
      "model_name": "HTMLModel",
      "state": {
       "layout": "IPY_MODEL_3c6c595c5d15493395d00fd7968bc066",
       "style": "IPY_MODEL_95b48ede6a88438ab55bc2be48cee371",
       "value": " 1000/1000 [00:00&lt;00:00, 4482.81cell/s]"
      }
     },
     "e0d4b17ce6ae4f52a4976d1c5f8ea354": {
      "model_module": "@jupyter-widgets/base",
      "model_module_version": "2.0.0",
      "model_name": "LayoutModel",
      "state": {}
     },
     "e2321f9ddf4f4dedafeb92876fc17315": {
      "model_module": "@jupyter-widgets/controls",
      "model_module_version": "2.0.0",
      "model_name": "HTMLStyleModel",
      "state": {
       "description_width": "",
       "font_size": null,
       "text_color": null
      }
     },
     "e2b051ddb91b4b21b159e06fe5093ca6": {
      "model_module": "@jupyter-widgets/base",
      "model_module_version": "2.0.0",
      "model_name": "LayoutModel",
      "state": {}
     },
     "e2bd93ecde3f4ffa8abfed840bf6e49b": {
      "model_module": "@jupyter-widgets/controls",
      "model_module_version": "2.0.0",
      "model_name": "ProgressStyleModel",
      "state": {
       "description_width": ""
      }
     },
     "e73768bbe9924e92aa7c951acded194f": {
      "model_module": "@jupyter-widgets/controls",
      "model_module_version": "2.0.0",
      "model_name": "HTMLStyleModel",
      "state": {
       "description_width": "",
       "font_size": null,
       "text_color": null
      }
     },
     "e81d4d4432ba4bec9d0479490e5cbdde": {
      "model_module": "@jupyter-widgets/controls",
      "model_module_version": "2.0.0",
      "model_name": "HTMLModel",
      "state": {
       "layout": "IPY_MODEL_d1a91b1cb629438b99c86036b2af9e1d",
       "style": "IPY_MODEL_3e3ccbfac15b4bafaefd6f9143f150dd",
       "value": " 1000/1000 [00:00&lt;00:00, 4765.25cell/s]"
      }
     },
     "ecad5fefeddd40a49065f00238f6e5f7": {
      "model_module": "@jupyter-widgets/base",
      "model_module_version": "2.0.0",
      "model_name": "LayoutModel",
      "state": {}
     },
     "f12f9d0615e745e8a3e4fa71db75fee3": {
      "model_module": "@jupyter-widgets/controls",
      "model_module_version": "2.0.0",
      "model_name": "HTMLModel",
      "state": {
       "layout": "IPY_MODEL_b1737ee5c2494d53995e907e9c84736f",
       "style": "IPY_MODEL_b5048c8f5b184ec1a05144a0e98afc80",
       "value": "100%"
      }
     },
     "f1f84c23201c49c3b59a9993f389a4f2": {
      "model_module": "@jupyter-widgets/controls",
      "model_module_version": "2.0.0",
      "model_name": "FloatProgressModel",
      "state": {
       "bar_style": "success",
       "layout": "IPY_MODEL_715efacba9d849e086d5c8e50962ba0d",
       "max": 1000,
       "style": "IPY_MODEL_1ceb16501bff4915b48cff3e124d3247",
       "value": 1000
      }
     },
     "f374a6297c3a457db628ac4b31d1fa76": {
      "model_module": "@jupyter-widgets/controls",
      "model_module_version": "2.0.0",
      "model_name": "HBoxModel",
      "state": {
       "children": [
        "IPY_MODEL_0a2b23a2aff94d7684d4b6900e14543f",
        "IPY_MODEL_2b80f5312e824482972daf2c1a6b6645",
        "IPY_MODEL_1be6380003514f6792bde398a6334047"
       ],
       "layout": "IPY_MODEL_e2b051ddb91b4b21b159e06fe5093ca6"
      }
     },
     "f44fb935160d42249819ccb439bdaa7f": {
      "model_module": "@jupyter-widgets/controls",
      "model_module_version": "2.0.0",
      "model_name": "HBoxModel",
      "state": {
       "children": [
        "IPY_MODEL_543fcf3259914242a7c61124f43db9e2",
        "IPY_MODEL_a32d63d49dd143d0a118b91c97db216b",
        "IPY_MODEL_3af9f7800dd248238cad5a904c13d3de"
       ],
       "layout": "IPY_MODEL_86986a438e314bc496406cff0645796c"
      }
     },
     "f4e76416452540f5a27e43d601ca2680": {
      "model_module": "@jupyter-widgets/base",
      "model_module_version": "2.0.0",
      "model_name": "LayoutModel",
      "state": {}
     },
     "f53315ccf3af47c6a6ce0d0f3dd65dea": {
      "model_module": "@jupyter-widgets/controls",
      "model_module_version": "2.0.0",
      "model_name": "HTMLStyleModel",
      "state": {
       "description_width": "",
       "font_size": null,
       "text_color": null
      }
     },
     "f93aab35799d445fa3f06e714db98ed6": {
      "model_module": "@jupyter-widgets/controls",
      "model_module_version": "2.0.0",
      "model_name": "HTMLModel",
      "state": {
       "layout": "IPY_MODEL_c4bad892fb504d81a3c2c5c343a4fd6a",
       "style": "IPY_MODEL_1192a4221e2e48d8b150efa73b3d056b",
       "value": "100%"
      }
     },
     "fa88906037d54feb97648fe34eab1404": {
      "model_module": "@jupyter-widgets/controls",
      "model_module_version": "2.0.0",
      "model_name": "FloatProgressModel",
      "state": {
       "bar_style": "success",
       "layout": "IPY_MODEL_055bf9715aef4d89b921e3e71abc3641",
       "max": 1000,
       "style": "IPY_MODEL_56ce89a0065645ea95134a6aae779e13",
       "value": 1000
      }
     },
     "fa8ebe42d2a84741a795f3052ea9ac11": {
      "model_module": "@jupyter-widgets/base",
      "model_module_version": "2.0.0",
      "model_name": "LayoutModel",
      "state": {}
     },
     "fce67c0cb5674171a8d3508642e0f3a2": {
      "model_module": "@jupyter-widgets/base",
      "model_module_version": "2.0.0",
      "model_name": "LayoutModel",
      "state": {}
     },
     "fd053cfaed2c4aa0b6a9ea7caf63ac80": {
      "model_module": "@jupyter-widgets/controls",
      "model_module_version": "2.0.0",
      "model_name": "HTMLStyleModel",
      "state": {
       "description_width": "",
       "font_size": null,
       "text_color": null
      }
     },
     "ff35d457242640c7bd6b6d94166dce6c": {
      "model_module": "@jupyter-widgets/controls",
      "model_module_version": "2.0.0",
      "model_name": "ProgressStyleModel",
      "state": {
       "description_width": ""
      }
     },
     "ffe9eab589314568812c8fc8224e5358": {
      "model_module": "@jupyter-widgets/base",
      "model_module_version": "2.0.0",
      "model_name": "LayoutModel",
      "state": {}
     }
    },
    "version_major": 2,
    "version_minor": 0
   }
  }
 },
 "nbformat": 4,
 "nbformat_minor": 5
}
