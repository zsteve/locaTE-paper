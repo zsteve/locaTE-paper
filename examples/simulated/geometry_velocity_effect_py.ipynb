{
 "cells": [
  {
   "cell_type": "code",
   "execution_count": 1,
   "id": "d3a11353-f165-40c2-a8c3-273ab523db1e",
   "metadata": {
    "tags": []
   },
   "outputs": [
    {
     "name": "stderr",
     "output_type": "stream",
     "text": [
      "2023-10-20 13:36:58.859211: I tensorflow/core/util/port.cc:110] oneDNN custom operations are on. You may see slightly different numerical results due to floating-point round-off errors from different computation orders. To turn them off, set the environment variable `TF_ENABLE_ONEDNN_OPTS=0`.\n",
      "2023-10-20 13:36:59.479302: I tensorflow/tsl/cuda/cudart_stub.cc:28] Could not find cuda drivers on your machine, GPU will not be used.\n",
      "2023-10-20 13:37:00.811423: I tensorflow/tsl/cuda/cudart_stub.cc:28] Could not find cuda drivers on your machine, GPU will not be used.\n",
      "2023-10-20 13:37:00.812530: I tensorflow/core/platform/cpu_feature_guard.cc:182] This TensorFlow binary is optimized to use available CPU instructions in performance-critical operations.\n",
      "To enable the following instructions: AVX2 AVX512F AVX512_VNNI FMA, in other operations, rebuild TensorFlow with the appropriate compiler flags.\n",
      "2023-10-20 13:37:02.887126: W tensorflow/compiler/tf2tensorrt/utils/py_utils.cc:38] TF-TRT Warning: Could not find TensorRT\n"
     ]
    }
   ],
   "source": [
    "import scanpy as sc\n",
    "import os\n",
    "import anndata as ad\n",
    "import cellrank as cr\n",
    "import numpy as np\n",
    "import scipy as sp"
   ]
  },
  {
   "cell_type": "code",
   "execution_count": 14,
   "id": "2118ae5e-4370-40e8-99b8-3ce09e4a3d3a",
   "metadata": {
    "tags": []
   },
   "outputs": [],
   "source": [
    "# DATA_PATH=\"../../data/simulated/Synthetic_1000/dyn-SW/dyn-SW-1000-2/\"\n",
    "# DATA_PATH=\"../../data/simulated/Synthetic_1000/dyn-LI/dyn-LI-1000-2/\"\n",
    "# DATA_PATH=\"../../data/simulated/Synthetic_1000/dyn-CY/dyn-CY-1000-2/\"\n",
    "DATA_PATH=\"/home/stephenz/stephenz/locaTE-paper/data/simulated/Curated/GSD/GSD-1000-2/\""
   ]
  },
  {
   "cell_type": "code",
   "execution_count": 15,
   "id": "a920fbb6-e47a-46c3-876a-695a2d595a1b",
   "metadata": {
    "tags": []
   },
   "outputs": [],
   "source": [
    "adata = ad.read_h5ad(os.path.join(DATA_PATH, \"anndata.h5ad\"))"
   ]
  },
  {
   "cell_type": "code",
   "execution_count": 16,
   "id": "74145876-6c5d-4fc7-b0f4-bd6eb9fc631b",
   "metadata": {
    "tags": []
   },
   "outputs": [],
   "source": [
    "k = adata.uns['neighbors']['params']['n_neighbors']"
   ]
  },
  {
   "cell_type": "code",
   "execution_count": 17,
   "id": "32a191b3-401f-4cef-929b-9363f85583e9",
   "metadata": {
    "tags": []
   },
   "outputs": [],
   "source": [
    "del adata.uns['neighbors']"
   ]
  },
  {
   "cell_type": "code",
   "execution_count": 18,
   "id": "d8bb058b-1346-42d0-87a8-d95860c50a3f",
   "metadata": {
    "tags": []
   },
   "outputs": [],
   "source": [
    "# dpt is true time, dpt_pseudotime is diffusion pseudotime\n",
    "adata.obsm[\"X_dpt\"] = adata.obs[\"dpt\"].to_numpy().reshape(-1, 1)"
   ]
  },
  {
   "cell_type": "code",
   "execution_count": 19,
   "id": "d6f9c67a-0374-4828-afef-466adb9625bc",
   "metadata": {
    "tags": []
   },
   "outputs": [],
   "source": [
    "sc.pp.neighbors(adata, k, use_rep = \"X_dpt\")"
   ]
  },
  {
   "cell_type": "code",
   "execution_count": 20,
   "id": "827835b5-3ee4-4840-8839-a64e4dea58ad",
   "metadata": {
    "tags": []
   },
   "outputs": [
    {
     "data": {
      "application/vnd.jupyter.widget-view+json": {
       "model_id": "382ab4ce580247d9b1578fa6826124bf",
       "version_major": 2,
       "version_minor": 0
      },
      "text/plain": [
       "  0%|          | 0/1000 [00:00<?, ?cell/s]"
      ]
     },
     "metadata": {},
     "output_type": "display_data"
    }
   ],
   "source": [
    "def compute_velocity_kernel(k, sigma):\n",
    "    # compute velocity-induced transition matrix with kernel k and bandwidth sigma\n",
    "    if sigma is None:\n",
    "        # median heuristic, see e.g. https://github.com/theislab/cellrank/blob/f6d281e62a5cee976d25973b5a5e4c1050f37429/cellrank/kernels/_velocity_kernel.py#L230 \n",
    "        logits_all = np.concatenate([k(adata.obsm[\"v\"].iloc[i, :].to_numpy().reshape(1, -1).astype(np.float64),\n",
    "                        (adata.X[adata.uns['neighbors']['connectivities'][i, :].indices, :] - adata.X[i, :]).astype(np.float64),\n",
    "                                softmax_scale =  1.0)[1] for i in range(adata.shape[0])])\n",
    "        sigma = 1/np.median(logits_all)\n",
    "    probs_all_fwd = [k(adata.obsm[\"v\"].iloc[i, :].to_numpy().reshape(1, -1).astype(np.float64),\n",
    "                    (adata.X[adata.uns['neighbors']['connectivities'][i, :].indices, :] - adata.X[i, :]).astype(np.float64),\n",
    "                    softmax_scale = sigma)[0] for i in range(adata.shape[0])]\n",
    "    P_velo = sp.sparse.csr_matrix(adata.uns['neighbors']['connectivities'].shape)\n",
    "    for i, p in enumerate(probs_all_fwd):\n",
    "        P_velo[i, adata.uns['neighbors']['connectivities'][i, :].indices] = p\n",
    "    return P_velo\n",
    "\n",
    "# apply velocity kernels \n",
    "for (k, sigma, kerneltype) in zip([cr.tl.kernels.DotProductScheme(), cr.tl.kernels.CorrelationScheme(), cr.tl.kernels.CosineScheme()],\n",
    "                            [None, None, None], [\"dot\", \"corr\", \"cos\"]):\n",
    "    adata.obsm[\"P_velo_%s\" % kerneltype] = compute_velocity_kernel(k, sigma)\n",
    "# diffusion pseudotime kernel\n",
    "k = cr.tl.kernels.PseudotimeKernel(adata, time_key = \"dpt_pseudotime\").compute_transition_matrix(threshold_scheme = \"soft\") \n",
    "adata.obsm[\"P_dpt\"] = k.transition_matrix"
   ]
  },
  {
   "cell_type": "code",
   "execution_count": 21,
   "id": "99c0e5d4-272b-4fe7-b063-8d648bbfeae4",
   "metadata": {
    "tags": []
   },
   "outputs": [
    {
     "data": {
      "text/plain": [
       "<1x1000 sparse matrix of type '<class 'numpy.float64'>'\n",
       "\twith 24 stored elements in Compressed Sparse Row format>"
      ]
     },
     "execution_count": 21,
     "metadata": {},
     "output_type": "execute_result"
    }
   ],
   "source": [
    "adata.obsm[\"P_velo_dot\"][0, :]"
   ]
  },
  {
   "cell_type": "code",
   "execution_count": 22,
   "id": "b4b45ee9-eb69-4d53-9586-4bc37a7332cf",
   "metadata": {
    "tags": []
   },
   "outputs": [
    {
     "name": "stdout",
     "output_type": "stream",
     "text": [
      "Writing transition matrix P_dpt...\n",
      "Writing transition matrix P_statot...\n",
      "Writing transition matrix P_statot_ent...\n",
      "Writing transition matrix P_velo_corr...\n",
      "Writing transition matrix P_velo_cos...\n",
      "Writing transition matrix P_velo_dot...\n"
     ]
    }
   ],
   "source": [
    "# save transition matrices\n",
    "for k in [x for x in adata.obsm.keys() if \"P_\" in x]:\n",
    "    print(\"Writing transition matrix %s...\" % k)\n",
    "    try:\n",
    "        np.save(os.path.join(DATA_PATH, f\"{k}_dpt_knn.npy\"), np.array(adata.obsm[k].todense()))\n",
    "    except:\n",
    "        np.save(os.path.join(DATA_PATH, f\"{k}_dpt_knn.npy\"), np.array(adata.obsm[k]))"
   ]
  },
  {
   "cell_type": "code",
   "execution_count": null,
   "id": "ce9709ba-c7d7-4a87-a0e4-ec4a898ccebb",
   "metadata": {},
   "outputs": [],
   "source": []
  },
  {
   "cell_type": "code",
   "execution_count": null,
   "id": "c79d6371-0774-486a-ae14-1633e2410072",
   "metadata": {},
   "outputs": [],
   "source": []
  }
 ],
 "metadata": {
  "kernelspec": {
   "display_name": "Python (py39)",
   "language": "python",
   "name": "py39"
  },
  "language_info": {
   "codemirror_mode": {
    "name": "ipython",
    "version": 3
   },
   "file_extension": ".py",
   "mimetype": "text/x-python",
   "name": "python",
   "nbconvert_exporter": "python",
   "pygments_lexer": "ipython3",
   "version": "3.9.12"
  },
  "widgets": {
   "application/vnd.jupyter.widget-state+json": {
    "state": {
     "040f8953f5cc4246b9eba1ac269f0636": {
      "model_module": "@jupyter-widgets/controls",
      "model_module_version": "2.0.0",
      "model_name": "HTMLStyleModel",
      "state": {
       "description_width": "",
       "font_size": null,
       "text_color": null
      }
     },
     "1b23e67c56464f87b2da33a9065f0850": {
      "model_module": "@jupyter-widgets/controls",
      "model_module_version": "2.0.0",
      "model_name": "ProgressStyleModel",
      "state": {
       "description_width": ""
      }
     },
     "1bb96fc7ad214c189c195bf9eeb3582d": {
      "model_module": "@jupyter-widgets/controls",
      "model_module_version": "2.0.0",
      "model_name": "HTMLModel",
      "state": {
       "layout": "IPY_MODEL_2f23825119c64d4b926543c607c414a1",
       "style": "IPY_MODEL_bca0cac1573b4084bbe0adb379dff5d9",
       "value": " 1000/1000 [00:00&lt;00:00, 3864.06cell/s]"
      }
     },
     "2d2aadd8e512412393709684bab5ced8": {
      "model_module": "@jupyter-widgets/base",
      "model_module_version": "2.0.0",
      "model_name": "LayoutModel",
      "state": {}
     },
     "2f23825119c64d4b926543c607c414a1": {
      "model_module": "@jupyter-widgets/base",
      "model_module_version": "2.0.0",
      "model_name": "LayoutModel",
      "state": {}
     },
     "3652a03694cb4cfd9c85e47b17bdd854": {
      "model_module": "@jupyter-widgets/base",
      "model_module_version": "2.0.0",
      "model_name": "LayoutModel",
      "state": {}
     },
     "382ab4ce580247d9b1578fa6826124bf": {
      "model_module": "@jupyter-widgets/controls",
      "model_module_version": "2.0.0",
      "model_name": "HBoxModel",
      "state": {
       "children": [
        "IPY_MODEL_8812ee37fdbc4a6f8bac1bf856c01c96",
        "IPY_MODEL_98e1f578f2184bcea7fc504f572ccd76",
        "IPY_MODEL_e8f75fbd7e2d4ff99d718d3d0ada46fd"
       ],
       "layout": "IPY_MODEL_2d2aadd8e512412393709684bab5ced8"
      }
     },
     "4babb0424a3f4a45a644c5fa7f102718": {
      "model_module": "@jupyter-widgets/base",
      "model_module_version": "2.0.0",
      "model_name": "LayoutModel",
      "state": {}
     },
     "628b62523fbf49d3b85e0187b0d76984": {
      "model_module": "@jupyter-widgets/controls",
      "model_module_version": "2.0.0",
      "model_name": "HTMLModel",
      "state": {
       "layout": "IPY_MODEL_80b7c018d69a418b8b68369b5ec2982d",
       "style": "IPY_MODEL_040f8953f5cc4246b9eba1ac269f0636",
       "value": "100%"
      }
     },
     "686647d9f4c64aff8328077ea96fde78": {
      "model_module": "@jupyter-widgets/controls",
      "model_module_version": "2.0.0",
      "model_name": "ProgressStyleModel",
      "state": {
       "description_width": ""
      }
     },
     "80b7c018d69a418b8b68369b5ec2982d": {
      "model_module": "@jupyter-widgets/base",
      "model_module_version": "2.0.0",
      "model_name": "LayoutModel",
      "state": {}
     },
     "83abf91e29244dedb562b76e985ac263": {
      "model_module": "@jupyter-widgets/controls",
      "model_module_version": "2.0.0",
      "model_name": "HTMLStyleModel",
      "state": {
       "description_width": "",
       "font_size": null,
       "text_color": null
      }
     },
     "8812ee37fdbc4a6f8bac1bf856c01c96": {
      "model_module": "@jupyter-widgets/controls",
      "model_module_version": "2.0.0",
      "model_name": "HTMLModel",
      "state": {
       "layout": "IPY_MODEL_4babb0424a3f4a45a644c5fa7f102718",
       "style": "IPY_MODEL_8d7fc02bc64b424ca2eac38dd9ce67d7",
       "value": "100%"
      }
     },
     "8d7fc02bc64b424ca2eac38dd9ce67d7": {
      "model_module": "@jupyter-widgets/controls",
      "model_module_version": "2.0.0",
      "model_name": "HTMLStyleModel",
      "state": {
       "description_width": "",
       "font_size": null,
       "text_color": null
      }
     },
     "98e1f578f2184bcea7fc504f572ccd76": {
      "model_module": "@jupyter-widgets/controls",
      "model_module_version": "2.0.0",
      "model_name": "FloatProgressModel",
      "state": {
       "bar_style": "success",
       "layout": "IPY_MODEL_a535a6d96d9a438dbcb0a0043571a9a7",
       "max": 1000,
       "style": "IPY_MODEL_686647d9f4c64aff8328077ea96fde78",
       "value": 1000
      }
     },
     "9f5c20c01c26444e9d3c29a19f100fc0": {
      "model_module": "@jupyter-widgets/controls",
      "model_module_version": "2.0.0",
      "model_name": "FloatProgressModel",
      "state": {
       "bar_style": "success",
       "layout": "IPY_MODEL_dec941d72d434220acb2f9ea89277915",
       "max": 1000,
       "style": "IPY_MODEL_1b23e67c56464f87b2da33a9065f0850",
       "value": 1000
      }
     },
     "a535a6d96d9a438dbcb0a0043571a9a7": {
      "model_module": "@jupyter-widgets/base",
      "model_module_version": "2.0.0",
      "model_name": "LayoutModel",
      "state": {}
     },
     "bca0cac1573b4084bbe0adb379dff5d9": {
      "model_module": "@jupyter-widgets/controls",
      "model_module_version": "2.0.0",
      "model_name": "HTMLStyleModel",
      "state": {
       "description_width": "",
       "font_size": null,
       "text_color": null
      }
     },
     "bf658e1e0373417295899d4d0a4a3b1e": {
      "model_module": "@jupyter-widgets/controls",
      "model_module_version": "2.0.0",
      "model_name": "HBoxModel",
      "state": {
       "children": [
        "IPY_MODEL_628b62523fbf49d3b85e0187b0d76984",
        "IPY_MODEL_9f5c20c01c26444e9d3c29a19f100fc0",
        "IPY_MODEL_1bb96fc7ad214c189c195bf9eeb3582d"
       ],
       "layout": "IPY_MODEL_3652a03694cb4cfd9c85e47b17bdd854"
      }
     },
     "dec941d72d434220acb2f9ea89277915": {
      "model_module": "@jupyter-widgets/base",
      "model_module_version": "2.0.0",
      "model_name": "LayoutModel",
      "state": {}
     },
     "e41eb59c988849df8f6040cdf658ba2e": {
      "model_module": "@jupyter-widgets/base",
      "model_module_version": "2.0.0",
      "model_name": "LayoutModel",
      "state": {}
     },
     "e8f75fbd7e2d4ff99d718d3d0ada46fd": {
      "model_module": "@jupyter-widgets/controls",
      "model_module_version": "2.0.0",
      "model_name": "HTMLModel",
      "state": {
       "layout": "IPY_MODEL_e41eb59c988849df8f6040cdf658ba2e",
       "style": "IPY_MODEL_83abf91e29244dedb562b76e985ac263",
       "value": " 1000/1000 [00:00&lt;00:00, 4892.27cell/s]"
      }
     }
    },
    "version_major": 2,
    "version_minor": 0
   }
  }
 },
 "nbformat": 4,
 "nbformat_minor": 5
}
